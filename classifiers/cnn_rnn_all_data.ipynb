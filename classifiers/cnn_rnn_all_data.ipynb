{
  "nbformat": 4,
  "nbformat_minor": 0,
  "metadata": {
    "colab": {
      "provenance": []
    },
    "kernelspec": {
      "name": "python3",
      "display_name": "Python 3"
    },
    "language_info": {
      "name": "python"
    },
    "gpuClass": "standard",
    "accelerator": "GPU"
  },
  "cells": [
    {
      "cell_type": "code",
      "execution_count": 1,
      "metadata": {
        "colab": {
          "base_uri": "https://localhost:8080/"
        },
        "id": "yvAyBlc9YZ-z",
        "outputId": "9618476b-f02f-4360-bd56-6a843fde663a"
      },
      "outputs": [
        {
          "output_type": "stream",
          "name": "stdout",
          "text": [
            "Drive already mounted at /content/drive; to attempt to forcibly remount, call drive.mount(\"/content/drive\", force_remount=True).\n"
          ]
        }
      ],
      "source": [
        "import numpy as np\n",
        "import pandas as pd\n",
        "import keras\n",
        "from keras.models import Sequential,  Model\n",
        "from keras.layers import Dense, Dropout, Activation, Flatten, Bidirectional, Conv2D, MaxPooling2D, Lambda, MaxPool2D, BatchNormalization, Input, concatenate,Reshape, LSTM, CuDNNLSTM\n",
        "from keras.utils import np_utils\n",
        "from keras.preprocessing.image import ImageDataGenerator\n",
        "from keras.optimizers import RMSprop\n",
        "from keras.callbacks import Callback, EarlyStopping, ReduceLROnPlateau, ModelCheckpoint\n",
        "from keras.utils.np_utils import to_categorical\n",
        "from sklearn.preprocessing import LabelEncoder\n",
        "from sklearn.model_selection import train_test_split\n",
        "from sklearn.metrics import confusion_matrix\n",
        "from sklearn.metrics import accuracy_score\n",
        "import xml.etree.ElementTree as ET\n",
        "import sklearn\n",
        "import itertools\n",
        "import cv2\n",
        "import scipy\n",
        "import os\n",
        "import csv\n",
        "import matplotlib.pyplot as plt\n",
        "%matplotlib inline\n",
        "from tqdm import tqdm\n",
        "import seaborn as sns\n",
        "from google.colab import drive\n",
        "import tensorflow as tf\n",
        "import pickle\n",
        "\n",
        "drive.mount('/content/drive')"
      ]
    },
    {
      "cell_type": "code",
      "source": [
        "%cd drive/MyDrive/ECE-176"
      ],
      "metadata": {
        "colab": {
          "base_uri": "https://localhost:8080/"
        },
        "id": "gDETzZNkc_9s",
        "outputId": "52d77df0-0b29-4865-f350-52bb344b9f71"
      },
      "execution_count": 2,
      "outputs": [
        {
          "output_type": "stream",
          "name": "stdout",
          "text": [
            "/content/drive/.shortcut-targets-by-id/1nocF8OwSC30SO-c6lZ_zjX725MCTIjid/ECE-176\n"
          ]
        }
      ]
    },
    {
      "cell_type": "code",
      "source": [
        "basePath = os.getcwd()"
      ],
      "metadata": {
        "id": "O6MKDCgbdAAd"
      },
      "execution_count": 3,
      "outputs": []
    },
    {
      "cell_type": "code",
      "source": [
        "# Helper Functions\n",
        "\n",
        "def fetch_data(path_to_folder1, path_to_folder2, path_to_folder3, path_to_folder4, label_dict):\n",
        "  # define lists to hold image data and corresponding labels\n",
        "  data = []\n",
        "  labels = []\n",
        "\n",
        "  # loop through each folder and read images\n",
        "  for folder in [path_to_folder1, path_to_folder2, path_to_folder3, path_to_folder4]:\n",
        "      for filename in os.listdir(folder):\n",
        "          img = cv2.imread(os.path.join(folder, filename))\n",
        "          if img is not None:\n",
        "              # resize image if needed\n",
        "              # img = cv2.resize(img, (256, 256))\n",
        "              # img = cv2.resize(img, (80, 60))\n",
        "              img = cv2.resize(img, dsize=(80,60), interpolation=cv2.INTER_CUBIC)\n",
        "              # convert image to numpy array and append to data list\n",
        "              data.append(np.array(img))\n",
        "              # get label from folder name and append to labels list\n",
        "              label = label_dict[os.path.basename(folder)]\n",
        "              labels.append(label)\n",
        "\n",
        "  data, labels = np.array(data), np.array(labels)\n",
        "  # data = np.transpose(data, (0, 3, 1, 2)) # rearranges shape from (369, 256, 256, 3) to (369, 3, 256, 256)\n",
        "\n",
        "  return data, labels"
      ],
      "metadata": {
        "id": "6k8LeRtmdAC1"
      },
      "execution_count": 4,
      "outputs": []
    },
    {
      "cell_type": "code",
      "source": [
        "# Helper Functions  Learning Curves and Confusion Matrix\n",
        "\n",
        "\n",
        "def rgb_to_grayscale(input):\n",
        "    \"\"\"Convert an RGB image to grayscale by averaging across color channels.\"\"\"\n",
        "    return tf.reduce_mean(input, axis=3)\n",
        "\n",
        "def rgb_to_grayscale_output_shape(input_shape):\n",
        "    return input_shape[:-1]\n",
        "\n",
        "class MetricsCheckpoint(Callback):\n",
        "    \"\"\"Callback that saves metrics after each epoch\"\"\"\n",
        "    def __init__(self, savepath):\n",
        "        super(MetricsCheckpoint, self).__init__()\n",
        "        self.savepath = savepath\n",
        "        self.history = {}\n",
        "    def on_epoch_end(self, epoch, logs=None):\n",
        "        for k, v in logs.items():\n",
        "            self.history.setdefault(k, []).append(v)\n",
        "        np.save(self.savepath, self.history)\n",
        "\n",
        "def plotKerasLearningCurve():\n",
        "    plt.figure(figsize=(10,5))\n",
        "    metrics = np.load('logs.npy')[()]\n",
        "    filt = ['acc'] # try to add 'loss' to see the loss learning curve\n",
        "    for k in filter(lambda x : np.any([kk in x for kk in filt]), metrics.keys()):\n",
        "        l = np.array(metrics[k])\n",
        "        plt.plot(l, c= 'r' if 'val' not in k else 'b', label='val' if 'val' in k else 'train')\n",
        "        x = np.argmin(l) if 'loss' in k else np.argmax(l)\n",
        "        y = l[x]\n",
        "        plt.scatter(x,y, lw=0, alpha=0.25, s=100, c='r' if 'val' not in k else 'b')\n",
        "        plt.text(x, y, '{} = {:.4f}'.format(x,y), size='15', color= 'r' if 'val' not in k else 'b')   \n",
        "    plt.legend(loc=4)\n",
        "    plt.axis([0, None, None, None]);\n",
        "    plt.grid()\n",
        "    plt.xlabel('Number of epochs')\n",
        "    plt.ylabel('Accuracy')\n",
        "\n",
        "def plot_confusion_matrix(cm, classes,\n",
        "                          normalize=False,\n",
        "                          title='Confusion matrix',\n",
        "                          cmap=plt.cm.Blues):\n",
        "#This function prints and plots the confusion matrix.\n",
        "#Normalization can be applied by setting `normalize=True`.\n",
        "\n",
        "    plt.figure(figsize = (5,5))\n",
        "    plt.imshow(cm, interpolation='nearest', cmap=cmap)\n",
        "    plt.title(title)\n",
        "    plt.colorbar()\n",
        "    tick_marks = np.arange(len(classes))\n",
        "    plt.xticks(tick_marks, classes, rotation=90)\n",
        "    plt.yticks(tick_marks, classes)\n",
        "    if normalize:\n",
        "        cm = cm.astype('float') / cm.sum(axis=1)[:, np.newaxis]\n",
        "\n",
        "    thresh = cm.max() / 2.\n",
        "    for i, j in itertools.product(range(cm.shape[0]), range(cm.shape[1])):\n",
        "        plt.text(j, i, cm[i, j],\n",
        "                 horizontalalignment=\"center\",\n",
        "                 color=\"white\" if cm[i, j] > thresh else \"black\")\n",
        "    plt.tight_layout()\n",
        "    plt.ylabel('True label')\n",
        "    plt.xlabel('Predicted label')\n",
        "\n",
        "def plot_learning_curve(history):\n",
        "    plt.figure(figsize=(8,8))\n",
        "    plt.subplot(1,2,1)\n",
        "    plt.plot(history.history['accuracy'])\n",
        "    plt.plot(history.history['val_accuracy'])\n",
        "    plt.title('model accuracy')\n",
        "    plt.ylabel('accuracy')\n",
        "    plt.xlabel('epoch')\n",
        "    plt.legend(['train', 'test'], loc='upper left')\n",
        "    # plt.savefig('./accuracy_curve.png')\n",
        "    #plt.clf()\n",
        "    # summarize history for loss\n",
        "    plt.subplot(1,2,2)\n",
        "    plt.plot(history.history['loss'])\n",
        "    plt.plot(history.history['val_loss'])\n",
        "    plt.title('model loss')\n",
        "    plt.ylabel('loss')\n",
        "    plt.xlabel('epoch')\n",
        "    plt.legend(['train', 'test'], loc='upper left')\n",
        "    # plt.savefig('./loss_curve.png')\n",
        "\n",
        "def shuffle_data(data, labels):\n",
        "  '''shuffle data and labels together'''\n",
        "\n",
        "  indices = np.arange(len(data))\n",
        "  np.random.shuffle(indices)\n",
        "  data = data[indices]\n",
        "  labels = labels[indices]\n",
        "\n",
        "  return data, labels"
      ],
      "metadata": {
        "id": "bcczFHmwdAFc"
      },
      "execution_count": 5,
      "outputs": []
    },
    {
      "cell_type": "code",
      "source": [
        "# # Load original Data\n",
        "# p1 = basePath + '/dataset-master/JPEGImages/classes/EOSINOPHIL'\n",
        "# p2 = basePath + '/dataset-master/JPEGImages/classes/LYMPHOCYTE'\n",
        "# p3 =  basePath + '/dataset-master/JPEGImages/classes/MONOCYTE'\n",
        "# p4 =  basePath + '/dataset-master/JPEGImages/classes/NEUTROPHIL'\n",
        "\n",
        "# # define dictionary to map folder name to label\n",
        "# label_dict = {'EOSINOPHIL': 0, 'LYMPHOCYTE': 1, 'MONOCYTE': 2, 'NEUTROPHIL': 3}\n",
        "# num_classes = 4\n",
        "\n",
        "# data_loaded, labels_loaded = fetch_data(p1, p2, p3, p4, label_dict)"
      ],
      "metadata": {
        "id": "Nu2SSanidsX5"
      },
      "execution_count": 6,
      "outputs": []
    },
    {
      "cell_type": "code",
      "source": [
        "# Load augmented data\n",
        "p1 = basePath + '/dataset-master/GAN AUGMENTED DATA/eos'\n",
        "p2 = basePath + '/dataset-master/GAN AUGMENTED DATA/lymph'\n",
        "p3 =  basePath + '/dataset-master/GAN AUGMENTED DATA/mono'\n",
        "p4 =  basePath + '/dataset-master/GAN AUGMENTED DATA/neutro'\n",
        "\n",
        "# define dictionary to map folder name to label\n",
        "label_dict = {'eos': 0, 'lymph': 1, 'mono': 2, 'neutro': 3}\n",
        "num_classes = 4\n",
        "\n",
        "data_augment, labels_augment = fetch_data(p1, p2, p3, p4, label_dict)"
      ],
      "metadata": {
        "id": "qTM26qiwdyth"
      },
      "execution_count": 7,
      "outputs": []
    },
    {
      "cell_type": "code",
      "source": [
        "# data_loaded.shape, data_augment.shape"
      ],
      "metadata": {
        "id": "gmWEgDyC9P-O"
      },
      "execution_count": 8,
      "outputs": []
    },
    {
      "cell_type": "code",
      "source": [
        "# data_total = np.concatenate((data_loaded, data_augment), axis=0)\n",
        "# labels_total = np.concatenate((labels_loaded, labels_augment), axis=0)\n",
        "\n",
        "# data_total.shape, labels_total.shape"
      ],
      "metadata": {
        "id": "AAxjxdH0eg-o"
      },
      "execution_count": 9,
      "outputs": []
    },
    {
      "cell_type": "code",
      "source": [
        "# Shuffle data and convert labels to one hot encodings\n",
        "\n",
        "# data, labels = shuffle_data(data_total, labels_total)\n",
        "# data, labels = shuffle_data(data_loaded, labels_loaded)\n",
        "data, labels = shuffle_data(data_augment, labels_augment)\n",
        "\n",
        "labels = to_categorical(labels, num_classes = 4)\n",
        "print('data shape: ', data.shape)\n",
        "print('labels shape: ', labels.shape)"
      ],
      "metadata": {
        "colab": {
          "base_uri": "https://localhost:8080/"
        },
        "id": "0k-HdzvUesgo",
        "outputId": "74a356a0-ff45-4e74-ae80-57e4330957e0"
      },
      "execution_count": 10,
      "outputs": [
        {
          "output_type": "stream",
          "name": "stdout",
          "text": [
            "data shape:  (1200, 60, 80, 3)\n",
            "labels shape:  (1200, 4)\n"
          ]
        }
      ]
    },
    {
      "cell_type": "code",
      "source": [
        "# split data and labels into training, validation, and testing sets\n",
        "xtrain, xtest, ytrain, ytest = train_test_split(data, labels, test_size=0.15, random_state=42)\n",
        "xtrain, xval, ytrain, yval = train_test_split(xtrain, ytrain, test_size=0.15, random_state=42)\n",
        "\n",
        "# print the shapes of the training and testing sets ~ all y's are one hot encoded\n",
        "print('xtrain shape:', xtrain.shape)\n",
        "print('ytrain shape:', ytrain.shape)\n",
        "print('xval shape:', xval.shape)\n",
        "print('yval shape:', yval.shape)\n",
        "print('xtest shape:', xtest.shape)\n",
        "print('ytest shape:', ytest.shape)"
      ],
      "metadata": {
        "colab": {
          "base_uri": "https://localhost:8080/"
        },
        "id": "-x3CIF_QenSz",
        "outputId": "ae2d9b3d-9f20-4f97-beaa-135bc7441728"
      },
      "execution_count": 11,
      "outputs": [
        {
          "output_type": "stream",
          "name": "stdout",
          "text": [
            "xtrain shape: (867, 60, 80, 3)\n",
            "ytrain shape: (867, 4)\n",
            "xval shape: (153, 60, 80, 3)\n",
            "yval shape: (153, 4)\n",
            "xtest shape: (180, 60, 80, 3)\n",
            "ytest shape: (180, 4)\n"
          ]
        }
      ]
    },
    {
      "cell_type": "code",
      "source": [
        "def runCNNRNNAugment(x_train,y_train,x_val,y_val, stride, epochs, bsize):\n",
        "\n",
        "    batch_size = bsize\n",
        "    num_classes = 4\n",
        "    img_rows,img_cols=60,80\n",
        "    input_shape = (img_rows, img_cols, 3)\n",
        "    input_tensor = Input(shape=input_shape)\n",
        "\n",
        "    # Creating CNN\n",
        "    modelcnn = Sequential()\n",
        "    modelcnn.add(Conv2D(32, kernel_size=(3, 3),\n",
        "                     activation='relu',\n",
        "                     input_shape=input_shape,strides=stride))\n",
        "    modelcnn.add(Conv2D(64, (3, 3), activation='relu'))\n",
        "    modelcnn.add(Conv2D(64, (3, 3), activation='relu'))\n",
        "    modelcnn.add(MaxPooling2D(pool_size=(2, 2)))\n",
        "    modelcnn.add(Dropout(0.25))\n",
        "    modelcnn.add(Flatten())\n",
        "    cnn_output = modelcnn(input_tensor)\n",
        "    \n",
        "    # Creating RNN    \n",
        "    modelrnn = Lambda(rgb_to_grayscale, rgb_to_grayscale_output_shape)(input_tensor)\n",
        "    #modelrnn = Bidirectional(LSTM(64, return_sequences=True, dropout=0.25, recurrent_dropout=0.25))(modelrnn)\n",
        "    #rnn_output = Bidirectional(LSTM(64, dropout=0.25, recurrent_dropout=0.25))(modelrnn)\n",
        "    modelrnn = Bidirectional(CuDNNLSTM(64, return_sequences=True))(modelrnn)\n",
        "  #  modelrnn = Dropout(0.25)(modelrnn)\n",
        "    rnn_output = Bidirectional(CuDNNLSTM(64))(modelrnn)\n",
        "    rnn_output = Dropout(0.25)(rnn_output)\n",
        "\n",
        "    # Merging both cnn bottleneck and rnn's output wise element wise multiplication\n",
        "    merge_layer = concatenate([cnn_output, rnn_output])\n",
        "    last_process = Dense(128, activation='relu')(merge_layer)\n",
        "    last_process = Dropout(0.5)(last_process)\n",
        "    output_tensor = Dense(num_classes, activation='softmax')(last_process)\n",
        "    model = Model(inputs=input_tensor, outputs=output_tensor)\n",
        "    model.compile(loss=keras.losses.categorical_crossentropy, \n",
        "                  optimizer=keras.optimizers.Adam(), \n",
        "                  metrics=['accuracy']) \n",
        "    \n",
        "    datagen = ImageDataGenerator(\n",
        "     #    featurewise_center=False,  # set input mean to 0 over the dataset\n",
        "      #   samplewise_center=False,  # set each sample mean to 0\n",
        "       #  featurewise_std_normalization=False,  # divide inputs by std of the dataset\n",
        "        # samplewise_std_normalization=False,  # divide each input by its std\n",
        "         #zca_whitening=False,  # apply ZCA whitening\n",
        "         rotation_range=5,  # randomly rotate images in the range (degrees, 0 to 180)\n",
        "        # width_shift_range=0.1,  # randomly shift images horizontally (fraction of total width)\n",
        "         #height_shift_range=0.1,  # randomly shift images vertically (fraction of total height)\n",
        "         horizontal_flip=True,  # randomly flip images\n",
        "         #vertical_flip=True\n",
        "         )  # randomly flip images\n",
        "\n",
        "\n",
        "    history = model.fit_generator(datagen.flow(x_train,y_train, batch_size=32),\n",
        "                        steps_per_epoch=len(x_train) / 32, epochs=epochs, validation_data = [x_val, y_val],callbacks = [MetricsCheckpoint('logs')])\n",
        "\n",
        "    return model, history"
      ],
      "metadata": {
        "id": "ck6BPuqgd1vi"
      },
      "execution_count": 24,
      "outputs": []
    },
    {
      "cell_type": "code",
      "source": [
        "bsize = 128\n",
        "epochs = 60\n",
        "stride = 1\n",
        "trained_model, hist = runCNNRNNAugment(xtrain, ytrain, xval, yval, stride, epochs, bsize)"
      ],
      "metadata": {
        "colab": {
          "base_uri": "https://localhost:8080/"
        },
        "id": "tyeRwgn-d-Lj",
        "outputId": "3728c831-ee25-47d9-c048-3721457c39b1"
      },
      "execution_count": 26,
      "outputs": [
        {
          "output_type": "stream",
          "name": "stdout",
          "text": [
            "Epoch 1/60\n"
          ]
        },
        {
          "output_type": "stream",
          "name": "stderr",
          "text": [
            "<ipython-input-24-f81c97dd3ae6>:54: UserWarning: `Model.fit_generator` is deprecated and will be removed in a future version. Please use `Model.fit`, which supports generators.\n",
            "  history = model.fit_generator(datagen.flow(x_train,y_train, batch_size=32),\n"
          ]
        },
        {
          "output_type": "stream",
          "name": "stdout",
          "text": [
            "27/27 [==============================] - 5s 74ms/step - loss: 56.2491 - accuracy: 0.3241 - val_loss: 1.1595 - val_accuracy: 0.5098\n",
            "Epoch 2/60\n",
            "27/27 [==============================] - 1s 53ms/step - loss: 1.0828 - accuracy: 0.5559 - val_loss: 0.8621 - val_accuracy: 0.6340\n",
            "Epoch 3/60\n",
            "27/27 [==============================] - 1s 51ms/step - loss: 0.8629 - accuracy: 0.6759 - val_loss: 0.7713 - val_accuracy: 0.7386\n",
            "Epoch 4/60\n",
            "27/27 [==============================] - 1s 53ms/step - loss: 0.7074 - accuracy: 0.7301 - val_loss: 0.7418 - val_accuracy: 0.6863\n",
            "Epoch 5/60\n",
            "27/27 [==============================] - 1s 52ms/step - loss: 0.6436 - accuracy: 0.7301 - val_loss: 0.6760 - val_accuracy: 0.7647\n",
            "Epoch 6/60\n",
            "27/27 [==============================] - 2s 86ms/step - loss: 0.6434 - accuracy: 0.7428 - val_loss: 0.6530 - val_accuracy: 0.7647\n",
            "Epoch 7/60\n",
            "27/27 [==============================] - 2s 71ms/step - loss: 0.6033 - accuracy: 0.7739 - val_loss: 0.6815 - val_accuracy: 0.7712\n",
            "Epoch 8/60\n",
            "27/27 [==============================] - 1s 51ms/step - loss: 0.5817 - accuracy: 0.7855 - val_loss: 0.7162 - val_accuracy: 0.7843\n",
            "Epoch 9/60\n",
            "27/27 [==============================] - 1s 51ms/step - loss: 0.5467 - accuracy: 0.7774 - val_loss: 0.7164 - val_accuracy: 0.7582\n",
            "Epoch 10/60\n",
            "27/27 [==============================] - 1s 52ms/step - loss: 0.5031 - accuracy: 0.8051 - val_loss: 0.6424 - val_accuracy: 0.7843\n",
            "Epoch 11/60\n",
            "27/27 [==============================] - 2s 55ms/step - loss: 0.4730 - accuracy: 0.8339 - val_loss: 0.6796 - val_accuracy: 0.7451\n",
            "Epoch 12/60\n",
            "27/27 [==============================] - 1s 51ms/step - loss: 0.4526 - accuracy: 0.8201 - val_loss: 0.6941 - val_accuracy: 0.7647\n",
            "Epoch 13/60\n",
            "27/27 [==============================] - 2s 59ms/step - loss: 0.4730 - accuracy: 0.8131 - val_loss: 0.6573 - val_accuracy: 0.7451\n",
            "Epoch 14/60\n",
            "27/27 [==============================] - 2s 74ms/step - loss: 0.4809 - accuracy: 0.8155 - val_loss: 0.6667 - val_accuracy: 0.7712\n",
            "Epoch 15/60\n",
            "27/27 [==============================] - 1s 52ms/step - loss: 0.4386 - accuracy: 0.8304 - val_loss: 0.6172 - val_accuracy: 0.7843\n",
            "Epoch 16/60\n",
            "27/27 [==============================] - 1s 54ms/step - loss: 0.4267 - accuracy: 0.8351 - val_loss: 0.6618 - val_accuracy: 0.7712\n",
            "Epoch 17/60\n",
            "27/27 [==============================] - 1s 52ms/step - loss: 0.4650 - accuracy: 0.8016 - val_loss: 0.5830 - val_accuracy: 0.8105\n",
            "Epoch 18/60\n",
            "27/27 [==============================] - 1s 53ms/step - loss: 0.3956 - accuracy: 0.8616 - val_loss: 0.5929 - val_accuracy: 0.7908\n",
            "Epoch 19/60\n",
            "27/27 [==============================] - 2s 56ms/step - loss: 0.3912 - accuracy: 0.8408 - val_loss: 0.6393 - val_accuracy: 0.8105\n",
            "Epoch 20/60\n",
            "27/27 [==============================] - 2s 79ms/step - loss: 0.3563 - accuracy: 0.8766 - val_loss: 0.6352 - val_accuracy: 0.7843\n",
            "Epoch 21/60\n",
            "27/27 [==============================] - 3s 107ms/step - loss: 0.3974 - accuracy: 0.8454 - val_loss: 0.6627 - val_accuracy: 0.7712\n",
            "Epoch 22/60\n",
            "27/27 [==============================] - 2s 80ms/step - loss: 0.3493 - accuracy: 0.8547 - val_loss: 0.5941 - val_accuracy: 0.7778\n",
            "Epoch 23/60\n",
            "27/27 [==============================] - 1s 53ms/step - loss: 0.3548 - accuracy: 0.8478 - val_loss: 0.6727 - val_accuracy: 0.7974\n",
            "Epoch 24/60\n",
            "27/27 [==============================] - 2s 55ms/step - loss: 0.3687 - accuracy: 0.8535 - val_loss: 0.6438 - val_accuracy: 0.7908\n",
            "Epoch 25/60\n",
            "27/27 [==============================] - 1s 52ms/step - loss: 0.3435 - accuracy: 0.8593 - val_loss: 0.5708 - val_accuracy: 0.8039\n",
            "Epoch 26/60\n",
            "27/27 [==============================] - 1s 54ms/step - loss: 0.3692 - accuracy: 0.8627 - val_loss: 0.6574 - val_accuracy: 0.8039\n",
            "Epoch 27/60\n",
            "27/27 [==============================] - 1s 55ms/step - loss: 0.3533 - accuracy: 0.8639 - val_loss: 0.6183 - val_accuracy: 0.7908\n",
            "Epoch 28/60\n",
            "27/27 [==============================] - 1s 53ms/step - loss: 0.3239 - accuracy: 0.8789 - val_loss: 0.5925 - val_accuracy: 0.7974\n",
            "Epoch 29/60\n",
            "27/27 [==============================] - 2s 68ms/step - loss: 0.3811 - accuracy: 0.8478 - val_loss: 0.5743 - val_accuracy: 0.7778\n",
            "Epoch 30/60\n",
            "27/27 [==============================] - 2s 75ms/step - loss: 0.3484 - accuracy: 0.8685 - val_loss: 0.6408 - val_accuracy: 0.7974\n",
            "Epoch 31/60\n",
            "27/27 [==============================] - 1s 53ms/step - loss: 0.3787 - accuracy: 0.8662 - val_loss: 0.5679 - val_accuracy: 0.8039\n",
            "Epoch 32/60\n",
            "27/27 [==============================] - 1s 53ms/step - loss: 0.3160 - accuracy: 0.8800 - val_loss: 0.7345 - val_accuracy: 0.7843\n",
            "Epoch 33/60\n",
            "27/27 [==============================] - 1s 54ms/step - loss: 0.3308 - accuracy: 0.8789 - val_loss: 0.5826 - val_accuracy: 0.8039\n",
            "Epoch 34/60\n",
            "27/27 [==============================] - 1s 53ms/step - loss: 0.2636 - accuracy: 0.8973 - val_loss: 0.5642 - val_accuracy: 0.8039\n",
            "Epoch 35/60\n",
            "27/27 [==============================] - 1s 53ms/step - loss: 0.2866 - accuracy: 0.8870 - val_loss: 0.6229 - val_accuracy: 0.7974\n",
            "Epoch 36/60\n",
            "27/27 [==============================] - 1s 53ms/step - loss: 0.2728 - accuracy: 0.8881 - val_loss: 0.6458 - val_accuracy: 0.7908\n",
            "Epoch 37/60\n",
            "27/27 [==============================] - 2s 72ms/step - loss: 0.2793 - accuracy: 0.8916 - val_loss: 0.6752 - val_accuracy: 0.7974\n",
            "Epoch 38/60\n",
            "27/27 [==============================] - 2s 84ms/step - loss: 0.2661 - accuracy: 0.9008 - val_loss: 0.5892 - val_accuracy: 0.7908\n",
            "Epoch 39/60\n",
            "27/27 [==============================] - 1s 53ms/step - loss: 0.2969 - accuracy: 0.8904 - val_loss: 0.6571 - val_accuracy: 0.8105\n",
            "Epoch 40/60\n",
            "27/27 [==============================] - 1s 53ms/step - loss: 0.2824 - accuracy: 0.8939 - val_loss: 0.6782 - val_accuracy: 0.8105\n",
            "Epoch 41/60\n",
            "27/27 [==============================] - 1s 54ms/step - loss: 0.2356 - accuracy: 0.9077 - val_loss: 0.6916 - val_accuracy: 0.8235\n",
            "Epoch 42/60\n",
            "27/27 [==============================] - 1s 52ms/step - loss: 0.2491 - accuracy: 0.9158 - val_loss: 0.7230 - val_accuracy: 0.8170\n",
            "Epoch 43/60\n",
            "27/27 [==============================] - 1s 54ms/step - loss: 0.2677 - accuracy: 0.9054 - val_loss: 0.6353 - val_accuracy: 0.8235\n",
            "Epoch 44/60\n",
            "27/27 [==============================] - 2s 55ms/step - loss: 0.2299 - accuracy: 0.9204 - val_loss: 0.8069 - val_accuracy: 0.8170\n",
            "Epoch 45/60\n",
            "27/27 [==============================] - 2s 69ms/step - loss: 0.2520 - accuracy: 0.9135 - val_loss: 0.7475 - val_accuracy: 0.8366\n",
            "Epoch 46/60\n",
            "27/27 [==============================] - 3s 92ms/step - loss: 0.2422 - accuracy: 0.9262 - val_loss: 0.7149 - val_accuracy: 0.8039\n",
            "Epoch 47/60\n",
            "27/27 [==============================] - 3s 103ms/step - loss: 0.2762 - accuracy: 0.9054 - val_loss: 0.7282 - val_accuracy: 0.8039\n",
            "Epoch 48/60\n",
            "27/27 [==============================] - 1s 52ms/step - loss: 0.2331 - accuracy: 0.9077 - val_loss: 0.6401 - val_accuracy: 0.8170\n",
            "Epoch 49/60\n",
            "27/27 [==============================] - 1s 54ms/step - loss: 0.2030 - accuracy: 0.9250 - val_loss: 0.7014 - val_accuracy: 0.8235\n",
            "Epoch 50/60\n",
            "27/27 [==============================] - 1s 52ms/step - loss: 0.2233 - accuracy: 0.9054 - val_loss: 0.6626 - val_accuracy: 0.7974\n",
            "Epoch 51/60\n",
            "27/27 [==============================] - 1s 53ms/step - loss: 0.2395 - accuracy: 0.9227 - val_loss: 0.7333 - val_accuracy: 0.7974\n",
            "Epoch 52/60\n",
            "27/27 [==============================] - 1s 53ms/step - loss: 0.2436 - accuracy: 0.9123 - val_loss: 0.7500 - val_accuracy: 0.8170\n",
            "Epoch 53/60\n",
            "27/27 [==============================] - 2s 89ms/step - loss: 0.2024 - accuracy: 0.9308 - val_loss: 0.6709 - val_accuracy: 0.8301\n",
            "Epoch 54/60\n",
            "27/27 [==============================] - 3s 96ms/step - loss: 0.1791 - accuracy: 0.9377 - val_loss: 0.8288 - val_accuracy: 0.8170\n",
            "Epoch 55/60\n",
            "27/27 [==============================] - 1s 52ms/step - loss: 0.2215 - accuracy: 0.9066 - val_loss: 0.7133 - val_accuracy: 0.7974\n",
            "Epoch 56/60\n",
            "27/27 [==============================] - 1s 52ms/step - loss: 0.1928 - accuracy: 0.9319 - val_loss: 0.7755 - val_accuracy: 0.8039\n",
            "Epoch 57/60\n",
            "27/27 [==============================] - 1s 52ms/step - loss: 0.1987 - accuracy: 0.9193 - val_loss: 0.7942 - val_accuracy: 0.8105\n",
            "Epoch 58/60\n",
            "27/27 [==============================] - 1s 54ms/step - loss: 0.3026 - accuracy: 0.8847 - val_loss: 0.7111 - val_accuracy: 0.8170\n",
            "Epoch 59/60\n",
            "27/27 [==============================] - 1s 52ms/step - loss: 0.2239 - accuracy: 0.9146 - val_loss: 0.8801 - val_accuracy: 0.8170\n",
            "Epoch 60/60\n",
            "27/27 [==============================] - 1s 54ms/step - loss: 0.2441 - accuracy: 0.9077 - val_loss: 0.8698 - val_accuracy: 0.8301\n"
          ]
        }
      ]
    },
    {
      "cell_type": "code",
      "source": [
        "score = trained_model.evaluate(xtrain, ytrain, verbose=0)\n",
        "print('\\nKeras CNN #1C - accuracy:', score[1],'\\n')\n",
        "print('Train loss:', score[0])\n",
        "print('Train accuracy:', score[1])\n",
        "\n",
        "y_pred = trained_model.predict(xtrain)\n",
        "map_characters = label_dict\n",
        "print('\\n', sklearn.metrics.classification_report(np.where(ytrain > 0)[1], np.argmax(y_pred, axis=1), target_names=list(map_characters.keys())), sep='')    \n",
        "Y_pred_classes = np.argmax(y_pred,axis=1) \n",
        "Y_true = np.argmax(ytrain,axis=1)\n",
        "# plotKerasLearningCurve()\n",
        "# plt.show()  \n",
        "plot_learning_curve(hist)\n",
        "# plt.show()\n",
        "confusion_mtx = confusion_matrix(Y_true, Y_pred_classes) \n",
        "plot_confusion_matrix(confusion_mtx, classes = list(label_dict.values())) \n",
        "plt.show()"
      ],
      "metadata": {
        "colab": {
          "base_uri": "https://localhost:8080/",
          "height": 1000
        },
        "id": "r9rF2qN5AT4U",
        "outputId": "9f7903d3-c19e-4b95-ae7e-e9c9685785ef"
      },
      "execution_count": 27,
      "outputs": [
        {
          "output_type": "stream",
          "name": "stdout",
          "text": [
            "\n",
            "Keras CNN #1C - accuracy: 0.9884659647941589 \n",
            "\n",
            "Train loss: 0.06638481467962265\n",
            "Train accuracy: 0.9884659647941589\n",
            "28/28 [==============================] - 1s 9ms/step\n",
            "\n",
            "              precision    recall  f1-score   support\n",
            "\n",
            "         eos       1.00      0.97      0.98       222\n",
            "       lymph       1.00      0.99      0.99       212\n",
            "        mono       1.00      1.00      1.00       218\n",
            "      neutro       0.96      1.00      0.98       215\n",
            "\n",
            "    accuracy                           0.99       867\n",
            "   macro avg       0.99      0.99      0.99       867\n",
            "weighted avg       0.99      0.99      0.99       867\n",
            "\n"
          ]
        },
        {
          "output_type": "display_data",
          "data": {
            "text/plain": [
              "<Figure size 576x576 with 2 Axes>"
            ],
            "image/png": "[encoded data removed]"
          },
          "metadata": {
            "needs_background": "light"
          }
        },
        {
          "output_type": "display_data",
          "data": {
            "text/plain": [
              "<Figure size 360x360 with 2 Axes>"
            ],
            "image/png": "[encoded data removed]"
          },
          "metadata": {
            "needs_background": "light"
          }
        }
      ]
    },
    {
      "cell_type": "code",
      "source": [
        "# Test set results\n",
        "score = trained_model.evaluate(xtest, ytest, verbose=0)\n",
        "print('\\nKeras CNN #1C - accuracy:', score[1],'\\n')\n",
        "print('Test loss:', score[0])\n",
        "print('Test accuracy:', score[1])\n",
        "\n",
        "y_pred = trained_model.predict(xtest)\n",
        "map_characters = label_dict\n",
        "print('\\n', sklearn.metrics.classification_report(np.where(ytest > 0)[1], np.argmax(y_pred, axis=1), target_names=list(map_characters.keys())), sep='')    \n",
        "Y_pred_classes = np.argmax(y_pred,axis=1) \n",
        "Y_true = np.argmax(ytest,axis=1)\n",
        "# plotKerasLearningCurve()\n",
        "# plt.show()  \n",
        "# plot_learning_curve(hist)\n",
        "# plt.show()\n",
        "confusion_mtx = confusion_matrix(Y_true, Y_pred_classes) \n",
        "plot_confusion_matrix(confusion_mtx, classes = list(label_dict.values())) \n",
        "plt.show()"
      ],
      "metadata": {
        "id": "-cA5diabnDTu",
        "colab": {
          "base_uri": "https://localhost:8080/",
          "height": 695
        },
        "outputId": "4bd10d1c-5f8c-44b2-abce-7fc6c0ef6069"
      },
      "execution_count": 28,
      "outputs": [
        {
          "output_type": "stream",
          "name": "stdout",
          "text": [
            "\n",
            "Keras CNN #1C - accuracy: 0.8500000238418579 \n",
            "\n",
            "Test loss: 0.5756521224975586\n",
            "Test accuracy: 0.8500000238418579\n",
            "6/6 [==============================] - 0s 12ms/step\n",
            "\n",
            "              precision    recall  f1-score   support\n",
            "\n",
            "         eos       0.75      0.80      0.78        41\n",
            "       lymph       1.00      0.88      0.94        50\n",
            "        mono       0.95      0.92      0.94        39\n",
            "      neutro       0.74      0.80      0.77        50\n",
            "\n",
            "    accuracy                           0.85       180\n",
            "   macro avg       0.86      0.85      0.85       180\n",
            "weighted avg       0.86      0.85      0.85       180\n",
            "\n"
          ]
        },
        {
          "output_type": "display_data",
          "data": {
            "text/plain": [
              "<Figure size 360x360 with 2 Axes>"
            ],
            "image/png": "[encoded data removed]"
          },
          "metadata": {
            "needs_background": "light"
          }
        }
      ]
    },
    {
      "cell_type": "code",
      "source": [
        "# save the trained model\n",
        "modelPath = basePath + '/models/'\n",
        "trained_model.save(modelPath + 'cnn-rnn-all.h5')\n",
        "\n",
        "# save the history object\n",
        "with open(modelPath + 'hist-cnn-rnn-all.pickle', 'wb') as handle:\n",
        "    pickle.dump(hist.history, handle, protocol=pickle.HIGHEST_PROTOCOL)"
      ],
      "metadata": {
        "id": "FEBzi1Bqd-GW"
      },
      "execution_count": 29,
      "outputs": []
    },
    {
      "cell_type": "code",
      "source": [],
      "metadata": {
        "id": "8g6JXCIkrTkz"
      },
      "execution_count": 16,
      "outputs": []
    }
  ]
}