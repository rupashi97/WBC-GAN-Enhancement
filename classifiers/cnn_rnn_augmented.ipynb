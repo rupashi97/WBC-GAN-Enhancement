{
  "nbformat": 4,
  "nbformat_minor": 0,
  "metadata": {
    "colab": {
      "provenance": []
    },
    "kernelspec": {
      "name": "python3",
      "display_name": "Python 3"
    },
    "language_info": {
      "name": "python"
    },
    "gpuClass": "standard",
    "accelerator": "GPU"
  },
  "cells": [
    {
      "cell_type": "code",
      "execution_count": null,
      "metadata": {
        "colab": {
          "base_uri": "https://localhost:8080/"
        },
        "id": "yvAyBlc9YZ-z",
        "outputId": "76b06e2c-ea3f-4277-b31e-047fe81c55dd"
      },
      "outputs": [
        {
          "output_type": "stream",
          "name": "stdout",
          "text": [
            "Mounted at /content/drive\n"
          ]
        }
      ],
      "source": [
        "import numpy as np\n",
        "import pandas as pd\n",
        "import keras\n",
        "from keras.models import Sequential,  Model\n",
        "from keras.layers import Dense, Dropout, Activation, Flatten, Bidirectional, Conv2D, MaxPooling2D, Lambda, MaxPool2D, BatchNormalization, Input, concatenate,Reshape, LSTM, CuDNNLSTM\n",
        "from keras.utils import np_utils\n",
        "from keras.preprocessing.image import ImageDataGenerator\n",
        "from keras.optimizers import RMSprop\n",
        "from keras.callbacks import Callback, EarlyStopping, ReduceLROnPlateau, ModelCheckpoint\n",
        "from keras.utils.np_utils import to_categorical\n",
        "from sklearn.preprocessing import LabelEncoder\n",
        "from sklearn.model_selection import train_test_split\n",
        "from sklearn.metrics import confusion_matrix\n",
        "from sklearn.metrics import accuracy_score\n",
        "import xml.etree.ElementTree as ET\n",
        "import sklearn\n",
        "import itertools\n",
        "import cv2\n",
        "import scipy\n",
        "import os\n",
        "import csv\n",
        "import matplotlib.pyplot as plt\n",
        "%matplotlib inline\n",
        "from tqdm import tqdm\n",
        "import seaborn as sns\n",
        "from google.colab import drive\n",
        "import tensorflow as tf\n",
        "import pickle\n",
        "\n",
        "drive.mount('/content/drive')"
      ]
    },
    {
      "cell_type": "code",
      "source": [
        "%cd drive/MyDrive/ECE-176"
      ],
      "metadata": {
        "colab": {
          "base_uri": "https://localhost:8080/"
        },
        "id": "gDETzZNkc_9s",
        "outputId": "55b462bd-2357-43e2-95eb-8cbfa2d98686"
      },
      "execution_count": null,
      "outputs": [
        {
          "output_type": "stream",
          "name": "stdout",
          "text": [
            "/content/drive/.shortcut-targets-by-id/1nocF8OwSC30SO-c6lZ_zjX725MCTIjid/ECE-176\n"
          ]
        }
      ]
    },
    {
      "cell_type": "code",
      "source": [
        "basePath = os.getcwd()"
      ],
      "metadata": {
        "id": "O6MKDCgbdAAd"
      },
      "execution_count": null,
      "outputs": []
    },
    {
      "cell_type": "code",
      "source": [
        "# Helper Functions\n",
        "\n",
        "def fetch_data(path_to_folder1, path_to_folder2, path_to_folder3, path_to_folder4, label_dict):\n",
        "  # define lists to hold image data and corresponding labels\n",
        "  data = []\n",
        "  labels = []\n",
        "\n",
        "  # loop through each folder and read images\n",
        "  for folder in [path_to_folder1, path_to_folder2, path_to_folder3, path_to_folder4]:\n",
        "      for filename in os.listdir(folder):\n",
        "          img = cv2.imread(os.path.join(folder, filename))\n",
        "          if img is not None:\n",
        "              # resize image if needed\n",
        "              # img = cv2.resize(img, (256, 256))\n",
        "              # img = cv2.resize(img, (80, 60))\n",
        "              img = cv2.resize(img, dsize=(80,60), interpolation=cv2.INTER_CUBIC)\n",
        "              # convert image to numpy array and append to data list\n",
        "              data.append(np.array(img))\n",
        "              # get label from folder name and append to labels list\n",
        "              label = label_dict[os.path.basename(folder)]\n",
        "              labels.append(label)\n",
        "\n",
        "  data, labels = np.array(data), np.array(labels)\n",
        "  # data = np.transpose(data, (0, 3, 1, 2)) # rearranges shape from (369, 256, 256, 3) to (369, 3, 256, 256)\n",
        "\n",
        "  return data, labels"
      ],
      "metadata": {
        "id": "6k8LeRtmdAC1"
      },
      "execution_count": null,
      "outputs": []
    },
    {
      "cell_type": "code",
      "source": [
        "# Helper Functions  Learning Curves and Confusion Matrix\n",
        "\n",
        "\n",
        "def rgb_to_grayscale(input):\n",
        "    \"\"\"Convert an RGB image to grayscale by averaging across color channels.\"\"\"\n",
        "    return tf.reduce_mean(input, axis=3)\n",
        "\n",
        "def rgb_to_grayscale_output_shape(input_shape):\n",
        "    return input_shape[:-1]\n",
        "\n",
        "class MetricsCheckpoint(Callback):\n",
        "    \"\"\"Callback that saves metrics after each epoch\"\"\"\n",
        "    def __init__(self, savepath):\n",
        "        super(MetricsCheckpoint, self).__init__()\n",
        "        self.savepath = savepath\n",
        "        self.history = {}\n",
        "    def on_epoch_end(self, epoch, logs=None):\n",
        "        for k, v in logs.items():\n",
        "            self.history.setdefault(k, []).append(v)\n",
        "        np.save(self.savepath, self.history)\n",
        "\n",
        "def plotKerasLearningCurve():\n",
        "    plt.figure(figsize=(10,5))\n",
        "    metrics = np.load('logs.npy')[()]\n",
        "    filt = ['acc'] # try to add 'loss' to see the loss learning curve\n",
        "    for k in filter(lambda x : np.any([kk in x for kk in filt]), metrics.keys()):\n",
        "        l = np.array(metrics[k])\n",
        "        plt.plot(l, c= 'r' if 'val' not in k else 'b', label='val' if 'val' in k else 'train')\n",
        "        x = np.argmin(l) if 'loss' in k else np.argmax(l)\n",
        "        y = l[x]\n",
        "        plt.scatter(x,y, lw=0, alpha=0.25, s=100, c='r' if 'val' not in k else 'b')\n",
        "        plt.text(x, y, '{} = {:.4f}'.format(x,y), size='15', color= 'r' if 'val' not in k else 'b')\n",
        "    plt.legend(loc=4)\n",
        "    plt.axis([0, None, None, None]);\n",
        "    plt.grid()\n",
        "    plt.xlabel('Number of epochs')\n",
        "    plt.ylabel('Accuracy')\n",
        "\n",
        "def plot_confusion_matrix(cm, classes,\n",
        "                          normalize=False,\n",
        "                          title='Confusion matrix',\n",
        "                          cmap=plt.cm.Blues):\n",
        "#This function prints and plots the confusion matrix.\n",
        "#Normalization can be applied by setting `normalize=True`.\n",
        "\n",
        "    plt.figure(figsize = (5,5))\n",
        "    plt.imshow(cm, interpolation='nearest', cmap=cmap)\n",
        "    plt.title(title)\n",
        "    plt.colorbar()\n",
        "    tick_marks = np.arange(len(classes))\n",
        "    plt.xticks(tick_marks, classes, rotation=90)\n",
        "    plt.yticks(tick_marks, classes)\n",
        "    if normalize:\n",
        "        cm = cm.astype('float') / cm.sum(axis=1)[:, np.newaxis]\n",
        "\n",
        "    thresh = cm.max() / 2.\n",
        "    for i, j in itertools.product(range(cm.shape[0]), range(cm.shape[1])):\n",
        "        plt.text(j, i, cm[i, j],\n",
        "                 horizontalalignment=\"center\",\n",
        "                 color=\"white\" if cm[i, j] > thresh else \"black\")\n",
        "    plt.tight_layout()\n",
        "    plt.ylabel('True label')\n",
        "    plt.xlabel('Predicted label')\n",
        "\n",
        "def plot_learning_curve(history):\n",
        "    plt.figure(figsize=(8,8))\n",
        "    plt.subplot(1,2,1)\n",
        "    plt.plot(history.history['accuracy'])\n",
        "    plt.plot(history.history['val_accuracy'])\n",
        "    plt.title('model accuracy')\n",
        "    plt.ylabel('accuracy')\n",
        "    plt.xlabel('epoch')\n",
        "    plt.legend(['train', 'test'], loc='upper left')\n",
        "    # plt.savefig('./accuracy_curve.png')\n",
        "    #plt.clf()\n",
        "    # summarize history for loss\n",
        "    plt.subplot(1,2,2)\n",
        "    plt.plot(history.history['loss'])\n",
        "    plt.plot(history.history['val_loss'])\n",
        "    plt.title('model loss')\n",
        "    plt.ylabel('loss')\n",
        "    plt.xlabel('epoch')\n",
        "    plt.legend(['train', 'test'], loc='upper left')\n",
        "    # plt.savefig('./loss_curve.png')\n",
        "\n",
        "def shuffle_data(data, labels):\n",
        "  '''shuffle data and labels together'''\n",
        "\n",
        "  indices = np.arange(len(data))\n",
        "  np.random.shuffle(indices)\n",
        "  data = data[indices]\n",
        "  labels = labels[indices]\n",
        "\n",
        "  return data, labels"
      ],
      "metadata": {
        "id": "bcczFHmwdAFc"
      },
      "execution_count": null,
      "outputs": []
    },
    {
      "cell_type": "code",
      "source": [
        "# # Load original Data\n",
        "# p1 = basePath + '/dataset-master/JPEGImages/classes/EOSINOPHIL'\n",
        "# p2 = basePath + '/dataset-master/JPEGImages/classes/LYMPHOCYTE'\n",
        "# p3 =  basePath + '/dataset-master/JPEGImages/classes/MONOCYTE'\n",
        "# p4 =  basePath + '/dataset-master/JPEGImages/classes/NEUTROPHIL'\n",
        "\n",
        "# # define dictionary to map folder name to label\n",
        "# label_dict = {'EOSINOPHIL': 0, 'LYMPHOCYTE': 1, 'MONOCYTE': 2, 'NEUTROPHIL': 3}\n",
        "# num_classes = 4\n",
        "\n",
        "# data_loaded, labels_loaded = fetch_data(p1, p2, p3, p4, label_dict)"
      ],
      "metadata": {
        "id": "Nu2SSanidsX5"
      },
      "execution_count": null,
      "outputs": []
    },
    {
      "cell_type": "code",
      "source": [
        "# Load augmented data\n",
        "p1 = basePath + '/dataset-master/GAN AUGMENTED DATA/eos'\n",
        "p2 = basePath + '/dataset-master/GAN AUGMENTED DATA/lymph'\n",
        "p3 =  basePath + '/dataset-master/GAN AUGMENTED DATA/mono'\n",
        "p4 =  basePath + '/dataset-master/GAN AUGMENTED DATA/neutro'\n",
        "\n",
        "# define dictionary to map folder name to label\n",
        "label_dict = {'eos': 0, 'lymph': 1, 'mono': 2, 'neutro': 3}\n",
        "num_classes = 4\n",
        "\n",
        "data_augment, labels_augment = fetch_data(p1, p2, p3, p4, label_dict)"
      ],
      "metadata": {
        "id": "qTM26qiwdyth"
      },
      "execution_count": null,
      "outputs": []
    },
    {
      "cell_type": "code",
      "source": [
        "# data_loaded.shape, data_augment.shape"
      ],
      "metadata": {
        "id": "gmWEgDyC9P-O"
      },
      "execution_count": null,
      "outputs": []
    },
    {
      "cell_type": "code",
      "source": [
        "# data_total = np.concatenate((data_loaded, data_augment), axis=0)\n",
        "# labels_total = np.concatenate((labels_loaded, labels_augment), axis=0)\n",
        "\n",
        "# data_total.shape, labels_total.shape"
      ],
      "metadata": {
        "id": "AAxjxdH0eg-o"
      },
      "execution_count": null,
      "outputs": []
    },
    {
      "cell_type": "code",
      "source": [
        "# Shuffle data and convert labels to one hot encodings\n",
        "\n",
        "# data, labels = shuffle_data(data_total, labels_total)\n",
        "# data, labels = shuffle_data(data_loaded, labels_loaded)\n",
        "data, labels = shuffle_data(data_augment, labels_augment)\n",
        "\n",
        "labels = to_categorical(labels, num_classes = 4)\n",
        "print('data shape: ', data.shape)\n",
        "print('labels shape: ', labels.shape)"
      ],
      "metadata": {
        "colab": {
          "base_uri": "https://localhost:8080/"
        },
        "id": "0k-HdzvUesgo",
        "outputId": "f5fbec97-1a9f-4615-f15b-a2f2ff53f492"
      },
      "execution_count": null,
      "outputs": [
        {
          "output_type": "stream",
          "name": "stdout",
          "text": [
            "data shape:  (1200, 60, 80, 3)\n",
            "labels shape:  (1200, 4)\n"
          ]
        }
      ]
    },
    {
      "cell_type": "code",
      "source": [
        "# split data and labels into training, validation, and testing sets\n",
        "xtrain, xtest, ytrain, ytest = train_test_split(data, labels, test_size=0.15, random_state=42)\n",
        "xtrain, xval, ytrain, yval = train_test_split(xtrain, ytrain, test_size=0.15, random_state=42)\n",
        "\n",
        "# print the shapes of the training and testing sets ~ all y's are one hot encoded\n",
        "print('xtrain shape:', xtrain.shape)\n",
        "print('ytrain shape:', ytrain.shape)\n",
        "print('xval shape:', xval.shape)\n",
        "print('yval shape:', yval.shape)\n",
        "print('xtest shape:', xtest.shape)\n",
        "print('ytest shape:', ytest.shape)"
      ],
      "metadata": {
        "colab": {
          "base_uri": "https://localhost:8080/"
        },
        "id": "-x3CIF_QenSz",
        "outputId": "56867d89-1728-4027-ece6-10ab00ad4559"
      },
      "execution_count": null,
      "outputs": [
        {
          "output_type": "stream",
          "name": "stdout",
          "text": [
            "xtrain shape: (867, 60, 80, 3)\n",
            "ytrain shape: (867, 4)\n",
            "xval shape: (153, 60, 80, 3)\n",
            "yval shape: (153, 4)\n",
            "xtest shape: (180, 60, 80, 3)\n",
            "ytest shape: (180, 4)\n"
          ]
        }
      ]
    },
    {
      "cell_type": "code",
      "source": [
        "def runCNNRNNAugment(x_train,y_train,x_val,y_val, stride, epochs, bsize):\n",
        "\n",
        "    batch_size = bsize\n",
        "    num_classes = 4\n",
        "    img_rows,img_cols=60,80\n",
        "    input_shape = (img_rows, img_cols, 3)\n",
        "    input_tensor = Input(shape=input_shape)\n",
        "\n",
        "    # Creating CNN\n",
        "    modelcnn = Sequential()\n",
        "    modelcnn.add(Conv2D(32, kernel_size=(3, 3),\n",
        "                     activation='relu',\n",
        "                     input_shape=input_shape,strides=stride))\n",
        "    modelcnn.add(Conv2D(64, (3, 3), activation='relu'))\n",
        "    # modelcnn.add(Conv2D(64, (3, 3), activation='relu'))\n",
        "    modelcnn.add(MaxPooling2D(pool_size=(2, 2)))\n",
        "    modelcnn.add(Dropout(0.25))\n",
        "    modelcnn.add(Flatten())\n",
        "    cnn_output = modelcnn(input_tensor)\n",
        "\n",
        "    # Creating RNN\n",
        "    modelrnn = Lambda(rgb_to_grayscale, rgb_to_grayscale_output_shape)(input_tensor)\n",
        "    #modelrnn = Bidirectional(LSTM(64, return_sequences=True, dropout=0.25, recurrent_dropout=0.25))(modelrnn)\n",
        "    #rnn_output = Bidirectional(LSTM(64, dropout=0.25, recurrent_dropout=0.25))(modelrnn)\n",
        "    modelrnn = Bidirectional(CuDNNLSTM(64, return_sequences=True))(modelrnn)\n",
        "  #  modelrnn = Dropout(0.25)(modelrnn)\n",
        "    rnn_output = Bidirectional(CuDNNLSTM(64))(modelrnn)\n",
        "    rnn_output = Dropout(0.25)(rnn_output)\n",
        "\n",
        "    # Merging both cnn bottleneck and rnn's output wise element wise multiplication\n",
        "    merge_layer = concatenate([cnn_output, rnn_output])\n",
        "    last_process = Dense(128, activation='relu')(merge_layer)\n",
        "    last_process = Dropout(0.5)(last_process)\n",
        "    output_tensor = Dense(num_classes, activation='softmax')(last_process)\n",
        "    model = Model(inputs=input_tensor, outputs=output_tensor)\n",
        "    model.compile(loss=keras.losses.categorical_crossentropy,\n",
        "                  optimizer=keras.optimizers.Adam(),\n",
        "                  metrics=['accuracy'])\n",
        "\n",
        "\n",
        "    # datagen = ImageDataGenerator(\n",
        "    #     featurewise_center=False,  # set input mean to 0 over the dataset\n",
        "    #     samplewise_center=False,  # set each sample mean to 0\n",
        "    #     featurewise_std_normalization=False,  # divide inputs by std of the dataset\n",
        "    #     samplewise_std_normalization=False,  # divide each input by its std\n",
        "    #     zca_whitening=False,  # apply ZCA whitening\n",
        "    #     rotation_range=10,  # randomly rotate images in the range (degrees, 0 to 180)\n",
        "    #     width_shift_range=0.1,  # randomly shift images horizontally (fraction of total width)\n",
        "    #     height_shift_range=0.1,  # randomly shift images vertically (fraction of total height)\n",
        "    #     horizontal_flip=True,  # randomly flip images\n",
        "    #     vertical_flip=False)  # randomly flip images\n",
        "    # history = model.fit_generator(datagen.flow(a,b, batch_size=32),\n",
        "    #                     steps_per_epoch=len(a) / 32, epochs=epochs, validation_data = [c, d],callbacks = [MetricsCheckpoint('logs')])\n",
        "\n",
        "    history = model.fit(x_train, y_train, batch_size=batch_size, epochs=epochs, verbose=1, validation_data=(x_val, y_val))\n",
        "\n",
        "    return model, history"
      ],
      "metadata": {
        "id": "ck6BPuqgd1vi"
      },
      "execution_count": null,
      "outputs": []
    },
    {
      "cell_type": "code",
      "source": [
        "bsize = 128\n",
        "epochs = 50\n",
        "stride = 1\n",
        "trained_model, hist = runCNNRNNAugment(xtrain, ytrain, xval, yval, stride, epochs, bsize)"
      ],
      "metadata": {
        "colab": {
          "base_uri": "https://localhost:8080/"
        },
        "id": "tyeRwgn-d-Lj",
        "outputId": "981bb9a7-fd6d-4328-8a66-98e0944d3ec4"
      },
      "execution_count": null,
      "outputs": [
        {
          "output_type": "stream",
          "name": "stdout",
          "text": [
            "Epoch 1/50\n",
            "7/7 [==============================] - 3s 183ms/step - loss: 1143.3561 - accuracy: 0.2491 - val_loss: 49.2169 - val_accuracy: 0.2549\n",
            "Epoch 2/50\n",
            "7/7 [==============================] - 0s 64ms/step - loss: 16.6324 - accuracy: 0.3183 - val_loss: 0.9242 - val_accuracy: 0.6144\n",
            "Epoch 3/50\n",
            "7/7 [==============================] - 0s 63ms/step - loss: 0.9591 - accuracy: 0.6182 - val_loss: 0.9889 - val_accuracy: 0.6209\n",
            "Epoch 4/50\n",
            "7/7 [==============================] - 0s 63ms/step - loss: 0.7918 - accuracy: 0.7428 - val_loss: 0.5737 - val_accuracy: 0.8497\n",
            "Epoch 5/50\n",
            "7/7 [==============================] - 0s 66ms/step - loss: 0.4674 - accuracy: 0.8489 - val_loss: 0.4401 - val_accuracy: 0.8562\n",
            "Epoch 6/50\n",
            "7/7 [==============================] - 0s 68ms/step - loss: 0.4024 - accuracy: 0.8478 - val_loss: 0.4181 - val_accuracy: 0.8824\n",
            "Epoch 7/50\n",
            "7/7 [==============================] - 0s 66ms/step - loss: 0.3464 - accuracy: 0.8916 - val_loss: 0.4382 - val_accuracy: 0.8889\n",
            "Epoch 8/50\n",
            "7/7 [==============================] - 0s 66ms/step - loss: 0.2611 - accuracy: 0.9066 - val_loss: 0.4271 - val_accuracy: 0.8562\n",
            "Epoch 9/50\n",
            "7/7 [==============================] - 0s 64ms/step - loss: 0.2271 - accuracy: 0.9296 - val_loss: 0.4416 - val_accuracy: 0.8562\n",
            "Epoch 10/50\n",
            "7/7 [==============================] - 0s 57ms/step - loss: 0.2131 - accuracy: 0.9158 - val_loss: 0.4111 - val_accuracy: 0.8627\n",
            "Epoch 11/50\n",
            "7/7 [==============================] - 0s 63ms/step - loss: 0.1968 - accuracy: 0.9343 - val_loss: 0.5584 - val_accuracy: 0.8627\n",
            "Epoch 12/50\n",
            "7/7 [==============================] - 0s 58ms/step - loss: 0.1917 - accuracy: 0.9343 - val_loss: 0.4648 - val_accuracy: 0.8366\n",
            "Epoch 13/50\n",
            "7/7 [==============================] - 0s 58ms/step - loss: 0.1719 - accuracy: 0.9366 - val_loss: 0.4298 - val_accuracy: 0.8431\n",
            "Epoch 14/50\n",
            "7/7 [==============================] - 0s 57ms/step - loss: 0.1548 - accuracy: 0.9446 - val_loss: 0.4427 - val_accuracy: 0.8627\n",
            "Epoch 15/50\n",
            "7/7 [==============================] - 0s 57ms/step - loss: 0.1306 - accuracy: 0.9619 - val_loss: 0.5595 - val_accuracy: 0.8497\n",
            "Epoch 16/50\n",
            "7/7 [==============================] - 1s 82ms/step - loss: 0.1144 - accuracy: 0.9619 - val_loss: 0.5050 - val_accuracy: 0.8627\n",
            "Epoch 17/50\n",
            "7/7 [==============================] - 0s 63ms/step - loss: 0.1018 - accuracy: 0.9654 - val_loss: 0.4713 - val_accuracy: 0.8693\n",
            "Epoch 18/50\n",
            "7/7 [==============================] - 0s 60ms/step - loss: 0.1038 - accuracy: 0.9700 - val_loss: 0.5715 - val_accuracy: 0.8562\n",
            "Epoch 19/50\n",
            "7/7 [==============================] - 1s 88ms/step - loss: 0.1039 - accuracy: 0.9689 - val_loss: 0.6003 - val_accuracy: 0.8497\n",
            "Epoch 20/50\n",
            "7/7 [==============================] - 0s 62ms/step - loss: 0.0906 - accuracy: 0.9654 - val_loss: 0.5304 - val_accuracy: 0.8562\n",
            "Epoch 21/50\n",
            "7/7 [==============================] - 0s 58ms/step - loss: 0.0843 - accuracy: 0.9735 - val_loss: 0.5401 - val_accuracy: 0.8562\n",
            "Epoch 22/50\n",
            "7/7 [==============================] - 0s 58ms/step - loss: 0.0746 - accuracy: 0.9735 - val_loss: 0.6141 - val_accuracy: 0.8497\n",
            "Epoch 23/50\n",
            "7/7 [==============================] - 0s 57ms/step - loss: 0.0640 - accuracy: 0.9804 - val_loss: 0.6823 - val_accuracy: 0.8497\n",
            "Epoch 24/50\n",
            "7/7 [==============================] - 0s 58ms/step - loss: 0.0807 - accuracy: 0.9712 - val_loss: 0.6813 - val_accuracy: 0.8497\n",
            "Epoch 25/50\n",
            "7/7 [==============================] - 0s 57ms/step - loss: 0.0769 - accuracy: 0.9758 - val_loss: 0.7140 - val_accuracy: 0.8497\n",
            "Epoch 26/50\n",
            "7/7 [==============================] - 0s 59ms/step - loss: 0.0712 - accuracy: 0.9781 - val_loss: 0.6522 - val_accuracy: 0.8497\n",
            "Epoch 27/50\n",
            "7/7 [==============================] - 0s 57ms/step - loss: 0.0653 - accuracy: 0.9827 - val_loss: 0.6549 - val_accuracy: 0.8497\n",
            "Epoch 28/50\n",
            "7/7 [==============================] - 0s 57ms/step - loss: 0.0575 - accuracy: 0.9873 - val_loss: 0.6769 - val_accuracy: 0.8562\n",
            "Epoch 29/50\n",
            "7/7 [==============================] - 0s 58ms/step - loss: 0.0491 - accuracy: 0.9804 - val_loss: 0.6974 - val_accuracy: 0.8497\n",
            "Epoch 30/50\n",
            "7/7 [==============================] - 0s 58ms/step - loss: 0.0520 - accuracy: 0.9827 - val_loss: 0.6432 - val_accuracy: 0.8562\n",
            "Epoch 31/50\n",
            "7/7 [==============================] - 0s 65ms/step - loss: 0.0501 - accuracy: 0.9815 - val_loss: 0.7742 - val_accuracy: 0.8562\n",
            "Epoch 32/50\n",
            "7/7 [==============================] - 0s 61ms/step - loss: 0.0519 - accuracy: 0.9827 - val_loss: 0.6739 - val_accuracy: 0.8497\n",
            "Epoch 33/50\n",
            "7/7 [==============================] - 0s 64ms/step - loss: 0.0590 - accuracy: 0.9804 - val_loss: 0.6871 - val_accuracy: 0.8562\n",
            "Epoch 34/50\n",
            "7/7 [==============================] - 0s 64ms/step - loss: 0.0546 - accuracy: 0.9815 - val_loss: 0.8210 - val_accuracy: 0.8562\n",
            "Epoch 35/50\n",
            "7/7 [==============================] - 0s 67ms/step - loss: 0.0374 - accuracy: 0.9839 - val_loss: 0.8176 - val_accuracy: 0.8562\n",
            "Epoch 36/50\n",
            "7/7 [==============================] - 0s 67ms/step - loss: 0.0505 - accuracy: 0.9862 - val_loss: 0.7156 - val_accuracy: 0.8627\n",
            "Epoch 37/50\n",
            "7/7 [==============================] - 0s 63ms/step - loss: 0.0522 - accuracy: 0.9792 - val_loss: 0.7603 - val_accuracy: 0.8562\n",
            "Epoch 38/50\n",
            "7/7 [==============================] - 0s 70ms/step - loss: 0.0436 - accuracy: 0.9896 - val_loss: 0.7714 - val_accuracy: 0.8562\n",
            "Epoch 39/50\n",
            "7/7 [==============================] - 0s 63ms/step - loss: 0.0492 - accuracy: 0.9862 - val_loss: 0.8258 - val_accuracy: 0.8693\n",
            "Epoch 40/50\n",
            "7/7 [==============================] - 0s 59ms/step - loss: 0.0389 - accuracy: 0.9850 - val_loss: 0.7228 - val_accuracy: 0.8562\n",
            "Epoch 41/50\n",
            "7/7 [==============================] - 0s 65ms/step - loss: 0.0431 - accuracy: 0.9862 - val_loss: 0.8784 - val_accuracy: 0.8562\n",
            "Epoch 42/50\n",
            "7/7 [==============================] - 0s 59ms/step - loss: 0.0385 - accuracy: 0.9862 - val_loss: 0.8109 - val_accuracy: 0.8693\n",
            "Epoch 43/50\n",
            "7/7 [==============================] - 0s 64ms/step - loss: 0.0351 - accuracy: 0.9908 - val_loss: 0.8211 - val_accuracy: 0.8562\n",
            "Epoch 44/50\n",
            "7/7 [==============================] - 0s 57ms/step - loss: 0.0387 - accuracy: 0.9885 - val_loss: 0.7613 - val_accuracy: 0.8627\n",
            "Epoch 45/50\n",
            "7/7 [==============================] - 0s 59ms/step - loss: 0.0310 - accuracy: 0.9908 - val_loss: 0.8059 - val_accuracy: 0.8627\n",
            "Epoch 46/50\n",
            "7/7 [==============================] - 0s 64ms/step - loss: 0.0436 - accuracy: 0.9850 - val_loss: 0.6835 - val_accuracy: 0.8627\n",
            "Epoch 47/50\n",
            "7/7 [==============================] - 0s 65ms/step - loss: 0.0360 - accuracy: 0.9896 - val_loss: 0.8842 - val_accuracy: 0.8562\n",
            "Epoch 48/50\n",
            "7/7 [==============================] - 0s 67ms/step - loss: 0.0452 - accuracy: 0.9850 - val_loss: 0.6574 - val_accuracy: 0.8627\n",
            "Epoch 49/50\n",
            "7/7 [==============================] - 0s 59ms/step - loss: 0.0382 - accuracy: 0.9839 - val_loss: 0.9759 - val_accuracy: 0.8497\n",
            "Epoch 50/50\n",
            "7/7 [==============================] - 0s 66ms/step - loss: 0.0243 - accuracy: 0.9942 - val_loss: 0.8401 - val_accuracy: 0.8562\n"
          ]
        }
      ]
    },
    {
      "cell_type": "code",
      "source": [
        "score = trained_model.evaluate(xtrain, ytrain, verbose=0)\n",
        "print('\\nKeras CNN #1C - accuracy:', score[1],'\\n')\n",
        "print('Train loss:', score[0])\n",
        "print('Train accuracy:', score[1])\n",
        "\n",
        "y_pred = trained_model.predict(xtrain)\n",
        "map_characters = label_dict\n",
        "print('\\n', sklearn.metrics.classification_report(np.where(ytrain > 0)[1], np.argmax(y_pred, axis=1), target_names=list(map_characters.keys())), sep='')\n",
        "Y_pred_classes = np.argmax(y_pred,axis=1)\n",
        "Y_true = np.argmax(ytrain,axis=1)\n",
        "# plotKerasLearningCurve()\n",
        "# plt.show()\n",
        "plot_learning_curve(hist)\n",
        "# plt.show()\n",
        "confusion_mtx = confusion_matrix(Y_true, Y_pred_classes)\n",
        "plot_confusion_matrix(confusion_mtx, classes = list(label_dict.values()))\n",
        "plt.show()"
      ],
      "metadata": {
        "colab": {
          "base_uri": "https://localhost:8080/",
          "height": 1000
        },
        "id": "r9rF2qN5AT4U",
        "outputId": "722c240e-4b7e-4358-a8ff-ad4b0408d0e2"
      },
      "execution_count": null,
      "outputs": [
        {
          "output_type": "stream",
          "name": "stdout",
          "text": [
            "\n",
            "Keras CNN #1C - accuracy: 0.9976931810379028 \n",
            "\n",
            "Train loss: 0.005907146725803614\n",
            "Train accuracy: 0.9976931810379028\n",
            "28/28 [==============================] - 1s 7ms/step\n",
            "\n",
            "              precision    recall  f1-score   support\n",
            "\n",
            "         eos       1.00      1.00      1.00       210\n",
            "       lymph       1.00      1.00      1.00       214\n",
            "        mono       1.00      1.00      1.00       210\n",
            "      neutro       1.00      1.00      1.00       233\n",
            "\n",
            "    accuracy                           1.00       867\n",
            "   macro avg       1.00      1.00      1.00       867\n",
            "weighted avg       1.00      1.00      1.00       867\n",
            "\n"
          ]
        },
        {
          "output_type": "display_data",
          "data": {
            "text/plain": [
              "<Figure size 576x576 with 2 Axes>"
            ],
            "image/png": "[encoded data removed]"
          },
          "metadata": {
            "needs_background": "light"
          }
        },
        {
          "output_type": "display_data",
          "data": {
            "text/plain": [
              "<Figure size 360x360 with 2 Axes>"
            ],
            "image/png": "[encoded data removed]"
          },
          "metadata": {
            "needs_background": "light"
          }
        }
      ]
    },
    {
      "cell_type": "code",
      "source": [
        "# Test set results\n",
        "score = trained_model.evaluate(xtest, ytest, verbose=0)\n",
        "print('\\nKeras CNN #1C - accuracy:', score[1],'\\n')\n",
        "print('Test loss:', score[0])\n",
        "print('Test accuracy:', score[1])\n",
        "\n",
        "y_pred = trained_model.predict(xtest)\n",
        "map_characters = label_dict\n",
        "print('\\n', sklearn.metrics.classification_report(np.where(ytest > 0)[1], np.argmax(y_pred, axis=1), target_names=list(map_characters.keys())), sep='')\n",
        "Y_pred_classes = np.argmax(y_pred,axis=1)\n",
        "Y_true = np.argmax(ytest,axis=1)\n",
        "# plotKerasLearningCurve()\n",
        "# plt.show()\n",
        "# plot_learning_curve(hist)\n",
        "# plt.show()\n",
        "confusion_mtx = confusion_matrix(Y_true, Y_pred_classes)\n",
        "plot_confusion_matrix(confusion_mtx, classes = list(label_dict.values()))\n",
        "plt.show()"
      ],
      "metadata": {
        "id": "-cA5diabnDTu",
        "colab": {
          "base_uri": "https://localhost:8080/",
          "height": 695
        },
        "outputId": "c208a989-c033-4ddd-97f2-086c229bf213"
      },
      "execution_count": null,
      "outputs": [
        {
          "output_type": "stream",
          "name": "stdout",
          "text": [
            "\n",
            "Keras CNN #1C - accuracy: 0.8777777552604675 \n",
            "\n",
            "Test loss: 0.689332127571106\n",
            "Test accuracy: 0.8777777552604675\n",
            "6/6 [==============================] - 0s 12ms/step\n",
            "\n",
            "              precision    recall  f1-score   support\n",
            "\n",
            "         eos       0.87      0.77      0.82        44\n",
            "       lymph       0.98      0.91      0.95        47\n",
            "        mono       1.00      0.94      0.97        54\n",
            "      neutro       0.65      0.86      0.74        35\n",
            "\n",
            "    accuracy                           0.88       180\n",
            "   macro avg       0.88      0.87      0.87       180\n",
            "weighted avg       0.90      0.88      0.88       180\n",
            "\n"
          ]
        },
        {
          "output_type": "display_data",
          "data": {
            "text/plain": [
              "<Figure size 360x360 with 2 Axes>"
            ],
            "image/png": "[encoded data removed]"
          },
          "metadata": {
            "needs_background": "light"
          }
        }
      ]
    },
    {
      "cell_type": "code",
      "source": [
        "# save the trained model\n",
        "modelPath = basePath + '/models/'\n",
        "trained_model.save(modelPath + 'vysh_cnn-rnn-aug.h5')\n",
        "\n",
        "# save the history object\n",
        "with open(modelPath + 'hist-vysh_cnn-rnn-aug.pickle', 'wb') as handle:\n",
        "    pickle.dump(hist.history, handle, protocol=pickle.HIGHEST_PROTOCOL)"
      ],
      "metadata": {
        "id": "FEBzi1Bqd-GW"
      },
      "execution_count": null,
      "outputs": []
    },
    {
      "cell_type": "code",
      "source": [],
      "metadata": {
        "id": "8g6JXCIkrTkz"
      },
      "execution_count": null,
      "outputs": []
    }
  ]
}