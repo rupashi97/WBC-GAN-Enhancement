{
  "nbformat": 4,
  "nbformat_minor": 0,
  "metadata": {
    "colab": {
      "provenance": []
    },
    "kernelspec": {
      "name": "python3",
      "display_name": "Python 3"
    },
    "language_info": {
      "name": "python"
    },
    "gpuClass": "standard",
    "accelerator": "GPU"
  },
  "cells": [
    {
      "cell_type": "code",
      "execution_count": null,
      "metadata": {
        "colab": {
          "base_uri": "https://localhost:8080/"
        },
        "id": "yvAyBlc9YZ-z",
        "outputId": "f019797d-b79f-4fa5-ea58-ea21369b4944"
      },
      "outputs": [
        {
          "output_type": "stream",
          "name": "stdout",
          "text": [
            "Mounted at /content/drive\n"
          ]
        }
      ],
      "source": [
        "import numpy as np\n",
        "import pandas as pd\n",
        "import keras\n",
        "from keras.models import Sequential,  Model\n",
        "from keras.layers import Dense, Dropout, Activation, Flatten, Bidirectional, Conv2D, MaxPooling2D, Lambda, MaxPool2D, BatchNormalization, Input, concatenate,Reshape, LSTM, CuDNNLSTM\n",
        "from keras.utils import np_utils\n",
        "from keras.preprocessing.image import ImageDataGenerator\n",
        "from keras.optimizers import RMSprop\n",
        "from keras.callbacks import Callback, EarlyStopping, ReduceLROnPlateau, ModelCheckpoint\n",
        "from keras.utils.np_utils import to_categorical\n",
        "from sklearn.preprocessing import LabelEncoder\n",
        "from sklearn.model_selection import train_test_split\n",
        "from sklearn.metrics import confusion_matrix\n",
        "from sklearn.metrics import accuracy_score\n",
        "import xml.etree.ElementTree as ET\n",
        "import sklearn\n",
        "import itertools\n",
        "import cv2\n",
        "import scipy\n",
        "import os\n",
        "import csv\n",
        "import matplotlib.pyplot as plt\n",
        "%matplotlib inline\n",
        "from tqdm import tqdm\n",
        "import seaborn as sns\n",
        "from google.colab import drive\n",
        "import tensorflow as tf\n",
        "import pickle\n",
        "\n",
        "drive.mount('/content/drive')"
      ]
    },
    {
      "cell_type": "code",
      "source": [
        "%cd drive/MyDrive/ECE-176"
      ],
      "metadata": {
        "colab": {
          "base_uri": "https://localhost:8080/"
        },
        "id": "gDETzZNkc_9s",
        "outputId": "eb4e13f3-b0e5-44e0-d38f-d3187fe9137e"
      },
      "execution_count": null,
      "outputs": [
        {
          "output_type": "stream",
          "name": "stdout",
          "text": [
            "/content/drive/.shortcut-targets-by-id/1nocF8OwSC30SO-c6lZ_zjX725MCTIjid/ECE-176\n"
          ]
        }
      ]
    },
    {
      "cell_type": "code",
      "source": [
        "basePath = os.getcwd()"
      ],
      "metadata": {
        "id": "O6MKDCgbdAAd"
      },
      "execution_count": null,
      "outputs": []
    },
    {
      "cell_type": "code",
      "source": [
        "# Helper Functions\n",
        "\n",
        "def fetch_data(path_to_folder1, path_to_folder2, path_to_folder3, path_to_folder4, label_dict):\n",
        "  # define lists to hold image data and corresponding labels\n",
        "  data = []\n",
        "  labels = []\n",
        "\n",
        "  # loop through each folder and read images\n",
        "  for folder in [path_to_folder1, path_to_folder2, path_to_folder3, path_to_folder4]:\n",
        "      for filename in os.listdir(folder):\n",
        "          img = cv2.imread(os.path.join(folder, filename))\n",
        "          if img is not None:\n",
        "              # resize image if needed\n",
        "              # img = cv2.resize(img, (256, 256))\n",
        "              # img = cv2.resize(img, (80, 60))\n",
        "              img = cv2.resize(img, dsize=(80,60), interpolation=cv2.INTER_CUBIC)\n",
        "              # convert image to numpy array and append to data list\n",
        "              data.append(np.array(img))\n",
        "              # get label from folder name and append to labels list\n",
        "              label = label_dict[os.path.basename(folder)]\n",
        "              labels.append(label)\n",
        "\n",
        "  data, labels = np.array(data), np.array(labels)\n",
        "  # data = np.transpose(data, (0, 3, 1, 2)) # rearranges shape from (369, 256, 256, 3) to (369, 3, 256, 256)\n",
        "\n",
        "  return data, labels"
      ],
      "metadata": {
        "id": "6k8LeRtmdAC1"
      },
      "execution_count": null,
      "outputs": []
    },
    {
      "cell_type": "code",
      "source": [
        "# Helper Functions  Learning Curves and Confusion Matrix\n",
        "\n",
        "\n",
        "def rgb_to_grayscale(input):\n",
        "    \"\"\"Convert an RGB image to grayscale by averaging across color channels.\"\"\"\n",
        "    return tf.reduce_mean(input, axis=3)\n",
        "\n",
        "def rgb_to_grayscale_output_shape(input_shape):\n",
        "    return input_shape[:-1]\n",
        "\n",
        "class MetricsCheckpoint(Callback):\n",
        "    \"\"\"Callback that saves metrics after each epoch\"\"\"\n",
        "    def __init__(self, savepath):\n",
        "        super(MetricsCheckpoint, self).__init__()\n",
        "        self.savepath = savepath\n",
        "        self.history = {}\n",
        "    def on_epoch_end(self, epoch, logs=None):\n",
        "        for k, v in logs.items():\n",
        "            self.history.setdefault(k, []).append(v)\n",
        "        np.save(self.savepath, self.history)\n",
        "\n",
        "def plotKerasLearningCurve():\n",
        "    plt.figure(figsize=(10,5))\n",
        "    metrics = np.load('logs.npy')[()]\n",
        "    filt = ['acc'] # try to add 'loss' to see the loss learning curve\n",
        "    for k in filter(lambda x : np.any([kk in x for kk in filt]), metrics.keys()):\n",
        "        l = np.array(metrics[k])\n",
        "        plt.plot(l, c= 'r' if 'val' not in k else 'b', label='val' if 'val' in k else 'train')\n",
        "        x = np.argmin(l) if 'loss' in k else np.argmax(l)\n",
        "        y = l[x]\n",
        "        plt.scatter(x,y, lw=0, alpha=0.25, s=100, c='r' if 'val' not in k else 'b')\n",
        "        plt.text(x, y, '{} = {:.4f}'.format(x,y), size='15', color= 'r' if 'val' not in k else 'b')\n",
        "    plt.legend(loc=4)\n",
        "    plt.axis([0, None, None, None]);\n",
        "    plt.grid()\n",
        "    plt.xlabel('Number of epochs')\n",
        "    plt.ylabel('Accuracy')\n",
        "\n",
        "def plot_confusion_matrix(cm, classes,\n",
        "                          normalize=False,\n",
        "                          title='Confusion matrix',\n",
        "                          cmap=plt.cm.Blues):\n",
        "#This function prints and plots the confusion matrix.\n",
        "#Normalization can be applied by setting `normalize=True`.\n",
        "\n",
        "    plt.figure(figsize = (5,5))\n",
        "    plt.imshow(cm, interpolation='nearest', cmap=cmap)\n",
        "    plt.title(title)\n",
        "    plt.colorbar()\n",
        "    tick_marks = np.arange(len(classes))\n",
        "    plt.xticks(tick_marks, classes, rotation=90)\n",
        "    plt.yticks(tick_marks, classes)\n",
        "    if normalize:\n",
        "        cm = cm.astype('float') / cm.sum(axis=1)[:, np.newaxis]\n",
        "\n",
        "    thresh = cm.max() / 2.\n",
        "    for i, j in itertools.product(range(cm.shape[0]), range(cm.shape[1])):\n",
        "        plt.text(j, i, cm[i, j],\n",
        "                 horizontalalignment=\"center\",\n",
        "                 color=\"white\" if cm[i, j] > thresh else \"black\")\n",
        "    plt.tight_layout()\n",
        "    plt.ylabel('True label')\n",
        "    plt.xlabel('Predicted label')\n",
        "\n",
        "def plot_learning_curve(history):\n",
        "    plt.figure(figsize=(8,8))\n",
        "    plt.subplot(1,2,1)\n",
        "    plt.plot(history.history['accuracy'])\n",
        "    plt.plot(history.history['val_accuracy'])\n",
        "    plt.title('model accuracy')\n",
        "    plt.ylabel('accuracy')\n",
        "    plt.xlabel('epoch')\n",
        "    plt.legend(['train', 'test'], loc='upper left')\n",
        "    # plt.savefig('./accuracy_curve.png')\n",
        "    #plt.clf()\n",
        "    # summarize history for loss\n",
        "    plt.subplot(1,2,2)\n",
        "    plt.plot(history.history['loss'])\n",
        "    plt.plot(history.history['val_loss'])\n",
        "    plt.title('model loss')\n",
        "    plt.ylabel('loss')\n",
        "    plt.xlabel('epoch')\n",
        "    plt.legend(['train', 'test'], loc='upper left')\n",
        "    # plt.savefig('./loss_curve.png')\n",
        "\n",
        "def shuffle_data(data, labels):\n",
        "  '''shuffle data and labels together'''\n",
        "\n",
        "  indices = np.arange(len(data))\n",
        "  np.random.shuffle(indices)\n",
        "  data = data[indices]\n",
        "  labels = labels[indices]\n",
        "\n",
        "  return data, labels"
      ],
      "metadata": {
        "id": "bcczFHmwdAFc"
      },
      "execution_count": null,
      "outputs": []
    },
    {
      "cell_type": "code",
      "source": [
        "# Load original Data\n",
        "p1 = basePath + '/dataset-master/JPEGImages/classes/EOSINOPHIL'\n",
        "p2 = basePath + '/dataset-master/JPEGImages/classes/LYMPHOCYTE'\n",
        "p3 =  basePath + '/dataset-master/JPEGImages/classes/MONOCYTE'\n",
        "p4 =  basePath + '/dataset-master/JPEGImages/classes/NEUTROPHIL'\n",
        "\n",
        "# define dictionary to map folder name to label\n",
        "label_dict = {'EOSINOPHIL': 0, 'LYMPHOCYTE': 1, 'MONOCYTE': 2, 'NEUTROPHIL': 3}\n",
        "num_classes = 4\n",
        "\n",
        "data_loaded, labels_loaded = fetch_data(p1, p2, p3, p4, label_dict)"
      ],
      "metadata": {
        "id": "Nu2SSanidsX5"
      },
      "execution_count": null,
      "outputs": []
    },
    {
      "cell_type": "code",
      "source": [
        "# # Load augmented data\n",
        "# p1 = basePath + '/dataset-master/GAN AUGMENTED DATA/eos'\n",
        "# p2 = basePath + '/dataset-master/GAN AUGMENTED DATA/lymph'\n",
        "# p3 =  basePath + '/dataset-master/GAN AUGMENTED DATA/mono'\n",
        "# p4 =  basePath + '/dataset-master/GAN AUGMENTED DATA/neutro'\n",
        "\n",
        "# # define dictionary to map folder name to label\n",
        "# label_dict = {'eos': 0, 'lymph': 1, 'mono': 2, 'neutro': 3}\n",
        "# num_classes = 4\n",
        "\n",
        "# data_augment, labels_augment = fetch_data(p1, p2, p3, p4, label_dict)"
      ],
      "metadata": {
        "id": "qTM26qiwdyth"
      },
      "execution_count": null,
      "outputs": []
    },
    {
      "cell_type": "code",
      "source": [
        "# data_loaded.shape, data_augment.shape"
      ],
      "metadata": {
        "id": "gmWEgDyC9P-O"
      },
      "execution_count": null,
      "outputs": []
    },
    {
      "cell_type": "code",
      "source": [
        "# data_total = np.concatenate((data_loaded, data_augment), axis=0)\n",
        "# labels_total = np.concatenate((labels_loaded, labels_augment), axis=0)\n",
        "\n",
        "# data_total.shape, labels_total.shape"
      ],
      "metadata": {
        "id": "AAxjxdH0eg-o"
      },
      "execution_count": null,
      "outputs": []
    },
    {
      "cell_type": "code",
      "source": [
        "# Shuffle data and convert labels to one hot encodings\n",
        "\n",
        "# data, labels = shuffle_data(data_total, labels_total)\n",
        "data, labels = shuffle_data(data_loaded, labels_loaded)\n",
        "# data, labels = shuffle_data(data_augment, labels_augment)\n",
        "\n",
        "labels = to_categorical(labels, num_classes = 4)\n",
        "print('data shape: ', data.shape)\n",
        "print('labels shape: ', labels.shape)"
      ],
      "metadata": {
        "colab": {
          "base_uri": "https://localhost:8080/"
        },
        "id": "0k-HdzvUesgo",
        "outputId": "fe353b39-2d80-43c3-f493-0468c7b02265"
      },
      "execution_count": null,
      "outputs": [
        {
          "output_type": "stream",
          "name": "stdout",
          "text": [
            "data shape:  (369, 60, 80, 3)\n",
            "labels shape:  (369, 4)\n"
          ]
        }
      ]
    },
    {
      "cell_type": "code",
      "source": [
        "# split data and labels into training, validation, and testing sets\n",
        "xtrain, xtest, ytrain, ytest = train_test_split(data, labels, test_size=0.15, random_state=42)\n",
        "xtrain, xval, ytrain, yval = train_test_split(xtrain, ytrain, test_size=0.15, random_state=42)\n",
        "\n",
        "# print the shapes of the training and testing sets ~ all y's are one hot encoded\n",
        "print('xtrain shape:', xtrain.shape)\n",
        "print('ytrain shape:', ytrain.shape)\n",
        "print('xval shape:', xval.shape)\n",
        "print('yval shape:', yval.shape)\n",
        "print('xtest shape:', xtest.shape)\n",
        "print('ytest shape:', ytest.shape)"
      ],
      "metadata": {
        "colab": {
          "base_uri": "https://localhost:8080/"
        },
        "id": "-x3CIF_QenSz",
        "outputId": "70dea28a-1c82-47e5-8809-4f9e812029cc"
      },
      "execution_count": null,
      "outputs": [
        {
          "output_type": "stream",
          "name": "stdout",
          "text": [
            "xtrain shape: (266, 60, 80, 3)\n",
            "ytrain shape: (266, 4)\n",
            "xval shape: (47, 60, 80, 3)\n",
            "yval shape: (47, 4)\n",
            "xtest shape: (56, 60, 80, 3)\n",
            "ytest shape: (56, 4)\n"
          ]
        }
      ]
    },
    {
      "cell_type": "code",
      "source": [
        "def runCNNRNNAugment(x_train,y_train,x_val,y_val, stride, epochs, bsize):\n",
        "\n",
        "    batch_size = bsize\n",
        "    num_classes = 4\n",
        "    img_rows,img_cols=60,80\n",
        "    input_shape = (img_rows, img_cols, 3)\n",
        "    input_tensor = Input(shape=input_shape)\n",
        "\n",
        "    # Creating CNN\n",
        "    modelcnn = Sequential()\n",
        "    modelcnn.add(Conv2D(32, kernel_size=(3, 3),\n",
        "                     activation='relu',\n",
        "                     input_shape=input_shape,strides=stride))\n",
        "    modelcnn.add(Conv2D(64, (3, 3), activation='relu'))\n",
        "    # modelcnn.add(Conv2D(64, (3, 3), activation='relu'))\n",
        "    # modelcnn.add(Conv2D(64, (3, 3), activation='relu'))\n",
        "    # modelcnn.add(Conv2D(64, (3, 3), activation='relu'))\n",
        "    modelcnn.add(MaxPooling2D(pool_size=(2, 2)))\n",
        "    modelcnn.add(Dropout(0.25))\n",
        "    modelcnn.add(Flatten())\n",
        "    cnn_output = modelcnn(input_tensor)\n",
        "\n",
        "    # Creating RNN\n",
        "    modelrnn = Lambda(rgb_to_grayscale, rgb_to_grayscale_output_shape)(input_tensor)\n",
        "    #modelrnn = Bidirectional(LSTM(64, return_sequences=True, dropout=0.25, recurrent_dropout=0.25))(modelrnn)\n",
        "    #rnn_output = Bidirectional(LSTM(64, dropout=0.25, recurrent_dropout=0.25))(modelrnn)\n",
        "    modelrnn = Bidirectional(CuDNNLSTM(64, return_sequences=True))(modelrnn)\n",
        "  #  modelrnn = Dropout(0.25)(modelrnn)\n",
        "    rnn_output = Bidirectional(CuDNNLSTM(64))(modelrnn)\n",
        "    rnn_output = Dropout(0.25)(rnn_output)\n",
        "\n",
        "    # Merging both cnn bottleneck and rnn's output wise element wise multiplication\n",
        "    merge_layer = concatenate([cnn_output, rnn_output])\n",
        "    last_process = Dense(128, activation='relu')(merge_layer)\n",
        "    last_process = Dropout(0.5)(last_process)\n",
        "    output_tensor = Dense(num_classes, activation='softmax')(last_process)\n",
        "    model = Model(inputs=input_tensor, outputs=output_tensor)\n",
        "    model.compile(loss=keras.losses.categorical_crossentropy,\n",
        "                  optimizer=keras.optimizers.Adam(),\n",
        "                  metrics=['accuracy'])\n",
        "\n",
        "    datagen = ImageDataGenerator(\n",
        "      # featurewise_center=False,  # set input mean to 0 over the dataset\n",
        "      # samplewise_center=False,  # set each sample mean to 0\n",
        "      # featurewise_std_normalization=False,  # divide inputs by std of the dataset\n",
        "      # samplewise_std_normalization=False,  # divide each input by its std\n",
        "      # zca_whitening=False,  # apply ZCA whitening\n",
        "      rotation_range=10,  # randomly rotate images in the range (degrees, 0 to 180)\n",
        "      # width_shift_range=0.1,  # randomly shift images horizontally (fraction of total width)\n",
        "      # height_shift_range=0.1,  # randomly shift images vertically (fraction of total height)\n",
        "      horizontal_flip=True,  # randomly flip images\n",
        "      vertical_flip=False)  # randomly flip images\n",
        "\n",
        "\n",
        "    history = model.fit_generator(datagen.flow(x_train,y_train, batch_size=32),\n",
        "                        steps_per_epoch=len(x_train) / 32, epochs=epochs, validation_data = [x_val, y_val],callbacks = [MetricsCheckpoint('logs')])\n",
        "\n",
        "    return model, history"
      ],
      "metadata": {
        "id": "ck6BPuqgd1vi"
      },
      "execution_count": null,
      "outputs": []
    },
    {
      "cell_type": "code",
      "source": [
        "bsize = 128\n",
        "epochs = 60\n",
        "stride = 1\n",
        "trained_model, hist = runCNNRNNAugment(xtrain, ytrain, xval, yval, stride, epochs, bsize)"
      ],
      "metadata": {
        "colab": {
          "base_uri": "https://localhost:8080/"
        },
        "id": "tyeRwgn-d-Lj",
        "outputId": "9b01d75f-18b9-402d-b3c1-2bca5b084e1b"
      },
      "execution_count": null,
      "outputs": [
        {
          "output_type": "stream",
          "name": "stderr",
          "text": [
            "<ipython-input-9-43fe61e63d27>:55: UserWarning: `Model.fit_generator` is deprecated and will be removed in a future version. Please use `Model.fit`, which supports generators.\n",
            "  history = model.fit_generator(datagen.flow(x_train,y_train, batch_size=32),\n"
          ]
        },
        {
          "output_type": "stream",
          "name": "stdout",
          "text": [
            "Epoch 1/60\n",
            "8/8 [==============================] - 14s 208ms/step - loss: 288.5812 - accuracy: 0.4173 - val_loss: 6.1873 - val_accuracy: 0.4894\n",
            "Epoch 2/60\n",
            "8/8 [==============================] - 1s 62ms/step - loss: 3.0491 - accuracy: 0.4586 - val_loss: 1.2219 - val_accuracy: 0.5319\n",
            "Epoch 3/60\n",
            "8/8 [==============================] - 1s 69ms/step - loss: 1.2297 - accuracy: 0.5789 - val_loss: 1.1741 - val_accuracy: 0.5532\n",
            "Epoch 4/60\n",
            "8/8 [==============================] - 1s 87ms/step - loss: 1.1240 - accuracy: 0.6053 - val_loss: 1.3632 - val_accuracy: 0.4894\n",
            "Epoch 5/60\n",
            "8/8 [==============================] - 1s 92ms/step - loss: 1.1173 - accuracy: 0.5752 - val_loss: 1.1744 - val_accuracy: 0.4894\n",
            "Epoch 6/60\n",
            "8/8 [==============================] - 1s 89ms/step - loss: 1.0507 - accuracy: 0.6015 - val_loss: 1.2414 - val_accuracy: 0.5106\n",
            "Epoch 7/60\n",
            "8/8 [==============================] - 1s 64ms/step - loss: 1.0194 - accuracy: 0.5940 - val_loss: 1.3300 - val_accuracy: 0.4255\n",
            "Epoch 8/60\n",
            "8/8 [==============================] - 0s 57ms/step - loss: 1.0213 - accuracy: 0.5977 - val_loss: 1.2279 - val_accuracy: 0.4894\n",
            "Epoch 9/60\n",
            "8/8 [==============================] - 0s 57ms/step - loss: 1.0081 - accuracy: 0.6053 - val_loss: 1.3921 - val_accuracy: 0.4468\n",
            "Epoch 10/60\n",
            "8/8 [==============================] - 0s 56ms/step - loss: 0.9906 - accuracy: 0.5977 - val_loss: 1.3602 - val_accuracy: 0.4894\n",
            "Epoch 11/60\n",
            "8/8 [==============================] - 0s 56ms/step - loss: 0.9288 - accuracy: 0.6165 - val_loss: 1.2725 - val_accuracy: 0.4681\n",
            "Epoch 12/60\n",
            "8/8 [==============================] - 0s 56ms/step - loss: 0.9509 - accuracy: 0.6015 - val_loss: 1.4885 - val_accuracy: 0.4681\n",
            "Epoch 13/60\n",
            "8/8 [==============================] - 1s 68ms/step - loss: 0.8695 - accuracy: 0.6466 - val_loss: 1.4068 - val_accuracy: 0.4468\n",
            "Epoch 14/60\n",
            "8/8 [==============================] - 1s 83ms/step - loss: 0.8477 - accuracy: 0.6391 - val_loss: 1.5232 - val_accuracy: 0.4681\n",
            "Epoch 15/60\n",
            "8/8 [==============================] - 0s 55ms/step - loss: 0.8093 - accuracy: 0.6692 - val_loss: 1.4477 - val_accuracy: 0.4043\n",
            "Epoch 16/60\n",
            "8/8 [==============================] - 0s 54ms/step - loss: 0.7772 - accuracy: 0.6541 - val_loss: 1.5529 - val_accuracy: 0.4468\n",
            "Epoch 17/60\n",
            "8/8 [==============================] - 1s 60ms/step - loss: 0.8725 - accuracy: 0.6579 - val_loss: 1.3915 - val_accuracy: 0.4255\n",
            "Epoch 18/60\n",
            "8/8 [==============================] - 0s 61ms/step - loss: 0.7954 - accuracy: 0.6654 - val_loss: 1.6034 - val_accuracy: 0.4043\n",
            "Epoch 19/60\n",
            "8/8 [==============================] - 0s 56ms/step - loss: 0.8226 - accuracy: 0.6729 - val_loss: 1.7962 - val_accuracy: 0.4468\n",
            "Epoch 20/60\n",
            "8/8 [==============================] - 0s 56ms/step - loss: 0.8941 - accuracy: 0.6541 - val_loss: 1.4138 - val_accuracy: 0.4255\n",
            "Epoch 21/60\n",
            "8/8 [==============================] - 0s 57ms/step - loss: 0.8863 - accuracy: 0.6466 - val_loss: 1.3116 - val_accuracy: 0.4681\n",
            "Epoch 22/60\n",
            "8/8 [==============================] - 0s 57ms/step - loss: 1.0981 - accuracy: 0.5827 - val_loss: 1.2245 - val_accuracy: 0.4894\n",
            "Epoch 23/60\n",
            "8/8 [==============================] - 0s 59ms/step - loss: 0.9935 - accuracy: 0.6053 - val_loss: 1.4379 - val_accuracy: 0.4255\n",
            "Epoch 24/60\n",
            "8/8 [==============================] - 1s 62ms/step - loss: 0.8936 - accuracy: 0.6429 - val_loss: 1.3297 - val_accuracy: 0.4681\n",
            "Epoch 25/60\n",
            "8/8 [==============================] - 0s 58ms/step - loss: 0.8232 - accuracy: 0.6692 - val_loss: 1.5335 - val_accuracy: 0.4255\n",
            "Epoch 26/60\n",
            "8/8 [==============================] - 1s 92ms/step - loss: 0.8195 - accuracy: 0.6654 - val_loss: 2.0279 - val_accuracy: 0.4468\n",
            "Epoch 27/60\n",
            "8/8 [==============================] - 1s 89ms/step - loss: 0.9464 - accuracy: 0.6391 - val_loss: 1.4682 - val_accuracy: 0.4468\n",
            "Epoch 28/60\n",
            "8/8 [==============================] - 1s 76ms/step - loss: 0.9513 - accuracy: 0.5940 - val_loss: 2.5797 - val_accuracy: 0.4255\n",
            "Epoch 29/60\n",
            "8/8 [==============================] - 1s 59ms/step - loss: 0.8451 - accuracy: 0.6917 - val_loss: 1.5256 - val_accuracy: 0.3617\n",
            "Epoch 30/60\n",
            "8/8 [==============================] - 0s 58ms/step - loss: 0.7567 - accuracy: 0.6729 - val_loss: 1.9474 - val_accuracy: 0.4043\n",
            "Epoch 31/60\n",
            "8/8 [==============================] - 0s 57ms/step - loss: 0.7598 - accuracy: 0.6617 - val_loss: 1.8103 - val_accuracy: 0.4255\n",
            "Epoch 32/60\n",
            "8/8 [==============================] - 0s 57ms/step - loss: 0.8002 - accuracy: 0.6805 - val_loss: 1.6122 - val_accuracy: 0.4468\n",
            "Epoch 33/60\n",
            "8/8 [==============================] - 0s 56ms/step - loss: 0.7858 - accuracy: 0.6692 - val_loss: 1.7630 - val_accuracy: 0.3617\n",
            "Epoch 34/60\n",
            "8/8 [==============================] - 0s 57ms/step - loss: 0.7565 - accuracy: 0.6842 - val_loss: 1.6783 - val_accuracy: 0.3191\n",
            "Epoch 35/60\n",
            "8/8 [==============================] - 1s 63ms/step - loss: 0.6927 - accuracy: 0.7218 - val_loss: 2.1289 - val_accuracy: 0.3404\n",
            "Epoch 36/60\n",
            "8/8 [==============================] - 1s 59ms/step - loss: 0.7161 - accuracy: 0.7293 - val_loss: 1.8180 - val_accuracy: 0.3830\n",
            "Epoch 37/60\n",
            "8/8 [==============================] - 1s 60ms/step - loss: 0.7478 - accuracy: 0.6955 - val_loss: 1.7368 - val_accuracy: 0.3830\n",
            "Epoch 38/60\n",
            "8/8 [==============================] - 0s 58ms/step - loss: 0.7131 - accuracy: 0.6842 - val_loss: 1.6816 - val_accuracy: 0.3404\n",
            "Epoch 39/60\n",
            "8/8 [==============================] - 1s 60ms/step - loss: 0.7010 - accuracy: 0.7293 - val_loss: 2.1818 - val_accuracy: 0.4043\n",
            "Epoch 40/60\n",
            "8/8 [==============================] - 1s 83ms/step - loss: 0.7533 - accuracy: 0.6955 - val_loss: 2.3934 - val_accuracy: 0.3830\n",
            "Epoch 41/60\n",
            "8/8 [==============================] - 1s 97ms/step - loss: 0.8986 - accuracy: 0.6466 - val_loss: 1.5298 - val_accuracy: 0.4255\n",
            "Epoch 42/60\n",
            "8/8 [==============================] - 1s 84ms/step - loss: 0.8435 - accuracy: 0.6504 - val_loss: 2.3481 - val_accuracy: 0.3404\n",
            "Epoch 43/60\n",
            "8/8 [==============================] - 0s 57ms/step - loss: 0.7101 - accuracy: 0.6880 - val_loss: 2.0629 - val_accuracy: 0.3404\n",
            "Epoch 44/60\n",
            "8/8 [==============================] - 1s 74ms/step - loss: 0.8996 - accuracy: 0.6579 - val_loss: 1.4376 - val_accuracy: 0.4468\n",
            "Epoch 45/60\n",
            "8/8 [==============================] - 1s 90ms/step - loss: 1.0861 - accuracy: 0.5827 - val_loss: 1.2735 - val_accuracy: 0.4894\n",
            "Epoch 46/60\n",
            "8/8 [==============================] - 1s 91ms/step - loss: 1.1063 - accuracy: 0.5714 - val_loss: 1.2062 - val_accuracy: 0.4894\n",
            "Epoch 47/60\n",
            "8/8 [==============================] - 0s 57ms/step - loss: 1.1017 - accuracy: 0.5789 - val_loss: 1.1922 - val_accuracy: 0.4894\n",
            "Epoch 48/60\n",
            "8/8 [==============================] - 0s 56ms/step - loss: 1.1014 - accuracy: 0.5789 - val_loss: 1.1907 - val_accuracy: 0.4894\n",
            "Epoch 49/60\n",
            "8/8 [==============================] - 0s 56ms/step - loss: 1.1064 - accuracy: 0.5789 - val_loss: 1.2004 - val_accuracy: 0.4894\n",
            "Epoch 50/60\n",
            "8/8 [==============================] - 1s 58ms/step - loss: 1.0834 - accuracy: 0.5827 - val_loss: 1.2365 - val_accuracy: 0.4894\n",
            "Epoch 51/60\n",
            "8/8 [==============================] - 0s 58ms/step - loss: 1.0602 - accuracy: 0.5789 - val_loss: 1.5833 - val_accuracy: 0.4894\n",
            "Epoch 52/60\n",
            "8/8 [==============================] - 1s 59ms/step - loss: 1.1278 - accuracy: 0.5789 - val_loss: 1.1893 - val_accuracy: 0.4894\n",
            "Epoch 53/60\n",
            "8/8 [==============================] - 0s 61ms/step - loss: 1.0893 - accuracy: 0.5789 - val_loss: 1.1993 - val_accuracy: 0.4894\n",
            "Epoch 54/60\n",
            "8/8 [==============================] - 0s 58ms/step - loss: 1.0962 - accuracy: 0.5789 - val_loss: 1.2088 - val_accuracy: 0.4894\n",
            "Epoch 55/60\n",
            "8/8 [==============================] - 1s 58ms/step - loss: 1.0850 - accuracy: 0.5789 - val_loss: 1.2154 - val_accuracy: 0.4894\n",
            "Epoch 56/60\n",
            "8/8 [==============================] - 0s 57ms/step - loss: 1.0635 - accuracy: 0.5789 - val_loss: 1.2295 - val_accuracy: 0.4681\n",
            "Epoch 57/60\n",
            "8/8 [==============================] - 1s 59ms/step - loss: 0.8929 - accuracy: 0.6504 - val_loss: 2.1648 - val_accuracy: 0.3191\n",
            "Epoch 58/60\n",
            "8/8 [==============================] - 0s 63ms/step - loss: 0.7584 - accuracy: 0.7105 - val_loss: 1.6948 - val_accuracy: 0.3830\n",
            "Epoch 59/60\n",
            "8/8 [==============================] - 1s 60ms/step - loss: 0.7724 - accuracy: 0.6729 - val_loss: 1.7905 - val_accuracy: 0.4043\n",
            "Epoch 60/60\n",
            "8/8 [==============================] - 1s 58ms/step - loss: 0.6672 - accuracy: 0.7068 - val_loss: 1.9760 - val_accuracy: 0.3830\n"
          ]
        }
      ]
    },
    {
      "cell_type": "code",
      "source": [
        "score = trained_model.evaluate(xtrain, ytrain, verbose=0)\n",
        "print('\\nKeras CNN #1C - accuracy:', score[1],'\\n')\n",
        "print('Train loss:', score[0])\n",
        "print('Train accuracy:', score[1])\n",
        "\n",
        "y_pred = trained_model.predict(xtrain)\n",
        "map_characters = label_dict\n",
        "print('\\n', sklearn.metrics.classification_report(np.where(ytrain > 0)[1], np.argmax(y_pred, axis=1), target_names=list(map_characters.keys())), sep='')\n",
        "Y_pred_classes = np.argmax(y_pred,axis=1)\n",
        "Y_true = np.argmax(ytrain,axis=1)\n",
        "# plotKerasLearningCurve()\n",
        "# plt.show()\n",
        "plot_learning_curve(hist)\n",
        "# plt.show()\n",
        "confusion_mtx = confusion_matrix(Y_true, Y_pred_classes)\n",
        "plot_confusion_matrix(confusion_mtx, classes = list(label_dict.values()))\n",
        "plt.show()"
      ],
      "metadata": {
        "colab": {
          "base_uri": "https://localhost:8080/",
          "height": 1000
        },
        "id": "r9rF2qN5AT4U",
        "outputId": "76915be9-b5b8-446b-9f45-e169f1570fc1"
      },
      "execution_count": null,
      "outputs": [
        {
          "output_type": "stream",
          "name": "stdout",
          "text": [
            "\n",
            "Keras CNN #1C - accuracy: 0.7894737124443054 \n",
            "\n",
            "Train loss: 0.5203179717063904\n",
            "Train accuracy: 0.7894737124443054\n",
            "9/9 [==============================] - 1s 14ms/step\n",
            "\n",
            "              precision    recall  f1-score   support\n",
            "\n",
            "  EOSINOPHIL       0.84      0.55      0.67        69\n",
            "  LYMPHOCYTE       0.82      0.82      0.82        22\n",
            "    MONOCYTE       0.90      0.43      0.58        21\n",
            "  NEUTROPHIL       0.77      0.94      0.85       154\n",
            "\n",
            "    accuracy                           0.79       266\n",
            "   macro avg       0.83      0.68      0.73       266\n",
            "weighted avg       0.80      0.79      0.78       266\n",
            "\n"
          ]
        },
        {
          "output_type": "display_data",
          "data": {
            "text/plain": [
              "<Figure size 576x576 with 2 Axes>"
            ],
            "image/png": "[encoded data removed]"
          },
          "metadata": {
            "needs_background": "light"
          }
        },
        {
          "output_type": "display_data",
          "data": {
            "text/plain": [
              "<Figure size 360x360 with 2 Axes>"
            ],
            "image/png": "[encoded data removed]"
          },
          "metadata": {
            "needs_background": "light"
          }
        }
      ]
    },
    {
      "cell_type": "code",
      "source": [
        "# Test set results\n",
        "score = trained_model.evaluate(xtest, ytest, verbose=0)\n",
        "print('\\nKeras CNN #1C - accuracy:', score[1],'\\n')\n",
        "print('Test loss:', score[0])\n",
        "print('Test accuracy:', score[1])\n",
        "\n",
        "y_pred = trained_model.predict(xtest)\n",
        "map_characters = label_dict\n",
        "print('\\n', sklearn.metrics.classification_report(np.where(ytest > 0)[1], np.argmax(y_pred, axis=1), target_names=list(map_characters.keys())), sep='')\n",
        "Y_pred_classes = np.argmax(y_pred,axis=1)\n",
        "Y_true = np.argmax(ytest,axis=1)\n",
        "# plotKerasLearningCurve()\n",
        "# plt.show()\n",
        "# plot_learning_curve(hist)\n",
        "# plt.show()\n",
        "confusion_mtx = confusion_matrix(Y_true, Y_pred_classes)\n",
        "plot_confusion_matrix(confusion_mtx, classes = list(label_dict.values()))\n",
        "plt.show()"
      ],
      "metadata": {
        "id": "-cA5diabnDTu",
        "colab": {
          "base_uri": "https://localhost:8080/",
          "height": 824
        },
        "outputId": "8178ee44-ba45-4094-a6d7-df50805d2e92"
      },
      "execution_count": null,
      "outputs": [
        {
          "output_type": "stream",
          "name": "stdout",
          "text": [
            "\n",
            "Keras CNN #1C - accuracy: 0.6607142686843872 \n",
            "\n",
            "Test loss: 1.4589192867279053\n",
            "Test accuracy: 0.6607142686843872\n",
            "2/2 [==============================] - 0s 12ms/step\n",
            "\n",
            "              precision    recall  f1-score   support\n",
            "\n",
            "  EOSINOPHIL       0.38      0.27      0.32        11\n",
            "  LYMPHOCYTE       0.50      0.14      0.22         7\n",
            "    MONOCYTE       0.00      0.00      0.00         0\n",
            "  NEUTROPHIL       0.73      0.87      0.80        38\n",
            "\n",
            "    accuracy                           0.66        56\n",
            "   macro avg       0.40      0.32      0.33        56\n",
            "weighted avg       0.63      0.66      0.63        56\n",
            "\n"
          ]
        },
        {
          "output_type": "stream",
          "name": "stderr",
          "text": [
            "/usr/local/lib/python3.9/dist-packages/sklearn/metrics/_classification.py:1344: UndefinedMetricWarning: Recall and F-score are ill-defined and being set to 0.0 in labels with no true samples. Use `zero_division` parameter to control this behavior.\n",
            "  _warn_prf(average, modifier, msg_start, len(result))\n",
            "/usr/local/lib/python3.9/dist-packages/sklearn/metrics/_classification.py:1344: UndefinedMetricWarning: Recall and F-score are ill-defined and being set to 0.0 in labels with no true samples. Use `zero_division` parameter to control this behavior.\n",
            "  _warn_prf(average, modifier, msg_start, len(result))\n",
            "/usr/local/lib/python3.9/dist-packages/sklearn/metrics/_classification.py:1344: UndefinedMetricWarning: Recall and F-score are ill-defined and being set to 0.0 in labels with no true samples. Use `zero_division` parameter to control this behavior.\n",
            "  _warn_prf(average, modifier, msg_start, len(result))\n"
          ]
        },
        {
          "output_type": "display_data",
          "data": {
            "text/plain": [
              "<Figure size 360x360 with 2 Axes>"
            ],
            "image/png": "[encoded data removed]"
          },
          "metadata": {
            "needs_background": "light"
          }
        }
      ]
    },
    {
      "cell_type": "code",
      "source": [
        "# save the trained model\n",
        "modelPath = basePath + '/models/'\n",
        "trained_model.save(modelPath + 'cnn-rnn-og-trad.h5')\n",
        "\n",
        "# save the history object\n",
        "with open(modelPath + 'hist-cnn-rnn-og-trad.pickle', 'wb') as handle:\n",
        "    pickle.dump(hist.history, handle, protocol=pickle.HIGHEST_PROTOCOL)"
      ],
      "metadata": {
        "id": "FEBzi1Bqd-GW"
      },
      "execution_count": null,
      "outputs": []
    },
    {
      "cell_type": "code",
      "source": [],
      "metadata": {
        "id": "8g6JXCIkrTkz"
      },
      "execution_count": null,
      "outputs": []
    }
  ]
}