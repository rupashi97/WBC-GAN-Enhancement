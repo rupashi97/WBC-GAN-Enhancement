{
 "cells": [
  {
   "cell_type": "code",
   "execution_count": null,
   "metadata": {
    "colab": {
     "base_uri": "https://localhost:8080/"
    },
    "id": "yvAyBlc9YZ-z",
    "outputId": "09b82117-1614-4638-c6ef-c8d322f7ac61"
   },
   "outputs": [
    {
     "name": "stdout",
     "output_type": "stream",
     "text": [
      "Mounted at /content/drive\n"
     ]
    }
   ],
   "source": [
    "import numpy as np\n",
    "import pandas as pd\n",
    "import keras\n",
    "from keras.models import Sequential\n",
    "from keras.layers import Dense, Dropout, Activation, Flatten, Conv2D, MaxPooling2D, Lambda, MaxPool2D, BatchNormalization\n",
    "from keras.utils import np_utils\n",
    "from keras.preprocessing.image import ImageDataGenerator\n",
    "from keras.optimizers import RMSprop\n",
    "from keras.callbacks import Callback, EarlyStopping, ReduceLROnPlateau, ModelCheckpoint\n",
    "from keras.utils.np_utils import to_categorical\n",
    "from sklearn.preprocessing import LabelEncoder\n",
    "from sklearn.model_selection import train_test_split\n",
    "from sklearn.metrics import confusion_matrix\n",
    "from sklearn.metrics import accuracy_score\n",
    "import xml.etree.ElementTree as ET\n",
    "import sklearn\n",
    "import itertools\n",
    "import cv2\n",
    "import scipy\n",
    "import os\n",
    "import csv\n",
    "import matplotlib.pyplot as plt\n",
    "%matplotlib inline\n",
    "from tqdm import tqdm\n",
    "import seaborn as sns\n",
    "from google.colab import drive\n",
    "\n",
    "drive.mount('/content/drive')"
   ]
  },
  {
   "cell_type": "code",
   "execution_count": null,
   "metadata": {
    "colab": {
     "base_uri": "https://localhost:8080/"
    },
    "id": "gDETzZNkc_9s",
    "outputId": "c986527d-ce85-4a2f-db73-2cb51af537fa"
   },
   "outputs": [
    {
     "name": "stdout",
     "output_type": "stream",
     "text": [
      "/content/drive/MyDrive/ECE-176\n"
     ]
    }
   ],
   "source": [
    "%cd drive/MyDrive/ECE-176"
   ]
  },
  {
   "cell_type": "code",
   "execution_count": null,
   "metadata": {
    "id": "O6MKDCgbdAAd"
   },
   "outputs": [],
   "source": [
    "basePath = os.getcwd()\n",
    "num_classes = 4"
   ]
  },
  {
   "cell_type": "code",
   "execution_count": null,
   "metadata": {
    "id": "6k8LeRtmdAC1"
   },
   "outputs": [],
   "source": [
    "# Helper Functions\n",
    "\n",
    "def fetch_data(path_to_folder1, path_to_folder2, path_to_folder3, path_to_folder4, label_dict):\n",
    "  # define lists to hold image data and corresponding labels\n",
    "  data = []\n",
    "  labels = []\n",
    "\n",
    "  # loop through each folder and read images\n",
    "  for folder in [path_to_folder1, path_to_folder2, path_to_folder3, path_to_folder4]:\n",
    "      for filename in os.listdir(folder):\n",
    "          img = cv2.imread(os.path.join(folder, filename))\n",
    "          if img is not None:\n",
    "              # resize image if needed\n",
    "              # img = cv2.resize(img, (256, 256))\n",
    "              # img = cv2.resize(img, (80, 60))\n",
    "              img = cv2.resize(img, dsize=(80,60), interpolation=cv2.INTER_CUBIC)\n",
    "              # convert image to numpy array and append to data list\n",
    "              data.append(np.array(img))\n",
    "              # get label from folder name and append to labels list\n",
    "              label = label_dict[os.path.basename(folder)]\n",
    "              labels.append(label)\n",
    "\n",
    "  data, labels = np.array(data), np.array(labels)\n",
    "  # data = np.transpose(data, (0, 3, 1, 2)) # rearranges shape from (369, 256, 256, 3) to (369, 3, 256, 256)\n",
    "\n",
    "  return data, labels"
   ]
  },
  {
   "cell_type": "code",
   "execution_count": null,
   "metadata": {
    "id": "bcczFHmwdAFc"
   },
   "outputs": [],
   "source": [
    "# Helper Functions  Learning Curves and Confusion Matrix\n",
    "class MetricsCheckpoint(Callback):\n",
    "    \"\"\"Callback that saves metrics after each epoch\"\"\"\n",
    "    def __init__(self, savepath):\n",
    "        super(MetricsCheckpoint, self).__init__()\n",
    "        self.savepath = savepath\n",
    "        self.history = {}\n",
    "    def on_epoch_end(self, epoch, logs=None):\n",
    "        for k, v in logs.items():\n",
    "            self.history.setdefault(k, []).append(v)\n",
    "        np.save(self.savepath, self.history)\n",
    "\n",
    "def plotKerasLearningCurve():\n",
    "    plt.figure(figsize=(10,5))\n",
    "    metrics = np.load('logs.npy')[()]\n",
    "    filt = ['acc'] # try to add 'loss' to see the loss learning curve\n",
    "    for k in filter(lambda x : np.any([kk in x for kk in filt]), metrics.keys()):\n",
    "        l = np.array(metrics[k])\n",
    "        plt.plot(l, c= 'r' if 'val' not in k else 'b', label='val' if 'val' in k else 'train')\n",
    "        x = np.argmin(l) if 'loss' in k else np.argmax(l)\n",
    "        y = l[x]\n",
    "        plt.scatter(x,y, lw=0, alpha=0.25, s=100, c='r' if 'val' not in k else 'b')\n",
    "        plt.text(x, y, '{} = {:.4f}'.format(x,y), size='15', color= 'r' if 'val' not in k else 'b')   \n",
    "    plt.legend(loc=4)\n",
    "    plt.axis([0, None, None, None]);\n",
    "    plt.grid()\n",
    "    plt.xlabel('Number of epochs')\n",
    "    plt.ylabel('Accuracy')\n",
    "\n",
    "def plot_confusion_matrix(cm, classes,\n",
    "                          normalize=False,\n",
    "                          title='Confusion matrix',\n",
    "                          cmap=plt.cm.Blues):\n",
    "#This function prints and plots the confusion matrix.\n",
    "#Normalization can be applied by setting `normalize=True`.\n",
    "\n",
    "    plt.figure(figsize = (5,5))\n",
    "    plt.imshow(cm, interpolation='nearest', cmap=cmap)\n",
    "    plt.title(title)\n",
    "    plt.colorbar()\n",
    "    tick_marks = np.arange(len(classes))\n",
    "    plt.xticks(tick_marks, classes, rotation=90)\n",
    "    plt.yticks(tick_marks, classes)\n",
    "    if normalize:\n",
    "        cm = cm.astype('float') / cm.sum(axis=1)[:, np.newaxis]\n",
    "\n",
    "    thresh = cm.max() / 2.\n",
    "    for i, j in itertools.product(range(cm.shape[0]), range(cm.shape[1])):\n",
    "        plt.text(j, i, cm[i, j],\n",
    "                 horizontalalignment=\"center\",\n",
    "                 color=\"white\" if cm[i, j] > thresh else \"black\")\n",
    "    plt.tight_layout()\n",
    "    plt.ylabel('True label')\n",
    "    plt.xlabel('Predicted label')\n",
    "\n",
    "def plot_learning_curve(history):\n",
    "    plt.figure(figsize=(8,8))\n",
    "    plt.subplot(1,2,1)\n",
    "    plt.plot(history.history['acc'])\n",
    "    plt.plot(history.history['val_acc'])\n",
    "    plt.title('model accuracy')\n",
    "    plt.ylabel('accuracy')\n",
    "    plt.xlabel('epoch')\n",
    "    plt.legend(['train', 'test'], loc='upper left')\n",
    "    plt.savefig('./accuracy_curve.png')\n",
    "    #plt.clf()\n",
    "    # summarize history for loss\n",
    "    plt.subplot(1,2,2)\n",
    "    plt.plot(history.history['loss'])\n",
    "    plt.plot(history.history['val_loss'])\n",
    "    plt.title('model loss')\n",
    "    plt.ylabel('loss')\n",
    "    plt.xlabel('epoch')\n",
    "    plt.legend(['train', 'test'], loc='upper left')\n",
    "    plt.savefig('./loss_curve.png')\n",
    "\n",
    "def shuffle_data(data, labels):\n",
    "  '''shuffle data and labels together'''\n",
    "\n",
    "  indices = np.arange(len(data))\n",
    "  np.random.shuffle(indices)\n",
    "  data = data[indices]\n",
    "  labels = labels[indices]\n",
    "\n",
    "  return data, labels"
   ]
  },
  {
   "cell_type": "code",
   "execution_count": null,
   "metadata": {
    "id": "Nu2SSanidsX5"
   },
   "outputs": [],
   "source": [
    "# # Load original Data\n",
    "# p1 = basePath + '/dataset-master/JPEGImages/classes/EOSINOPHIL'\n",
    "# p2 = basePath + '/dataset-master/JPEGImages/classes/LYMPHOCYTE'\n",
    "# p3 =  basePath + '/dataset-master/JPEGImages/classes/MONOCYTE'\n",
    "# p4 =  basePath + '/dataset-master/JPEGImages/classes/NEUTROPHIL'\n",
    "\n",
    "# # define dictionary to map folder name to label\n",
    "# label_dict = {'EOSINOPHIL': 0, 'LYMPHOCYTE': 1, 'MONOCYTE': 2, 'NEUTROPHIL': 3}\n",
    "\n",
    "# data_loaded, labels_loaded = fetch_data(p1, p2, p3, p4, label_dict)"
   ]
  },
  {
   "cell_type": "code",
   "execution_count": null,
   "metadata": {
    "id": "qTM26qiwdyth"
   },
   "outputs": [],
   "source": [
    "# Load augmented data\n",
    "p1 = basePath + '/dataset-master/GAN AUGMENTED DATA/eos'\n",
    "p2 = basePath + '/dataset-master/GAN AUGMENTED DATA/lymph'\n",
    "p3 =  basePath + '/dataset-master/GAN AUGMENTED DATA/mono'\n",
    "p4 =  basePath + '/dataset-master/GAN AUGMENTED DATA/neutro'\n",
    "\n",
    "# define dictionary to map folder name to label\n",
    "label_dict = {'eos': 0, 'lymph': 1, 'mono': 2, 'neutro': 3}\n",
    "\n",
    "data_augment, labels_augment = fetch_data(p1, p2, p3, p4, label_dict)"
   ]
  },
  {
   "cell_type": "code",
   "execution_count": null,
   "metadata": {
    "id": "AAxjxdH0eg-o"
   },
   "outputs": [],
   "source": [
    "# data_total = np.concatenate((data_loaded, data_augment), axis=0)\n",
    "# labels_total = np.concatenate((labels_loaded, labels_augment), axis=0)\n",
    "\n",
    "# data_total.shape, labels_total.shape"
   ]
  },
  {
   "cell_type": "code",
   "execution_count": null,
   "metadata": {
    "id": "QxtkQbIYGm6e"
   },
   "outputs": [],
   "source": [
    "# # Remove label 3 \n",
    "\n",
    "# indexes = np.where(labels_total == 3)[0]\n",
    "# data_total_new = np.delete(data_total, indexes, axis=0)\n",
    "# label_total_new = np.delete(labels_total, indexes)\n",
    "\n",
    "# data_total_new.shape, label_total_new.shape"
   ]
  },
  {
   "cell_type": "code",
   "execution_count": null,
   "metadata": {
    "colab": {
     "base_uri": "https://localhost:8080/"
    },
    "id": "0k-HdzvUesgo",
    "outputId": "b7aeac9d-9496-4f70-bd40-5525431f70fc"
   },
   "outputs": [
    {
     "name": "stdout",
     "output_type": "stream",
     "text": [
      "data shape:  (1200, 60, 80, 3)\n",
      "labels shape:  (1200, 4)\n"
     ]
    }
   ],
   "source": [
    "# Shuffle data and convert labels to one hot encodings\n",
    "\n",
    "# data, labels = shuffle_data(data_total_new, label_total_new)\n",
    "# data, labels = shuffle_data(data_total, labels_total)\n",
    "\n",
    "data, labels = shuffle_data(data_augment, labels_augment)\n",
    "# data, labels = shuffle_data(data_loaded, labels_loaded)\n",
    "\n",
    "\n",
    "labels = to_categorical(labels, num_classes = num_classes)\n",
    "print('data shape: ', data.shape)\n",
    "print('labels shape: ', labels.shape)"
   ]
  },
  {
   "cell_type": "code",
   "execution_count": null,
   "metadata": {
    "colab": {
     "base_uri": "https://localhost:8080/"
    },
    "id": "-x3CIF_QenSz",
    "outputId": "12df4b4d-42ca-4569-8905-c5e1821d927b"
   },
   "outputs": [
    {
     "name": "stdout",
     "output_type": "stream",
     "text": [
      "xtrain shape: (867, 60, 80, 3)\n",
      "ytrain shape: (867, 4)\n",
      "xval shape: (153, 60, 80, 3)\n",
      "yval shape: (153, 4)\n",
      "xtest shape: (180, 60, 80, 3)\n",
      "ytest shape: (180, 4)\n"
     ]
    }
   ],
   "source": [
    "# split data and labels into training, validation, and testing sets\n",
    "xtrain, xtest, ytrain, ytest = train_test_split(data, labels, test_size=0.15, random_state=42)\n",
    "xtrain, xval, ytrain, yval = train_test_split(xtrain, ytrain, test_size=0.15, random_state=42)\n",
    "\n",
    "# print the shapes of the training and testing sets ~ all y's are one hot encoded\n",
    "print('xtrain shape:', xtrain.shape)\n",
    "print('ytrain shape:', ytrain.shape)\n",
    "print('xval shape:', xval.shape)\n",
    "print('yval shape:', yval.shape)\n",
    "print('xtest shape:', xtest.shape)\n",
    "print('ytest shape:', ytest.shape)"
   ]
  },
  {
   "cell_type": "code",
   "execution_count": null,
   "metadata": {
    "id": "ck6BPuqgd1vi"
   },
   "outputs": [],
   "source": [
    "\n",
    "\n",
    "def runKerasCNNAugment(x_train,y_train,x_val,y_val, stride, epochs):\n",
    "    batch_size = 128\n",
    "    img_rows,img_cols=60,80\n",
    "    input_shape = (img_rows, img_cols, 3)\n",
    "\n",
    "    model = Sequential()\n",
    "    model.add(Conv2D(32, kernel_size=(3, 3),\n",
    "                     activation='relu',\n",
    "                     input_shape=input_shape,strides=stride))\n",
    "    model.add(Conv2D(64, (3, 3), activation='relu'))\n",
    "    model.add(Conv2D(64, (3, 3), activation='relu'))\n",
    "    model.add(Conv2D(64, (3, 3), activation='relu'))\n",
    "    model.add(Conv2D(64, (3, 3), activation='relu'))\n",
    "    model.add(MaxPooling2D(pool_size=(2, 2)))\n",
    "    model.add(Dropout(0.25))\n",
    "    model.add(Flatten())\n",
    "    model.add(Dense(128, activation='relu')),\n",
    "    # model.add(Dense(128, activation='relu',  kernel_regularizer=keras.regularizers.l2(0.001)))\n",
    "    model.add(Dropout(0.5))\n",
    "    model.add(Dense(num_classes, activation='softmax'))\n",
    "    model.compile(loss=keras.losses.categorical_crossentropy,\n",
    "                  # optimizer=keras.optimizers.Adadelta(),\n",
    "                  optimizer=keras.optimizers.Adam(),\n",
    "                  metrics=['accuracy'])\n",
    "    \n",
    "    datagen = ImageDataGenerator(\n",
    "     #    featurewise_center=False,  # set input mean to 0 over the dataset\n",
    "      #   samplewise_center=False,  # set each sample mean to 0\n",
    "       #  featurewise_std_normalization=False,  # divide inputs by std of the dataset\n",
    "        # samplewise_std_normalization=False,  # divide each input by its std\n",
    "         #zca_whitening=False,  # apply ZCA whitening\n",
    "         rotation_range=10,  # randomly rotate images in the range (degrees, 0 to 180)\n",
    "        # width_shift_range=0.1,  # randomly shift images horizontally (fraction of total width)\n",
    "         #height_shift_range=0.1,  # randomly shift images vertically (fraction of total height)\n",
    "         horizontal_flip=True,  # randomly flip images\n",
    "         #vertical_flip=True\n",
    "         )  # randomly flip images\n",
    "\n",
    "    #datagen = ImageDataGenerator(\n",
    "     #rescale=1./255,\n",
    "  #  rotation_range=10,\n",
    "    #width_shift_range=0.2,\n",
    "    #height_shift_range=0.2,\n",
    "    #shear_range=0.2,\n",
    "    #zoom_range=0.2,\n",
    " #  horizontal_flip=True,\n",
    "   #vertical_flip=True,\n",
    "    # fill_mode='nearest',\n",
    "    # random_crop=True # enable random cropping\n",
    "    # width_crop=224, # specify width of the crop\n",
    "    # height_crop=224 # specify height of the crop\n",
    "#)\n",
    "\n",
    "\n",
    "    history = model.fit_generator(datagen.flow(x_train,y_train, batch_size=32),\n",
    "                        steps_per_epoch=len(x_train) / 32, epochs=epochs, validation_data = [x_val, y_val],callbacks = [MetricsCheckpoint('logs')])\n",
    "    \n",
    "    # history = model.fit(x_train, y_train, batch_size=batch_size, epochs=epochs, verbose=1, validation_data=(x_val, y_val))\n",
    "\n",
    "    return model, history"
   ]
  },
  {
   "cell_type": "code",
   "execution_count": null,
   "metadata": {
    "colab": {
     "base_uri": "https://localhost:8080/"
    },
    "id": "tyeRwgn-d-Lj",
    "outputId": "99c65795-4d7b-46eb-e066-f2e19a81cc92"
   },
   "outputs": [
    {
     "name": "stdout",
     "output_type": "stream",
     "text": [
      "Epoch 1/60\n"
     ]
    },
    {
     "name": "stderr",
     "output_type": "stream",
     "text": [
      "<ipython-input-18-dfd71db98cf9>:55: UserWarning: `Model.fit_generator` is deprecated and will be removed in a future version. Please use `Model.fit`, which supports generators.\n",
      "  history = model.fit_generator(datagen.flow(x_train,y_train, batch_size=32),\n"
     ]
    },
    {
     "name": "stdout",
     "output_type": "stream",
     "text": [
      " 5/27 [====>.........................] - ETA: 1s - loss: 35.5133 - accuracy: 0.3063"
     ]
    },
    {
     "name": "stderr",
     "output_type": "stream",
     "text": [
      "WARNING:tensorflow:Callback method `on_train_batch_end` is slow compared to the batch time (batch time: 0.0238s vs `on_train_batch_end` time: 0.0308s). Check your callbacks.\n"
     ]
    },
    {
     "name": "stdout",
     "output_type": "stream",
     "text": [
      "27/27 [==============================] - 3s 65ms/step - loss: 8.0056 - accuracy: 0.2780 - val_loss: 1.1958 - val_accuracy: 0.4575\n",
      "Epoch 2/60\n",
      "27/27 [==============================] - 2s 58ms/step - loss: 1.1231 - accuracy: 0.4867 - val_loss: 0.9053 - val_accuracy: 0.6667\n",
      "Epoch 3/60\n",
      "27/27 [==============================] - 2s 57ms/step - loss: 0.9242 - accuracy: 0.5917 - val_loss: 0.6211 - val_accuracy: 0.7516\n",
      "Epoch 4/60\n",
      "27/27 [==============================] - 2s 60ms/step - loss: 0.7985 - accuracy: 0.6413 - val_loss: 0.5672 - val_accuracy: 0.6928\n",
      "Epoch 5/60\n",
      "27/27 [==============================] - 2s 85ms/step - loss: 0.6483 - accuracy: 0.7163 - val_loss: 0.5037 - val_accuracy: 0.7647\n",
      "Epoch 6/60\n",
      "27/27 [==============================] - 2s 58ms/step - loss: 0.5477 - accuracy: 0.7912 - val_loss: 0.6907 - val_accuracy: 0.7451\n",
      "Epoch 7/60\n",
      "27/27 [==============================] - 2s 57ms/step - loss: 0.5422 - accuracy: 0.7762 - val_loss: 0.4349 - val_accuracy: 0.8693\n",
      "Epoch 8/60\n",
      "27/27 [==============================] - 2s 57ms/step - loss: 0.4781 - accuracy: 0.8097 - val_loss: 0.4497 - val_accuracy: 0.8170\n",
      "Epoch 9/60\n",
      "27/27 [==============================] - 2s 58ms/step - loss: 0.3926 - accuracy: 0.8478 - val_loss: 0.5272 - val_accuracy: 0.8497\n",
      "Epoch 10/60\n",
      "27/27 [==============================] - 2s 58ms/step - loss: 0.4300 - accuracy: 0.8535 - val_loss: 0.4395 - val_accuracy: 0.7908\n",
      "Epoch 11/60\n",
      "27/27 [==============================] - 2s 56ms/step - loss: 0.3859 - accuracy: 0.8616 - val_loss: 0.4136 - val_accuracy: 0.8497\n",
      "Epoch 12/60\n",
      "27/27 [==============================] - 2s 80ms/step - loss: 0.3931 - accuracy: 0.8547 - val_loss: 0.3995 - val_accuracy: 0.8758\n",
      "Epoch 13/60\n",
      "27/27 [==============================] - 2s 74ms/step - loss: 0.3158 - accuracy: 0.8904 - val_loss: 0.4020 - val_accuracy: 0.9085\n",
      "Epoch 14/60\n",
      "27/27 [==============================] - 2s 56ms/step - loss: 0.3679 - accuracy: 0.8639 - val_loss: 0.4453 - val_accuracy: 0.7582\n",
      "Epoch 15/60\n",
      "27/27 [==============================] - 2s 58ms/step - loss: 0.3563 - accuracy: 0.8708 - val_loss: 0.4244 - val_accuracy: 0.8039\n",
      "Epoch 16/60\n",
      "27/27 [==============================] - 2s 58ms/step - loss: 0.3464 - accuracy: 0.8674 - val_loss: 0.3563 - val_accuracy: 0.8693\n",
      "Epoch 17/60\n",
      "27/27 [==============================] - 2s 57ms/step - loss: 0.3146 - accuracy: 0.8824 - val_loss: 0.3948 - val_accuracy: 0.8562\n",
      "Epoch 18/60\n",
      "27/27 [==============================] - 2s 58ms/step - loss: 0.2915 - accuracy: 0.8916 - val_loss: 0.4163 - val_accuracy: 0.8562\n",
      "Epoch 19/60\n",
      "27/27 [==============================] - 2s 81ms/step - loss: 0.2631 - accuracy: 0.9031 - val_loss: 0.3912 - val_accuracy: 0.8693\n",
      "Epoch 20/60\n",
      "27/27 [==============================] - 2s 84ms/step - loss: 0.2870 - accuracy: 0.9031 - val_loss: 0.5386 - val_accuracy: 0.8235\n",
      "Epoch 21/60\n",
      "27/27 [==============================] - 2s 58ms/step - loss: 0.3243 - accuracy: 0.8881 - val_loss: 0.4526 - val_accuracy: 0.8366\n",
      "Epoch 22/60\n",
      "27/27 [==============================] - 2s 58ms/step - loss: 0.2432 - accuracy: 0.9066 - val_loss: 0.4062 - val_accuracy: 0.8627\n",
      "Epoch 23/60\n",
      "27/27 [==============================] - 2s 59ms/step - loss: 0.2346 - accuracy: 0.9273 - val_loss: 0.3942 - val_accuracy: 0.8758\n",
      "Epoch 24/60\n",
      "27/27 [==============================] - 2s 58ms/step - loss: 0.1848 - accuracy: 0.9343 - val_loss: 0.3378 - val_accuracy: 0.8889\n",
      "Epoch 25/60\n",
      "27/27 [==============================] - 2s 58ms/step - loss: 0.2384 - accuracy: 0.9193 - val_loss: 0.4914 - val_accuracy: 0.8889\n",
      "Epoch 26/60\n",
      "27/27 [==============================] - 2s 59ms/step - loss: 0.2585 - accuracy: 0.8997 - val_loss: 0.4218 - val_accuracy: 0.8497\n",
      "Epoch 27/60\n",
      "27/27 [==============================] - 2s 84ms/step - loss: 0.1819 - accuracy: 0.9377 - val_loss: 0.4133 - val_accuracy: 0.8693\n",
      "Epoch 28/60\n",
      "27/27 [==============================] - 2s 75ms/step - loss: 0.1324 - accuracy: 0.9493 - val_loss: 1.2041 - val_accuracy: 0.7908\n",
      "Epoch 29/60\n",
      "27/27 [==============================] - 2s 58ms/step - loss: 0.3088 - accuracy: 0.9100 - val_loss: 0.5094 - val_accuracy: 0.8627\n",
      "Epoch 30/60\n",
      "27/27 [==============================] - 2s 57ms/step - loss: 0.1816 - accuracy: 0.9377 - val_loss: 0.4198 - val_accuracy: 0.8693\n",
      "Epoch 31/60\n",
      "27/27 [==============================] - 2s 57ms/step - loss: 0.2333 - accuracy: 0.9227 - val_loss: 0.4996 - val_accuracy: 0.8627\n",
      "Epoch 32/60\n",
      "27/27 [==============================] - 2s 59ms/step - loss: 0.1992 - accuracy: 0.9273 - val_loss: 0.4893 - val_accuracy: 0.8824\n",
      "Epoch 33/60\n",
      "27/27 [==============================] - 2s 57ms/step - loss: 0.1732 - accuracy: 0.9412 - val_loss: 0.5145 - val_accuracy: 0.8824\n",
      "Epoch 34/60\n",
      "27/27 [==============================] - 2s 63ms/step - loss: 0.1563 - accuracy: 0.9469 - val_loss: 0.4515 - val_accuracy: 0.8889\n",
      "Epoch 35/60\n",
      "27/27 [==============================] - 2s 89ms/step - loss: 0.1483 - accuracy: 0.9446 - val_loss: 0.5364 - val_accuracy: 0.8758\n",
      "Epoch 36/60\n",
      "27/27 [==============================] - 2s 67ms/step - loss: 0.1453 - accuracy: 0.9504 - val_loss: 0.4794 - val_accuracy: 0.8889\n",
      "Epoch 37/60\n",
      "27/27 [==============================] - 2s 58ms/step - loss: 0.1452 - accuracy: 0.9458 - val_loss: 0.4270 - val_accuracy: 0.8758\n",
      "Epoch 38/60\n",
      "27/27 [==============================] - 2s 59ms/step - loss: 0.1434 - accuracy: 0.9446 - val_loss: 0.4386 - val_accuracy: 0.8758\n",
      "Epoch 39/60\n",
      "27/27 [==============================] - 2s 58ms/step - loss: 0.1331 - accuracy: 0.9446 - val_loss: 0.4276 - val_accuracy: 0.8562\n",
      "Epoch 40/60\n",
      "27/27 [==============================] - 2s 58ms/step - loss: 0.2230 - accuracy: 0.9250 - val_loss: 0.5145 - val_accuracy: 0.8889\n",
      "Epoch 41/60\n",
      "27/27 [==============================] - 2s 58ms/step - loss: 0.1646 - accuracy: 0.9343 - val_loss: 0.5003 - val_accuracy: 0.8889\n",
      "Epoch 42/60\n",
      "27/27 [==============================] - 2s 70ms/step - loss: 0.3101 - accuracy: 0.9066 - val_loss: 0.6822 - val_accuracy: 0.7974\n",
      "Epoch 43/60\n",
      "27/27 [==============================] - 2s 81ms/step - loss: 0.5990 - accuracy: 0.7866 - val_loss: 0.4755 - val_accuracy: 0.7974\n",
      "Epoch 44/60\n",
      "27/27 [==============================] - 2s 59ms/step - loss: 0.4089 - accuracy: 0.8731 - val_loss: 0.4531 - val_accuracy: 0.8627\n",
      "Epoch 45/60\n",
      "27/27 [==============================] - 2s 59ms/step - loss: 0.4024 - accuracy: 0.8362 - val_loss: 0.5099 - val_accuracy: 0.7712\n",
      "Epoch 46/60\n",
      "27/27 [==============================] - 2s 59ms/step - loss: 0.3253 - accuracy: 0.8881 - val_loss: 0.3536 - val_accuracy: 0.8562\n",
      "Epoch 47/60\n",
      "27/27 [==============================] - 2s 58ms/step - loss: 0.2427 - accuracy: 0.9193 - val_loss: 0.3933 - val_accuracy: 0.8562\n",
      "Epoch 48/60\n",
      "27/27 [==============================] - 2s 57ms/step - loss: 0.2873 - accuracy: 0.8893 - val_loss: 0.5021 - val_accuracy: 0.8105\n",
      "Epoch 49/60\n",
      "27/27 [==============================] - 2s 77ms/step - loss: 0.2859 - accuracy: 0.8835 - val_loss: 0.4001 - val_accuracy: 0.8366\n",
      "Epoch 50/60\n",
      "27/27 [==============================] - 2s 80ms/step - loss: 0.2278 - accuracy: 0.9216 - val_loss: 0.4210 - val_accuracy: 0.8366\n",
      "Epoch 51/60\n",
      "27/27 [==============================] - 2s 58ms/step - loss: 0.1573 - accuracy: 0.9446 - val_loss: 0.4659 - val_accuracy: 0.8693\n",
      "Epoch 52/60\n",
      "27/27 [==============================] - 2s 59ms/step - loss: 0.1472 - accuracy: 0.9400 - val_loss: 0.6593 - val_accuracy: 0.8366\n",
      "Epoch 53/60\n",
      "27/27 [==============================] - 2s 58ms/step - loss: 0.1372 - accuracy: 0.9539 - val_loss: 0.5498 - val_accuracy: 0.8431\n",
      "Epoch 54/60\n",
      "27/27 [==============================] - 2s 59ms/step - loss: 0.1323 - accuracy: 0.9516 - val_loss: 0.5713 - val_accuracy: 0.8366\n",
      "Epoch 55/60\n",
      "27/27 [==============================] - 2s 58ms/step - loss: 0.1491 - accuracy: 0.9423 - val_loss: 0.4713 - val_accuracy: 0.8562\n",
      "Epoch 56/60\n",
      "27/27 [==============================] - 2s 62ms/step - loss: 0.1130 - accuracy: 0.9539 - val_loss: 0.5366 - val_accuracy: 0.8431\n",
      "Epoch 57/60\n",
      "27/27 [==============================] - 2s 87ms/step - loss: 0.1195 - accuracy: 0.9585 - val_loss: 0.6943 - val_accuracy: 0.8758\n",
      "Epoch 58/60\n",
      "27/27 [==============================] - 2s 84ms/step - loss: 0.3949 - accuracy: 0.8754 - val_loss: 0.5321 - val_accuracy: 0.7778\n",
      "Epoch 59/60\n",
      "27/27 [==============================] - 2s 90ms/step - loss: 0.2577 - accuracy: 0.9146 - val_loss: 0.5384 - val_accuracy: 0.8301\n",
      "Epoch 60/60\n",
      "27/27 [==============================] - 2s 60ms/step - loss: 0.1702 - accuracy: 0.9435 - val_loss: 0.6544 - val_accuracy: 0.8497\n"
     ]
    }
   ],
   "source": [
    "epochs = 60\n",
    "trained_model, hist = runKerasCNNAugment(xtrain, ytrain, xval, yval, 1, epochs)"
   ]
  },
  {
   "cell_type": "code",
   "execution_count": null,
   "metadata": {
    "colab": {
     "base_uri": "https://localhost:8080/",
     "height": 478
    },
    "id": "0US9QFGdBE3v",
    "outputId": "d81d1e19-8a05-4189-a06f-679b93d8bbe5"
   },
   "outputs": [
    {
     "name": "stdout",
     "output_type": "stream",
     "text": [
      "\n",
      "Keras CNN #1C - accuracy: 0.9838523864746094 \n",
      "\n",
      "Train loss: 0.05389988422393799\n",
      "Train accuracy: 0.9838523864746094\n",
      "28/28 [==============================] - 0s 9ms/step\n"
     ]
    },
    {
     "data": {
      "image/png": "[encoded data removed]",
      "text/plain": [
       "<Figure size 360x360 with 2 Axes>"
      ]
     },
     "metadata": {
      "needs_background": "light"
     },
     "output_type": "display_data"
    }
   ],
   "source": [
    "# Results on Train Set\n",
    "\n",
    "score = trained_model.evaluate(xtrain, ytrain, verbose=0)\n",
    "print('\\nKeras CNN #1C - accuracy:', score[1],'\\n')\n",
    "print('Train loss:', score[0])\n",
    "print('Train accuracy:', score[1])\n",
    "\n",
    "y_pred = trained_model.predict(xtrain)\n",
    "map_characters = label_dict\n",
    "# print('\\n', sklearn.metrics.classification_report(np.where(ytrain > 0)[1], np.argmax(y_pred, axis=1), target_names=list(map_characters.keys())), sep='')    \n",
    "Y_pred_classes = np.argmax(y_pred,axis=1) \n",
    "Y_true = np.argmax(ytrain,axis=1)\n",
    "# plotKerasLearningCurve()\n",
    "# plt.show()  \n",
    "# plot_learning_curve(hist)\n",
    "# plt.show()\n",
    "confusion_mtx = confusion_matrix(Y_true, Y_pred_classes) \n",
    "plot_confusion_matrix(confusion_mtx, classes = [0, 1, 2, 3])\n",
    "# plot_confusion_matrix(confusion_mtx, classes = list(label_dict.values())) \n",
    "\n",
    "plt.show()"
   ]
  },
  {
   "cell_type": "code",
   "execution_count": null,
   "metadata": {
    "colab": {
     "base_uri": "https://localhost:8080/",
     "height": 697
    },
    "id": "-cA5diabnDTu",
    "outputId": "3e5debf7-d24d-4b93-81ab-4e96f59d8270"
   },
   "outputs": [
    {
     "name": "stdout",
     "output_type": "stream",
     "text": [
      "\n",
      "Keras CNN #1C - accuracy: 0.8666666746139526 \n",
      "\n",
      "Test loss: 0.5317417979240417\n",
      "Test accuracy: 0.8666666746139526\n",
      "6/6 [==============================] - 0s 10ms/step\n",
      "\n",
      "              precision    recall  f1-score   support\n",
      "\n",
      "         eos       0.77      0.86      0.81        50\n",
      "       lymph       0.97      0.91      0.94        43\n",
      "        mono       1.00      0.90      0.95        41\n",
      "      neutro       0.79      0.80      0.80        46\n",
      "\n",
      "    accuracy                           0.87       180\n",
      "   macro avg       0.88      0.87      0.87       180\n",
      "weighted avg       0.88      0.87      0.87       180\n",
      "\n"
     ]
    },
    {
     "data": {
      "image/png": "[encoded data removed]",
      "text/plain": [
       "<Figure size 360x360 with 2 Axes>"
      ]
     },
     "metadata": {
      "needs_background": "light"
     },
     "output_type": "display_data"
    }
   ],
   "source": [
    "# Results on Test Set\n",
    "\n",
    "score = trained_model.evaluate(xtest, ytest, verbose=0)\n",
    "print('\\nKeras CNN #1C - accuracy:', score[1],'\\n')\n",
    "print('Test loss:', score[0])\n",
    "print('Test accuracy:', score[1])\n",
    "\n",
    "y_pred = trained_model.predict(xtest)\n",
    "map_characters = label_dict\n",
    "print('\\n', sklearn.metrics.classification_report(np.where(ytest > 0)[1], np.argmax(y_pred, axis=1), target_names=list(map_characters.keys())), sep='')    \n",
    "Y_pred_classes = np.argmax(y_pred,axis=1) \n",
    "Y_true = np.argmax(ytest,axis=1)\n",
    "# plotKerasLearningCurve()\n",
    "# plt.show()  \n",
    "# plot_learning_curve(hist)\n",
    "plt.show()\n",
    "confusion_mtx = confusion_matrix(Y_true, Y_pred_classes) \n",
    "plot_confusion_matrix(confusion_mtx, classes = [0, 1, 2, 3])\n",
    "# plot_confusion_matrix(confusion_mtx, classes = list(label_dict.values())) \n",
    "plt.show()"
   ]
  },
  {
   "cell_type": "code",
   "execution_count": null,
   "metadata": {
    "id": "FEBzi1Bqd-GW"
   },
   "outputs": [],
   "source": []
  }
 ],
 "metadata": {
  "accelerator": "GPU",
  "colab": {
   "provenance": []
  },
  "gpuClass": "standard",
  "kernelspec": {
   "display_name": "Python 3 (ipykernel)",
   "language": "python",
   "name": "python3"
  },
  "language_info": {
   "codemirror_mode": {
    "name": "ipython",
    "version": 3
   },
   "file_extension": ".py",
   "mimetype": "text/x-python",
   "name": "python",
   "nbconvert_exporter": "python",
   "pygments_lexer": "ipython3",
   "version": "3.9.13"
  }
 },
 "nbformat": 4,
 "nbformat_minor": 1
}
