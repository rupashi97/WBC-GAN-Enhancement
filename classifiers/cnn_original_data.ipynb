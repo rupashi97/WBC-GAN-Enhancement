{
  "nbformat": 4,
  "nbformat_minor": 0,
  "metadata": {
    "colab": {
      "provenance": []
    },
    "kernelspec": {
      "name": "python3",
      "display_name": "Python 3"
    },
    "language_info": {
      "name": "python"
    },
    "accelerator": "GPU",
    "gpuClass": "standard"
  },
  "cells": [
    {
      "cell_type": "code",
      "execution_count": null,
      "metadata": {
        "colab": {
          "base_uri": "https://localhost:8080/"
        },
        "id": "yvAyBlc9YZ-z",
        "outputId": "7124cd37-4f25-41c3-e4ef-a17e678a28c9"
      },
      "outputs": [
        {
          "output_type": "stream",
          "name": "stdout",
          "text": [
            "Mounted at /content/drive\n"
          ]
        }
      ],
      "source": [
        "import numpy as np\n",
        "import pandas as pd\n",
        "import keras\n",
        "from keras.models import Sequential\n",
        "from keras.layers import Dense, Dropout, Activation, Flatten, Conv2D, MaxPooling2D, Lambda, MaxPool2D, BatchNormalization\n",
        "from keras.utils import np_utils\n",
        "from keras.preprocessing.image import ImageDataGenerator\n",
        "from keras.optimizers import RMSprop\n",
        "from keras.callbacks import Callback, EarlyStopping, ReduceLROnPlateau, ModelCheckpoint\n",
        "from keras.utils.np_utils import to_categorical\n",
        "from sklearn.preprocessing import LabelEncoder\n",
        "from sklearn.model_selection import train_test_split\n",
        "from sklearn.metrics import confusion_matrix\n",
        "from sklearn.metrics import accuracy_score\n",
        "import xml.etree.ElementTree as ET\n",
        "import sklearn\n",
        "import itertools\n",
        "import cv2\n",
        "import scipy\n",
        "import os\n",
        "import csv\n",
        "import matplotlib.pyplot as plt\n",
        "%matplotlib inline\n",
        "from tqdm import tqdm\n",
        "import seaborn as sns\n",
        "from google.colab import drive\n",
        "import pickle\n",
        "\n",
        "drive.mount('/content/drive')"
      ]
    },
    {
      "cell_type": "code",
      "source": [
        "%cd drive/MyDrive/ECE-176"
      ],
      "metadata": {
        "colab": {
          "base_uri": "https://localhost:8080/"
        },
        "id": "gDETzZNkc_9s",
        "outputId": "0ab80f1b-2c67-474f-8073-6f0d98db54ca"
      },
      "execution_count": null,
      "outputs": [
        {
          "output_type": "stream",
          "name": "stdout",
          "text": [
            "/content/drive/.shortcut-targets-by-id/1nocF8OwSC30SO-c6lZ_zjX725MCTIjid/ECE-176\n"
          ]
        }
      ]
    },
    {
      "cell_type": "code",
      "source": [
        "basePath = os.getcwd()\n",
        "num_classes = 4"
      ],
      "metadata": {
        "id": "O6MKDCgbdAAd"
      },
      "execution_count": null,
      "outputs": []
    },
    {
      "cell_type": "code",
      "source": [
        "# Helper Functions\n",
        "\n",
        "def fetch_data(path_to_folder1, path_to_folder2, path_to_folder3, path_to_folder4, label_dict):\n",
        "  # define lists to hold image data and corresponding labels\n",
        "  data = []\n",
        "  labels = []\n",
        "\n",
        "  # loop through each folder and read images\n",
        "  for folder in [path_to_folder1, path_to_folder2, path_to_folder3, path_to_folder4]:\n",
        "      for filename in os.listdir(folder):\n",
        "          img = cv2.imread(os.path.join(folder, filename))\n",
        "          if img is not None:\n",
        "              # resize image if needed\n",
        "              # img = cv2.resize(img, (256, 256))\n",
        "              # img = cv2.resize(img, (80, 60))\n",
        "              img = cv2.resize(img, dsize=(80,60), interpolation=cv2.INTER_CUBIC)\n",
        "              # convert image to numpy array and append to data list\n",
        "              data.append(np.array(img))\n",
        "              # get label from folder name and append to labels list\n",
        "              label = label_dict[os.path.basename(folder)]\n",
        "              labels.append(label)\n",
        "\n",
        "  data, labels = np.array(data), np.array(labels)\n",
        "  # data = np.transpose(data, (0, 3, 1, 2)) # rearranges shape from (369, 256, 256, 3) to (369, 3, 256, 256)\n",
        "\n",
        "  return data, labels"
      ],
      "metadata": {
        "id": "6k8LeRtmdAC1"
      },
      "execution_count": null,
      "outputs": []
    },
    {
      "cell_type": "code",
      "source": [
        "# Helper Functions  Learning Curves and Confusion Matrix\n",
        "class MetricsCheckpoint(Callback):\n",
        "    \"\"\"Callback that saves metrics after each epoch\"\"\"\n",
        "    def __init__(self, savepath):\n",
        "        super(MetricsCheckpoint, self).__init__()\n",
        "        self.savepath = savepath\n",
        "        self.history = {}\n",
        "    def on_epoch_end(self, epoch, logs=None):\n",
        "        for k, v in logs.items():\n",
        "            self.history.setdefault(k, []).append(v)\n",
        "        np.save(self.savepath, self.history)\n",
        "\n",
        "def plotKerasLearningCurve():\n",
        "    plt.figure(figsize=(10,5))\n",
        "    metrics = np.load('logs.npy')[()]\n",
        "    filt = ['acc'] # try to add 'loss' to see the loss learning curve\n",
        "    for k in filter(lambda x : np.any([kk in x for kk in filt]), metrics.keys()):\n",
        "        l = np.array(metrics[k])\n",
        "        plt.plot(l, c= 'r' if 'val' not in k else 'b', label='val' if 'val' in k else 'train')\n",
        "        x = np.argmin(l) if 'loss' in k else np.argmax(l)\n",
        "        y = l[x]\n",
        "        plt.scatter(x,y, lw=0, alpha=0.25, s=100, c='r' if 'val' not in k else 'b')\n",
        "        plt.text(x, y, '{} = {:.4f}'.format(x,y), size='15', color= 'r' if 'val' not in k else 'b')\n",
        "    plt.legend(loc=4)\n",
        "    plt.axis([0, None, None, None]);\n",
        "    plt.grid()\n",
        "    plt.xlabel('Number of epochs')\n",
        "    plt.ylabel('Accuracy')\n",
        "\n",
        "def plot_confusion_matrix(cm, classes,\n",
        "                          normalize=False,\n",
        "                          title='Confusion matrix',\n",
        "                          cmap=plt.cm.Blues):\n",
        "#This function prints and plots the confusion matrix.\n",
        "#Normalization can be applied by setting `normalize=True`.\n",
        "\n",
        "    plt.figure(figsize = (5,5))\n",
        "    plt.imshow(cm, interpolation='nearest', cmap=cmap)\n",
        "    plt.title(title)\n",
        "    plt.colorbar()\n",
        "    tick_marks = np.arange(len(classes))\n",
        "    plt.xticks(tick_marks, classes, rotation=90)\n",
        "    plt.yticks(tick_marks, classes)\n",
        "    if normalize:\n",
        "        cm = cm.astype('float') / cm.sum(axis=1)[:, np.newaxis]\n",
        "\n",
        "    thresh = cm.max() / 2.\n",
        "    for i, j in itertools.product(range(cm.shape[0]), range(cm.shape[1])):\n",
        "        plt.text(j, i, cm[i, j],\n",
        "                 horizontalalignment=\"center\",\n",
        "                 color=\"white\" if cm[i, j] > thresh else \"black\")\n",
        "    plt.tight_layout()\n",
        "    plt.ylabel('True label')\n",
        "    plt.xlabel('Predicted label')\n",
        "\n",
        "def plot_learning_curve(history):\n",
        "    plt.figure(figsize=(8,8))\n",
        "    plt.subplot(1,2,1)\n",
        "    plt.plot(history.history['accuracy'])\n",
        "    plt.plot(history.history['val_accuracy'])\n",
        "    plt.title('model accuracy')\n",
        "    plt.ylabel('accuracy')\n",
        "    plt.xlabel('epoch')\n",
        "    plt.legend(['train', 'test'], loc='upper left')\n",
        "    # plt.savefig('./accuracy_curve.png')\n",
        "    #plt.clf()\n",
        "    # summarize history for loss\n",
        "    plt.subplot(1,2,2)\n",
        "    plt.plot(history.history['loss'])\n",
        "    plt.plot(history.history['val_loss'])\n",
        "    plt.title('model loss')\n",
        "    plt.ylabel('loss')\n",
        "    plt.xlabel('epoch')\n",
        "    plt.legend(['train', 'test'], loc='upper left')\n",
        "    # plt.savefig('./loss_curve.png')\n",
        "\n",
        "def shuffle_data(data, labels):\n",
        "  '''shuffle data and labels together'''\n",
        "\n",
        "  indices = np.arange(len(data))\n",
        "  np.random.shuffle(indices)\n",
        "  data = data[indices]\n",
        "  labels = labels[indices]\n",
        "\n",
        "  return data, labels"
      ],
      "metadata": {
        "id": "bcczFHmwdAFc"
      },
      "execution_count": null,
      "outputs": []
    },
    {
      "cell_type": "code",
      "source": [
        "# Load original Data\n",
        "p1 = basePath + '/dataset-master/JPEGImages/classes/EOSINOPHIL'\n",
        "p2 = basePath + '/dataset-master/JPEGImages/classes/LYMPHOCYTE'\n",
        "p3 =  basePath + '/dataset-master/JPEGImages/classes/MONOCYTE'\n",
        "p4 =  basePath + '/dataset-master/JPEGImages/classes/NEUTROPHIL'\n",
        "\n",
        "# define dictionary to map folder name to label\n",
        "label_dict = {'EOSINOPHIL': 0, 'LYMPHOCYTE': 1, 'MONOCYTE': 2, 'NEUTROPHIL': 3}\n",
        "\n",
        "data_loaded, labels_loaded = fetch_data(p1, p2, p3, p4, label_dict)"
      ],
      "metadata": {
        "id": "Nu2SSanidsX5"
      },
      "execution_count": null,
      "outputs": []
    },
    {
      "cell_type": "code",
      "source": [
        "# Load augmented data\n",
        "# p1 = basePath + '/dataset-master/GAN AUGMENTED DATA/eos'\n",
        "# p2 = basePath + '/dataset-master/GAN AUGMENTED DATA/lymph'\n",
        "# p3 =  basePath + '/dataset-master/GAN AUGMENTED DATA/mono'\n",
        "# p4 =  basePath + '/dataset-master/GAN AUGMENTED DATA/neutro'\n",
        "\n",
        "# # define dictionary to map folder name to label\n",
        "# label_dict = {'eos': 0, 'lymph': 1, 'mono': 2, 'neutro': 3}\n",
        "\n",
        "# data_augment, labels_augment = fetch_data(p1, p2, p3, p4, label_dict)"
      ],
      "metadata": {
        "id": "qTM26qiwdyth"
      },
      "execution_count": null,
      "outputs": []
    },
    {
      "cell_type": "code",
      "source": [
        "# data_total = np.concatenate((data_loaded, data_augment), axis=0)\n",
        "# labels_total = np.concatenate((labels_loaded, labels_augment), axis=0)\n",
        "\n",
        "# data_total.shape, labels_total.shape"
      ],
      "metadata": {
        "id": "AAxjxdH0eg-o"
      },
      "execution_count": null,
      "outputs": []
    },
    {
      "cell_type": "code",
      "source": [
        "# # Remove label 3\n",
        "\n",
        "# indexes = np.where(labels_total == 3)[0]\n",
        "# data_total_new = np.delete(data_total, indexes, axis=0)\n",
        "# label_total_new = np.delete(labels_total, indexes)\n",
        "\n",
        "# data_total_new.shape, label_total_new.shape"
      ],
      "metadata": {
        "id": "QxtkQbIYGm6e"
      },
      "execution_count": null,
      "outputs": []
    },
    {
      "cell_type": "code",
      "source": [
        "# Shuffle data and convert labels to one hot encodings\n",
        "\n",
        "# data, labels = shuffle_data(data_total_new, label_total_new)\n",
        "# data, labels = shuffle_data(data_total, labels_total)\n",
        "# data, labels = shuffle_data(data_augment, labels_augment)\n",
        "data, labels = shuffle_data(data_loaded, labels_loaded)\n",
        "\n",
        "\n",
        "labels = to_categorical(labels, num_classes = num_classes)\n",
        "print('data shape: ', data.shape)\n",
        "print('labels shape: ', labels.shape)"
      ],
      "metadata": {
        "colab": {
          "base_uri": "https://localhost:8080/"
        },
        "id": "0k-HdzvUesgo",
        "outputId": "d8fe1b2d-8185-45b5-eb85-2a3c4e661c94"
      },
      "execution_count": null,
      "outputs": [
        {
          "output_type": "stream",
          "name": "stdout",
          "text": [
            "data shape:  (369, 60, 80, 3)\n",
            "labels shape:  (369, 4)\n"
          ]
        }
      ]
    },
    {
      "cell_type": "code",
      "source": [
        "# split data and labels into training, validation, and testing sets\n",
        "xtrain, xtest, ytrain, ytest = train_test_split(data, labels, test_size=0.15, random_state=42)\n",
        "xtrain, xval, ytrain, yval = train_test_split(xtrain, ytrain, test_size=0.15, random_state=42)\n",
        "\n",
        "# print the shapes of the training and testing sets ~ all y's are one hot encoded\n",
        "print('xtrain shape:', xtrain.shape)\n",
        "print('ytrain shape:', ytrain.shape)\n",
        "print('xval shape:', xval.shape)\n",
        "print('yval shape:', yval.shape)\n",
        "print('xtest shape:', xtest.shape)\n",
        "print('ytest shape:', ytest.shape)"
      ],
      "metadata": {
        "colab": {
          "base_uri": "https://localhost:8080/"
        },
        "id": "-x3CIF_QenSz",
        "outputId": "7effea0e-d3de-49d8-86f7-aa6048e5e64b"
      },
      "execution_count": null,
      "outputs": [
        {
          "output_type": "stream",
          "name": "stdout",
          "text": [
            "xtrain shape: (266, 60, 80, 3)\n",
            "ytrain shape: (266, 4)\n",
            "xval shape: (47, 60, 80, 3)\n",
            "yval shape: (47, 4)\n",
            "xtest shape: (56, 60, 80, 3)\n",
            "ytest shape: (56, 4)\n"
          ]
        }
      ]
    },
    {
      "cell_type": "code",
      "source": [
        "def runKerasCNNAugment(x_train,y_train,x_val,y_val, stride, epochs):\n",
        "    batch_size = 128\n",
        "    # num_classes = 4\n",
        "#     img_rows, img_cols = a.shape[1],a.shape[2]\n",
        "    img_rows,img_cols=60,80\n",
        "    input_shape = (img_rows, img_cols, 3)\n",
        "\n",
        "    model = Sequential()\n",
        "    model.add(Conv2D(32, kernel_size=(3, 3),\n",
        "                     activation='relu',\n",
        "                     input_shape=input_shape,strides=stride))\n",
        "    model.add(Conv2D(64, (3, 3), activation='relu'))\n",
        "    model.add(Conv2D(64, (3, 3), activation='relu'))\n",
        "    model.add(MaxPooling2D(pool_size=(2, 2)))\n",
        "    model.add(Dropout(0.25))\n",
        "    model.add(Flatten())\n",
        "    model.add(Dense(128, activation='relu'))\n",
        "    model.add(Dropout(0.5))\n",
        "    model.add(Dense(num_classes, activation='softmax'))\n",
        "    model.compile(loss=keras.losses.categorical_crossentropy,\n",
        "                  # optimizer=keras.optimizers.Adadelta(),\n",
        "                  optimizer=keras.optimizers.Adam(),\n",
        "                  metrics=['accuracy'])\n",
        "\n",
        "    # model = Sequential()\n",
        "    # model.add(Conv2D(16, kernel_size=(3, 3),\n",
        "    #                 activation='relu',\n",
        "    #                 input_shape=input_shape,strides=stride))\n",
        "    # model.add(MaxPooling2D(pool_size=(2, 2)))\n",
        "    # model.add(Dropout(0.25))\n",
        "    # model.add(Flatten())\n",
        "    # model.add(Dense(64, activation='relu'))\n",
        "    # model.add(Dropout(0.5))\n",
        "    # model.add(Dense(num_classes, activation='softmax'))\n",
        "    # model.compile(loss=keras.losses.categorical_crossentropy,\n",
        "    #               optimizer=keras.optimizers.SGD(lr=0.01),\n",
        "    #               metrics=['accuracy'])\n",
        "\n",
        "    # datagen = ImageDataGenerator(\n",
        "    #     featurewise_center=False,  # set input mean to 0 over the dataset\n",
        "    #     samplewise_center=False,  # set each sample mean to 0\n",
        "    #     featurewise_std_normalization=False,  # divide inputs by std of the dataset\n",
        "    #     samplewise_std_normalization=False,  # divide each input by its std\n",
        "    #     zca_whitening=False,  # apply ZCA whitening\n",
        "    #     rotation_range=10,  # randomly rotate images in the range (degrees, 0 to 180)\n",
        "    #     width_shift_range=0.1,  # randomly shift images horizontally (fraction of total width)\n",
        "    #     height_shift_range=0.1,  # randomly shift images vertically (fraction of total height)\n",
        "    #     horizontal_flip=True,  # randomly flip images\n",
        "    #     vertical_flip=False)  # randomly flip images\n",
        "    # history = model.fit_generator(datagen.flow(a,b, batch_size=32),\n",
        "    #                     steps_per_epoch=len(a) / 32, epochs=epochs, validation_data = [c, d],callbacks = [MetricsCheckpoint('logs')])\n",
        "\n",
        "    history = model.fit(x_train, y_train, batch_size=batch_size, epochs=epochs, verbose=1, validation_data=(x_val, y_val))\n",
        "\n",
        "    return model, history"
      ],
      "metadata": {
        "id": "ck6BPuqgd1vi"
      },
      "execution_count": null,
      "outputs": []
    },
    {
      "cell_type": "code",
      "source": [
        "epochs = 80\n",
        "trained_model, hist = runKerasCNNAugment(xtrain, ytrain, xval, yval, 1, epochs)"
      ],
      "metadata": {
        "colab": {
          "base_uri": "https://localhost:8080/"
        },
        "id": "tyeRwgn-d-Lj",
        "outputId": "a23351e0-bce3-46d9-83e5-0e38977e0a00"
      },
      "execution_count": null,
      "outputs": [
        {
          "output_type": "stream",
          "name": "stdout",
          "text": [
            "Epoch 1/80\n",
            "3/3 [==============================] - 11s 381ms/step - loss: 434.6135 - accuracy: 0.3985 - val_loss: 352.9916 - val_accuracy: 0.2979\n",
            "Epoch 2/80\n",
            "3/3 [==============================] - 0s 62ms/step - loss: 264.8850 - accuracy: 0.3459 - val_loss: 49.3803 - val_accuracy: 0.6170\n",
            "Epoch 3/80\n",
            "3/3 [==============================] - 0s 59ms/step - loss: 30.3130 - accuracy: 0.4173 - val_loss: 1.0099 - val_accuracy: 0.5532\n",
            "Epoch 4/80\n",
            "3/3 [==============================] - 0s 62ms/step - loss: 1.6997 - accuracy: 0.4511 - val_loss: 1.1944 - val_accuracy: 0.6170\n",
            "Epoch 5/80\n",
            "3/3 [==============================] - 0s 62ms/step - loss: 1.1831 - accuracy: 0.5714 - val_loss: 1.1406 - val_accuracy: 0.5106\n",
            "Epoch 6/80\n",
            "3/3 [==============================] - 0s 67ms/step - loss: 1.1094 - accuracy: 0.5526 - val_loss: 1.0843 - val_accuracy: 0.5957\n",
            "Epoch 7/80\n",
            "3/3 [==============================] - 0s 63ms/step - loss: 0.8787 - accuracy: 0.6504 - val_loss: 1.1109 - val_accuracy: 0.5532\n",
            "Epoch 8/80\n",
            "3/3 [==============================] - 0s 66ms/step - loss: 0.8675 - accuracy: 0.6992 - val_loss: 1.0840 - val_accuracy: 0.5319\n",
            "Epoch 9/80\n",
            "3/3 [==============================] - 0s 63ms/step - loss: 0.8445 - accuracy: 0.6805 - val_loss: 1.5490 - val_accuracy: 0.6170\n",
            "Epoch 10/80\n",
            "3/3 [==============================] - 0s 61ms/step - loss: 1.0816 - accuracy: 0.6090 - val_loss: 1.1667 - val_accuracy: 0.5532\n",
            "Epoch 11/80\n",
            "3/3 [==============================] - 0s 60ms/step - loss: 1.0124 - accuracy: 0.7105 - val_loss: 1.1447 - val_accuracy: 0.4681\n",
            "Epoch 12/80\n",
            "3/3 [==============================] - 0s 60ms/step - loss: 0.7863 - accuracy: 0.6955 - val_loss: 1.7225 - val_accuracy: 0.4894\n",
            "Epoch 13/80\n",
            "3/3 [==============================] - 0s 60ms/step - loss: 0.9421 - accuracy: 0.6992 - val_loss: 1.3232 - val_accuracy: 0.5106\n",
            "Epoch 14/80\n",
            "3/3 [==============================] - 0s 60ms/step - loss: 0.6909 - accuracy: 0.7068 - val_loss: 1.1944 - val_accuracy: 0.4894\n",
            "Epoch 15/80\n",
            "3/3 [==============================] - 0s 60ms/step - loss: 0.7446 - accuracy: 0.7180 - val_loss: 1.3700 - val_accuracy: 0.4894\n",
            "Epoch 16/80\n",
            "3/3 [==============================] - 0s 60ms/step - loss: 0.7019 - accuracy: 0.7218 - val_loss: 1.5119 - val_accuracy: 0.5319\n",
            "Epoch 17/80\n",
            "3/3 [==============================] - 0s 60ms/step - loss: 0.6409 - accuracy: 0.7331 - val_loss: 1.2802 - val_accuracy: 0.5106\n",
            "Epoch 18/80\n",
            "3/3 [==============================] - 0s 60ms/step - loss: 0.6245 - accuracy: 0.7857 - val_loss: 1.3339 - val_accuracy: 0.4894\n",
            "Epoch 19/80\n",
            "3/3 [==============================] - 0s 60ms/step - loss: 0.6038 - accuracy: 0.7782 - val_loss: 1.6182 - val_accuracy: 0.5106\n",
            "Epoch 20/80\n",
            "3/3 [==============================] - 0s 60ms/step - loss: 0.6028 - accuracy: 0.7632 - val_loss: 1.4321 - val_accuracy: 0.4681\n",
            "Epoch 21/80\n",
            "3/3 [==============================] - 0s 62ms/step - loss: 0.5284 - accuracy: 0.8045 - val_loss: 1.3848 - val_accuracy: 0.4681\n",
            "Epoch 22/80\n",
            "3/3 [==============================] - 0s 65ms/step - loss: 0.5168 - accuracy: 0.8195 - val_loss: 1.4902 - val_accuracy: 0.4894\n",
            "Epoch 23/80\n",
            "3/3 [==============================] - 0s 60ms/step - loss: 0.4828 - accuracy: 0.8120 - val_loss: 1.7490 - val_accuracy: 0.5106\n",
            "Epoch 24/80\n",
            "3/3 [==============================] - 0s 60ms/step - loss: 0.5247 - accuracy: 0.8083 - val_loss: 1.5549 - val_accuracy: 0.5106\n",
            "Epoch 25/80\n",
            "3/3 [==============================] - 0s 59ms/step - loss: 0.4587 - accuracy: 0.8383 - val_loss: 1.5854 - val_accuracy: 0.5106\n",
            "Epoch 26/80\n",
            "3/3 [==============================] - 0s 61ms/step - loss: 0.4469 - accuracy: 0.8383 - val_loss: 1.8370 - val_accuracy: 0.4681\n",
            "Epoch 27/80\n",
            "3/3 [==============================] - 0s 63ms/step - loss: 0.3693 - accuracy: 0.8346 - val_loss: 1.9004 - val_accuracy: 0.4681\n",
            "Epoch 28/80\n",
            "3/3 [==============================] - 0s 65ms/step - loss: 0.4458 - accuracy: 0.8421 - val_loss: 1.5981 - val_accuracy: 0.4894\n",
            "Epoch 29/80\n",
            "3/3 [==============================] - 0s 61ms/step - loss: 0.4042 - accuracy: 0.8609 - val_loss: 1.4389 - val_accuracy: 0.4681\n",
            "Epoch 30/80\n",
            "3/3 [==============================] - 0s 61ms/step - loss: 0.4368 - accuracy: 0.8571 - val_loss: 1.8018 - val_accuracy: 0.4894\n",
            "Epoch 31/80\n",
            "3/3 [==============================] - 0s 60ms/step - loss: 0.4083 - accuracy: 0.8346 - val_loss: 1.9321 - val_accuracy: 0.4894\n",
            "Epoch 32/80\n",
            "3/3 [==============================] - 0s 61ms/step - loss: 0.4331 - accuracy: 0.8195 - val_loss: 1.6279 - val_accuracy: 0.4468\n",
            "Epoch 33/80\n",
            "3/3 [==============================] - 0s 66ms/step - loss: 0.3980 - accuracy: 0.8647 - val_loss: 1.6454 - val_accuracy: 0.4681\n",
            "Epoch 34/80\n",
            "3/3 [==============================] - 0s 59ms/step - loss: 0.3412 - accuracy: 0.8571 - val_loss: 2.0693 - val_accuracy: 0.4255\n",
            "Epoch 35/80\n",
            "3/3 [==============================] - 0s 60ms/step - loss: 0.4552 - accuracy: 0.8459 - val_loss: 1.9271 - val_accuracy: 0.4468\n",
            "Epoch 36/80\n",
            "3/3 [==============================] - 0s 61ms/step - loss: 0.3517 - accuracy: 0.8797 - val_loss: 1.5186 - val_accuracy: 0.4681\n",
            "Epoch 37/80\n",
            "3/3 [==============================] - 0s 61ms/step - loss: 0.3776 - accuracy: 0.8947 - val_loss: 1.7511 - val_accuracy: 0.5106\n",
            "Epoch 38/80\n",
            "3/3 [==============================] - 0s 63ms/step - loss: 0.3362 - accuracy: 0.8759 - val_loss: 2.3249 - val_accuracy: 0.5106\n",
            "Epoch 39/80\n",
            "3/3 [==============================] - 0s 60ms/step - loss: 0.4390 - accuracy: 0.8459 - val_loss: 1.8523 - val_accuracy: 0.4681\n",
            "Epoch 40/80\n",
            "3/3 [==============================] - 0s 60ms/step - loss: 0.3206 - accuracy: 0.8985 - val_loss: 1.5532 - val_accuracy: 0.4255\n",
            "Epoch 41/80\n",
            "3/3 [==============================] - 0s 62ms/step - loss: 0.3557 - accuracy: 0.8947 - val_loss: 2.4538 - val_accuracy: 0.4468\n",
            "Epoch 42/80\n",
            "3/3 [==============================] - 0s 59ms/step - loss: 0.4373 - accuracy: 0.8571 - val_loss: 2.4441 - val_accuracy: 0.4681\n",
            "Epoch 43/80\n",
            "3/3 [==============================] - 0s 72ms/step - loss: 0.3153 - accuracy: 0.8684 - val_loss: 1.6161 - val_accuracy: 0.4894\n",
            "Epoch 44/80\n",
            "3/3 [==============================] - 0s 73ms/step - loss: 0.3577 - accuracy: 0.9060 - val_loss: 1.8536 - val_accuracy: 0.4681\n",
            "Epoch 45/80\n",
            "3/3 [==============================] - 0s 70ms/step - loss: 0.3185 - accuracy: 0.9060 - val_loss: 2.6151 - val_accuracy: 0.4894\n",
            "Epoch 46/80\n",
            "3/3 [==============================] - 0s 72ms/step - loss: 0.3912 - accuracy: 0.8722 - val_loss: 2.2543 - val_accuracy: 0.4894\n",
            "Epoch 47/80\n",
            "3/3 [==============================] - 0s 70ms/step - loss: 0.2887 - accuracy: 0.9098 - val_loss: 1.7358 - val_accuracy: 0.4894\n",
            "Epoch 48/80\n",
            "3/3 [==============================] - 0s 67ms/step - loss: 0.3220 - accuracy: 0.9023 - val_loss: 2.1063 - val_accuracy: 0.4894\n",
            "Epoch 49/80\n",
            "3/3 [==============================] - 0s 70ms/step - loss: 0.2309 - accuracy: 0.8872 - val_loss: 2.5739 - val_accuracy: 0.4681\n",
            "Epoch 50/80\n",
            "3/3 [==============================] - 0s 68ms/step - loss: 0.2864 - accuracy: 0.8947 - val_loss: 2.4820 - val_accuracy: 0.4468\n",
            "Epoch 51/80\n",
            "3/3 [==============================] - 0s 70ms/step - loss: 0.3527 - accuracy: 0.8609 - val_loss: 2.2926 - val_accuracy: 0.4255\n",
            "Epoch 52/80\n",
            "3/3 [==============================] - 0s 69ms/step - loss: 0.2577 - accuracy: 0.9135 - val_loss: 2.2639 - val_accuracy: 0.4255\n",
            "Epoch 53/80\n",
            "3/3 [==============================] - 0s 71ms/step - loss: 0.2522 - accuracy: 0.9211 - val_loss: 2.5042 - val_accuracy: 0.4255\n",
            "Epoch 54/80\n",
            "3/3 [==============================] - 0s 66ms/step - loss: 0.3374 - accuracy: 0.8835 - val_loss: 2.5782 - val_accuracy: 0.4681\n",
            "Epoch 55/80\n",
            "3/3 [==============================] - 0s 73ms/step - loss: 0.1934 - accuracy: 0.9436 - val_loss: 2.5605 - val_accuracy: 0.4681\n",
            "Epoch 56/80\n",
            "3/3 [==============================] - 0s 65ms/step - loss: 0.2424 - accuracy: 0.9248 - val_loss: 2.4542 - val_accuracy: 0.4894\n",
            "Epoch 57/80\n",
            "3/3 [==============================] - 0s 68ms/step - loss: 0.2324 - accuracy: 0.9286 - val_loss: 2.5371 - val_accuracy: 0.5106\n",
            "Epoch 58/80\n",
            "3/3 [==============================] - 0s 66ms/step - loss: 0.2148 - accuracy: 0.9436 - val_loss: 2.7319 - val_accuracy: 0.4894\n",
            "Epoch 59/80\n",
            "3/3 [==============================] - 0s 70ms/step - loss: 0.2483 - accuracy: 0.9135 - val_loss: 2.5616 - val_accuracy: 0.4681\n",
            "Epoch 60/80\n",
            "3/3 [==============================] - 0s 64ms/step - loss: 0.1634 - accuracy: 0.9662 - val_loss: 2.4801 - val_accuracy: 0.4681\n",
            "Epoch 61/80\n",
            "3/3 [==============================] - 0s 61ms/step - loss: 0.2239 - accuracy: 0.9474 - val_loss: 2.4281 - val_accuracy: 0.4681\n",
            "Epoch 62/80\n",
            "3/3 [==============================] - 0s 61ms/step - loss: 0.1842 - accuracy: 0.9436 - val_loss: 2.5991 - val_accuracy: 0.4681\n",
            "Epoch 63/80\n",
            "3/3 [==============================] - 0s 61ms/step - loss: 0.2406 - accuracy: 0.9060 - val_loss: 2.7305 - val_accuracy: 0.4681\n",
            "Epoch 64/80\n",
            "3/3 [==============================] - 0s 60ms/step - loss: 0.2527 - accuracy: 0.9098 - val_loss: 2.3462 - val_accuracy: 0.4468\n",
            "Epoch 65/80\n",
            "3/3 [==============================] - 0s 59ms/step - loss: 0.2203 - accuracy: 0.9248 - val_loss: 2.1739 - val_accuracy: 0.4468\n",
            "Epoch 66/80\n",
            "3/3 [==============================] - 0s 61ms/step - loss: 0.2184 - accuracy: 0.9474 - val_loss: 2.7405 - val_accuracy: 0.4043\n",
            "Epoch 67/80\n",
            "3/3 [==============================] - 0s 60ms/step - loss: 0.2098 - accuracy: 0.9248 - val_loss: 3.1221 - val_accuracy: 0.3830\n",
            "Epoch 68/80\n",
            "3/3 [==============================] - 0s 60ms/step - loss: 0.2318 - accuracy: 0.9286 - val_loss: 3.0684 - val_accuracy: 0.3830\n",
            "Epoch 69/80\n",
            "3/3 [==============================] - 0s 59ms/step - loss: 0.1975 - accuracy: 0.9211 - val_loss: 2.7285 - val_accuracy: 0.4468\n",
            "Epoch 70/80\n",
            "3/3 [==============================] - 0s 61ms/step - loss: 0.1764 - accuracy: 0.9361 - val_loss: 2.3809 - val_accuracy: 0.4681\n",
            "Epoch 71/80\n",
            "3/3 [==============================] - 0s 63ms/step - loss: 0.1810 - accuracy: 0.9436 - val_loss: 2.5245 - val_accuracy: 0.5106\n",
            "Epoch 72/80\n",
            "3/3 [==============================] - 0s 60ms/step - loss: 0.1668 - accuracy: 0.9549 - val_loss: 2.8513 - val_accuracy: 0.5106\n",
            "Epoch 73/80\n",
            "3/3 [==============================] - 0s 60ms/step - loss: 0.2133 - accuracy: 0.9286 - val_loss: 2.5725 - val_accuracy: 0.5106\n",
            "Epoch 74/80\n",
            "3/3 [==============================] - 0s 61ms/step - loss: 0.2124 - accuracy: 0.9436 - val_loss: 2.2954 - val_accuracy: 0.5106\n",
            "Epoch 75/80\n",
            "3/3 [==============================] - 0s 62ms/step - loss: 0.2143 - accuracy: 0.9248 - val_loss: 2.6495 - val_accuracy: 0.4894\n",
            "Epoch 76/80\n",
            "3/3 [==============================] - 0s 61ms/step - loss: 0.1758 - accuracy: 0.9474 - val_loss: 2.7925 - val_accuracy: 0.4681\n",
            "Epoch 77/80\n",
            "3/3 [==============================] - 0s 67ms/step - loss: 0.1436 - accuracy: 0.9586 - val_loss: 2.5210 - val_accuracy: 0.4894\n",
            "Epoch 78/80\n",
            "3/3 [==============================] - 0s 61ms/step - loss: 0.1881 - accuracy: 0.9323 - val_loss: 2.4949 - val_accuracy: 0.4681\n",
            "Epoch 79/80\n",
            "3/3 [==============================] - 0s 60ms/step - loss: 0.1716 - accuracy: 0.9248 - val_loss: 2.7444 - val_accuracy: 0.4894\n",
            "Epoch 80/80\n",
            "3/3 [==============================] - 0s 60ms/step - loss: 0.1593 - accuracy: 0.9398 - val_loss: 3.0335 - val_accuracy: 0.4894\n"
          ]
        }
      ]
    },
    {
      "cell_type": "code",
      "source": [
        "# Results on Train Set\n",
        "\n",
        "score = trained_model.evaluate(xtrain, ytrain, verbose=0)\n",
        "print('\\nKeras CNN #1C - accuracy:', score[1],'\\n')\n",
        "print('Train loss:', score[0])\n",
        "print('Train accuracy:', score[1])\n",
        "\n",
        "y_pred = trained_model.predict(xtrain)\n",
        "map_characters = label_dict\n",
        "print('\\n', sklearn.metrics.classification_report(np.where(ytrain > 0)[1], np.argmax(y_pred, axis=1), target_names=list(map_characters.keys())), sep='')\n",
        "Y_pred_classes = np.argmax(y_pred,axis=1)\n",
        "Y_true = np.argmax(ytrain,axis=1)\n",
        "# plotKerasLearningCurve()\n",
        "# plt.show()\n",
        "plot_learning_curve(hist)\n",
        "# plt.show()\n",
        "confusion_mtx = confusion_matrix(Y_true, Y_pred_classes)\n",
        "plot_confusion_matrix(confusion_mtx, classes = [0, 1, 2, 3])\n",
        "# plot_confusion_matrix(confusion_mtx, classes = list(label_dict.values()))\n",
        "plt.show()"
      ],
      "metadata": {
        "colab": {
          "base_uri": "https://localhost:8080/",
          "height": 1000
        },
        "id": "0US9QFGdBE3v",
        "outputId": "a03dd763-866a-43e9-f8cd-58d82d146dc2"
      },
      "execution_count": null,
      "outputs": [
        {
          "output_type": "stream",
          "name": "stdout",
          "text": [
            "\n",
            "Keras CNN #1C - accuracy: 0.9849624037742615 \n",
            "\n",
            "Train loss: 0.059013351798057556\n",
            "Train accuracy: 0.9849624037742615\n",
            "9/9 [==============================] - 0s 4ms/step\n",
            "\n",
            "              precision    recall  f1-score   support\n",
            "\n",
            "  EOSINOPHIL       0.99      0.99      0.99        69\n",
            "  LYMPHOCYTE       0.97      0.97      0.97        29\n",
            "    MONOCYTE       1.00      1.00      1.00        15\n",
            "  NEUTROPHIL       0.99      0.99      0.99       153\n",
            "\n",
            "    accuracy                           0.98       266\n",
            "   macro avg       0.98      0.98      0.98       266\n",
            "weighted avg       0.98      0.98      0.98       266\n",
            "\n"
          ]
        },
        {
          "output_type": "display_data",
          "data": {
            "text/plain": [
              "<Figure size 576x576 with 2 Axes>"
            ],
            "image/png": "[encoded data removed]"
          },
          "metadata": {
            "needs_background": "light"
          }
        },
        {
          "output_type": "display_data",
          "data": {
            "text/plain": [
              "<Figure size 360x360 with 2 Axes>"
            ],
            "image/png": "[encoded data removed]"
          },
          "metadata": {
            "needs_background": "light"
          }
        }
      ]
    },
    {
      "cell_type": "code",
      "source": [
        "\n",
        "# Test set results\n",
        "score = trained_model.evaluate(xtest, ytest, verbose=0)\n",
        "print('\\nKeras CNN #1C - accuracy:', score[1],'\\n')\n",
        "print('Test loss:', score[0])\n",
        "print('Test accuracy:', score[1])\n",
        "\n",
        "y_pred = trained_model.predict(xtest)\n",
        "map_characters = label_dict\n",
        "print('\\n', sklearn.metrics.classification_report(np.where(ytest > 0)[1], np.argmax(y_pred, axis=1), target_names=list(map_characters.keys())), sep='')\n",
        "Y_pred_classes = np.argmax(y_pred,axis=1)\n",
        "Y_true = np.argmax(ytest,axis=1)\n",
        "# plotKerasLearningCurve()\n",
        "# plt.show()\n",
        "# plot_learning_curve(hist)\n",
        "# plt.show()\n",
        "confusion_mtx = confusion_matrix(Y_true, Y_pred_classes)\n",
        "plot_confusion_matrix(confusion_mtx, classes = list(label_dict.values()))\n",
        "plt.show()"
      ],
      "metadata": {
        "colab": {
          "base_uri": "https://localhost:8080/",
          "height": 695
        },
        "id": "-cA5diabnDTu",
        "outputId": "2034e97c-ef24-4ad3-d3af-0b6cf9348b70"
      },
      "execution_count": null,
      "outputs": [
        {
          "output_type": "stream",
          "name": "stdout",
          "text": [
            "\n",
            "Keras CNN #1C - accuracy: 0.4821428656578064 \n",
            "\n",
            "Test loss: 3.3443450927734375\n",
            "Test accuracy: 0.4821428656578064\n",
            "2/2 [==============================] - 0s 6ms/step\n",
            "\n",
            "              precision    recall  f1-score   support\n",
            "\n",
            "  EOSINOPHIL       0.20      0.18      0.19        11\n",
            "  LYMPHOCYTE       0.33      0.14      0.20         7\n",
            "    MONOCYTE       0.00      0.00      0.00         5\n",
            "  NEUTROPHIL       0.59      0.73      0.65        33\n",
            "\n",
            "    accuracy                           0.48        56\n",
            "   macro avg       0.28      0.26      0.26        56\n",
            "weighted avg       0.43      0.48      0.44        56\n",
            "\n"
          ]
        },
        {
          "output_type": "display_data",
          "data": {
            "text/plain": [
              "<Figure size 360x360 with 2 Axes>"
            ],
            "image/png": "[encoded data removed]"
          },
          "metadata": {
            "needs_background": "light"
          }
        }
      ]
    },
    {
      "cell_type": "code",
      "source": [
        "# save the trained model\n",
        "modelPath = basePath + '/models/'\n",
        "trained_model.save(modelPath + 'cnn-og.h5')\n",
        "\n",
        "# save the history object\n",
        "with open(modelPath + 'hist-cnn-og.pickle', 'wb') as handle:\n",
        "    pickle.dump(hist.history, handle, protocol=pickle.HIGHEST_PROTOCOL)"
      ],
      "metadata": {
        "id": "FEBzi1Bqd-GW"
      },
      "execution_count": null,
      "outputs": []
    },
    {
      "cell_type": "code",
      "source": [],
      "metadata": {
        "id": "fut2fRuSSV97"
      },
      "execution_count": null,
      "outputs": []
    }
  ]
}