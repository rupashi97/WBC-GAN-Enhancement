{
  "nbformat": 4,
  "nbformat_minor": 0,
  "metadata": {
    "colab": {
      "provenance": []
    },
    "kernelspec": {
      "name": "python3",
      "display_name": "Python 3"
    },
    "language_info": {
      "name": "python"
    },
    "gpuClass": "standard",
    "accelerator": "GPU"
  },
  "cells": [
    {
      "cell_type": "code",
      "execution_count": null,
      "metadata": {
        "colab": {
          "base_uri": "https://localhost:8080/"
        },
        "id": "yvAyBlc9YZ-z",
        "outputId": "b406affc-d05b-44e6-84cd-41f699064ee3"
      },
      "outputs": [
        {
          "output_type": "stream",
          "name": "stdout",
          "text": [
            "Mounted at /content/drive\n"
          ]
        }
      ],
      "source": [
        "import numpy as np\n",
        "import pandas as pd\n",
        "import keras\n",
        "from keras.models import Sequential,  Model\n",
        "from keras.layers import Dense, Dropout, Activation, Flatten, Bidirectional, Conv2D, MaxPooling2D, Lambda, MaxPool2D, BatchNormalization, Input, concatenate,Reshape, LSTM, CuDNNLSTM\n",
        "from keras.utils import np_utils\n",
        "from keras.preprocessing.image import ImageDataGenerator\n",
        "from keras.optimizers import RMSprop\n",
        "from keras.callbacks import Callback, EarlyStopping, ReduceLROnPlateau, ModelCheckpoint\n",
        "from keras.utils.np_utils import to_categorical\n",
        "from sklearn.preprocessing import LabelEncoder\n",
        "from sklearn.model_selection import train_test_split\n",
        "from sklearn.metrics import confusion_matrix\n",
        "from sklearn.metrics import accuracy_score\n",
        "import xml.etree.ElementTree as ET\n",
        "import sklearn\n",
        "import itertools\n",
        "import cv2\n",
        "import scipy\n",
        "import os\n",
        "import csv\n",
        "import matplotlib.pyplot as plt\n",
        "%matplotlib inline\n",
        "from tqdm import tqdm\n",
        "import seaborn as sns\n",
        "from google.colab import drive\n",
        "import tensorflow as tf\n",
        "import pickle\n",
        "\n",
        "drive.mount('/content/drive')"
      ]
    },
    {
      "cell_type": "code",
      "source": [
        "%cd drive/MyDrive/ECE-176"
      ],
      "metadata": {
        "colab": {
          "base_uri": "https://localhost:8080/"
        },
        "id": "gDETzZNkc_9s",
        "outputId": "7097a8bf-1a10-4844-aec7-6cbe0e79a612"
      },
      "execution_count": null,
      "outputs": [
        {
          "output_type": "stream",
          "name": "stdout",
          "text": [
            "/content/drive/.shortcut-targets-by-id/1nocF8OwSC30SO-c6lZ_zjX725MCTIjid/ECE-176\n"
          ]
        }
      ]
    },
    {
      "cell_type": "code",
      "source": [
        "basePath = os.getcwd()"
      ],
      "metadata": {
        "id": "O6MKDCgbdAAd"
      },
      "execution_count": null,
      "outputs": []
    },
    {
      "cell_type": "code",
      "source": [
        "# Helper Functions\n",
        "\n",
        "def fetch_data(path_to_folder1, path_to_folder2, path_to_folder3, path_to_folder4, label_dict):\n",
        "  # define lists to hold image data and corresponding labels\n",
        "  data = []\n",
        "  labels = []\n",
        "\n",
        "  # loop through each folder and read images\n",
        "  for folder in [path_to_folder1, path_to_folder2, path_to_folder3, path_to_folder4]:\n",
        "      for filename in os.listdir(folder):\n",
        "          img = cv2.imread(os.path.join(folder, filename))\n",
        "          if img is not None:\n",
        "              # resize image if needed\n",
        "              # img = cv2.resize(img, (256, 256))\n",
        "              # img = cv2.resize(img, (80, 60))\n",
        "              img = cv2.resize(img, dsize=(80,60), interpolation=cv2.INTER_CUBIC)\n",
        "              # convert image to numpy array and append to data list\n",
        "              data.append(np.array(img))\n",
        "              # get label from folder name and append to labels list\n",
        "              label = label_dict[os.path.basename(folder)]\n",
        "              labels.append(label)\n",
        "\n",
        "  data, labels = np.array(data), np.array(labels)\n",
        "  # data = np.transpose(data, (0, 3, 1, 2)) # rearranges shape from (369, 256, 256, 3) to (369, 3, 256, 256)\n",
        "\n",
        "  return data, labels"
      ],
      "metadata": {
        "id": "6k8LeRtmdAC1"
      },
      "execution_count": null,
      "outputs": []
    },
    {
      "cell_type": "code",
      "source": [
        "# Helper Functions  Learning Curves and Confusion Matrix\n",
        "\n",
        "\n",
        "def rgb_to_grayscale(input):\n",
        "    \"\"\"Convert an RGB image to grayscale by averaging across color channels.\"\"\"\n",
        "    return tf.reduce_mean(input, axis=3)\n",
        "\n",
        "def rgb_to_grayscale_output_shape(input_shape):\n",
        "    return input_shape[:-1]\n",
        "\n",
        "class MetricsCheckpoint(Callback):\n",
        "    \"\"\"Callback that saves metrics after each epoch\"\"\"\n",
        "    def __init__(self, savepath):\n",
        "        super(MetricsCheckpoint, self).__init__()\n",
        "        self.savepath = savepath\n",
        "        self.history = {}\n",
        "    def on_epoch_end(self, epoch, logs=None):\n",
        "        for k, v in logs.items():\n",
        "            self.history.setdefault(k, []).append(v)\n",
        "        np.save(self.savepath, self.history)\n",
        "\n",
        "def plotKerasLearningCurve():\n",
        "    plt.figure(figsize=(10,5))\n",
        "    metrics = np.load('logs.npy')[()]\n",
        "    filt = ['acc'] # try to add 'loss' to see the loss learning curve\n",
        "    for k in filter(lambda x : np.any([kk in x for kk in filt]), metrics.keys()):\n",
        "        l = np.array(metrics[k])\n",
        "        plt.plot(l, c= 'r' if 'val' not in k else 'b', label='val' if 'val' in k else 'train')\n",
        "        x = np.argmin(l) if 'loss' in k else np.argmax(l)\n",
        "        y = l[x]\n",
        "        plt.scatter(x,y, lw=0, alpha=0.25, s=100, c='r' if 'val' not in k else 'b')\n",
        "        plt.text(x, y, '{} = {:.4f}'.format(x,y), size='15', color= 'r' if 'val' not in k else 'b')\n",
        "    plt.legend(loc=4)\n",
        "    plt.axis([0, None, None, None]);\n",
        "    plt.grid()\n",
        "    plt.xlabel('Number of epochs')\n",
        "    plt.ylabel('Accuracy')\n",
        "\n",
        "def plot_confusion_matrix(cm, classes,\n",
        "                          normalize=False,\n",
        "                          title='Confusion matrix',\n",
        "                          cmap=plt.cm.Blues):\n",
        "#This function prints and plots the confusion matrix.\n",
        "#Normalization can be applied by setting `normalize=True`.\n",
        "\n",
        "    plt.figure(figsize = (5,5))\n",
        "    plt.imshow(cm, interpolation='nearest', cmap=cmap)\n",
        "    plt.title(title)\n",
        "    plt.colorbar()\n",
        "    tick_marks = np.arange(len(classes))\n",
        "    plt.xticks(tick_marks, classes, rotation=90)\n",
        "    plt.yticks(tick_marks, classes)\n",
        "    if normalize:\n",
        "        cm = cm.astype('float') / cm.sum(axis=1)[:, np.newaxis]\n",
        "\n",
        "    thresh = cm.max() / 2.\n",
        "    for i, j in itertools.product(range(cm.shape[0]), range(cm.shape[1])):\n",
        "        plt.text(j, i, cm[i, j],\n",
        "                 horizontalalignment=\"center\",\n",
        "                 color=\"white\" if cm[i, j] > thresh else \"black\")\n",
        "    plt.tight_layout()\n",
        "    plt.ylabel('True label')\n",
        "    plt.xlabel('Predicted label')\n",
        "\n",
        "def plot_learning_curve(history):\n",
        "    plt.figure(figsize=(8,8))\n",
        "    plt.subplot(1,2,1)\n",
        "    plt.plot(history.history['accuracy'])\n",
        "    plt.plot(history.history['val_accuracy'])\n",
        "    plt.title('model accuracy')\n",
        "    plt.ylabel('accuracy')\n",
        "    plt.xlabel('epoch')\n",
        "    plt.legend(['train', 'test'], loc='upper left')\n",
        "    # plt.savefig('./accuracy_curve.png')\n",
        "    #plt.clf()\n",
        "    # summarize history for loss\n",
        "    plt.subplot(1,2,2)\n",
        "    plt.plot(history.history['loss'])\n",
        "    plt.plot(history.history['val_loss'])\n",
        "    plt.title('model loss')\n",
        "    plt.ylabel('loss')\n",
        "    plt.xlabel('epoch')\n",
        "    plt.legend(['train', 'test'], loc='upper left')\n",
        "    # plt.savefig('./loss_curve.png')\n",
        "\n",
        "def shuffle_data(data, labels):\n",
        "  '''shuffle data and labels together'''\n",
        "\n",
        "  indices = np.arange(len(data))\n",
        "  np.random.shuffle(indices)\n",
        "  data = data[indices]\n",
        "  labels = labels[indices]\n",
        "\n",
        "  return data, labels"
      ],
      "metadata": {
        "id": "bcczFHmwdAFc"
      },
      "execution_count": null,
      "outputs": []
    },
    {
      "cell_type": "code",
      "source": [
        "# Load original Data\n",
        "p1 = basePath + '/dataset-master/JPEGImages/classes/EOSINOPHIL'\n",
        "p2 = basePath + '/dataset-master/JPEGImages/classes/LYMPHOCYTE'\n",
        "p3 =  basePath + '/dataset-master/JPEGImages/classes/MONOCYTE'\n",
        "p4 =  basePath + '/dataset-master/JPEGImages/classes/NEUTROPHIL'\n",
        "\n",
        "# define dictionary to map folder name to label\n",
        "label_dict = {'EOSINOPHIL': 0, 'LYMPHOCYTE': 1, 'MONOCYTE': 2, 'NEUTROPHIL': 3}\n",
        "num_classes = 4\n",
        "\n",
        "data_loaded, labels_loaded = fetch_data(p1, p2, p3, p4, label_dict)"
      ],
      "metadata": {
        "id": "Nu2SSanidsX5"
      },
      "execution_count": null,
      "outputs": []
    },
    {
      "cell_type": "code",
      "source": [
        "# # Load augmented data\n",
        "# p1 = basePath + '/dataset-master/GAN AUGMENTED DATA/eos'\n",
        "# p2 = basePath + '/dataset-master/GAN AUGMENTED DATA/lymph'\n",
        "# p3 =  basePath + '/dataset-master/GAN AUGMENTED DATA/mono'\n",
        "# p4 =  basePath + '/dataset-master/GAN AUGMENTED DATA/neutro'\n",
        "\n",
        "# # define dictionary to map folder name to label\n",
        "# label_dict = {'eos': 0, 'lymph': 1, 'mono': 2, 'neutro': 3}\n",
        "# num_classes = 4\n",
        "\n",
        "# data_augment, labels_augment = fetch_data(p1, p2, p3, p4, label_dict)"
      ],
      "metadata": {
        "id": "qTM26qiwdyth"
      },
      "execution_count": null,
      "outputs": []
    },
    {
      "cell_type": "code",
      "source": [
        "# data_loaded.shape, data_augment.shape"
      ],
      "metadata": {
        "id": "gmWEgDyC9P-O"
      },
      "execution_count": null,
      "outputs": []
    },
    {
      "cell_type": "code",
      "source": [
        "# data_total = np.concatenate((data_loaded, data_augment), axis=0)\n",
        "# labels_total = np.concatenate((labels_loaded, labels_augment), axis=0)\n",
        "\n",
        "# data_total.shape, labels_total.shape"
      ],
      "metadata": {
        "id": "AAxjxdH0eg-o"
      },
      "execution_count": null,
      "outputs": []
    },
    {
      "cell_type": "code",
      "source": [
        "# Shuffle data and convert labels to one hot encodings\n",
        "\n",
        "# data, labels = shuffle_data(data_total, labels_total)\n",
        "data, labels = shuffle_data(data_loaded, labels_loaded)\n",
        "\n",
        "labels = to_categorical(labels, num_classes = 4)\n",
        "print('data shape: ', data.shape)\n",
        "print('labels shape: ', labels.shape)"
      ],
      "metadata": {
        "colab": {
          "base_uri": "https://localhost:8080/"
        },
        "id": "0k-HdzvUesgo",
        "outputId": "b22b195d-9fec-47d1-af8d-00056757e48d"
      },
      "execution_count": null,
      "outputs": [
        {
          "output_type": "stream",
          "name": "stdout",
          "text": [
            "data shape:  (369, 60, 80, 3)\n",
            "labels shape:  (369, 4)\n"
          ]
        }
      ]
    },
    {
      "cell_type": "code",
      "source": [
        "# split data and labels into training, validation, and testing sets\n",
        "xtrain, xtest, ytrain, ytest = train_test_split(data, labels, test_size=0.15, random_state=42)\n",
        "xtrain, xval, ytrain, yval = train_test_split(xtrain, ytrain, test_size=0.15, random_state=42)\n",
        "\n",
        "# print the shapes of the training and testing sets ~ all y's are one hot encoded\n",
        "print('xtrain shape:', xtrain.shape)\n",
        "print('ytrain shape:', ytrain.shape)\n",
        "print('xval shape:', xval.shape)\n",
        "print('yval shape:', yval.shape)\n",
        "print('xtest shape:', xtest.shape)\n",
        "print('ytest shape:', ytest.shape)"
      ],
      "metadata": {
        "colab": {
          "base_uri": "https://localhost:8080/"
        },
        "id": "-x3CIF_QenSz",
        "outputId": "77882bfa-3a68-4575-b43d-9a34df6cd842"
      },
      "execution_count": null,
      "outputs": [
        {
          "output_type": "stream",
          "name": "stdout",
          "text": [
            "xtrain shape: (266, 60, 80, 3)\n",
            "ytrain shape: (266, 4)\n",
            "xval shape: (47, 60, 80, 3)\n",
            "yval shape: (47, 4)\n",
            "xtest shape: (56, 60, 80, 3)\n",
            "ytest shape: (56, 4)\n"
          ]
        }
      ]
    },
    {
      "cell_type": "code",
      "source": [
        "def runCNNRNNAugment(x_train,y_train,x_val,y_val, stride, epochs, bsize):\n",
        "\n",
        "    batch_size = bsize\n",
        "    num_classes = 4\n",
        "    img_rows,img_cols=60,80\n",
        "    input_shape = (img_rows, img_cols, 3)\n",
        "    input_tensor = Input(shape=input_shape)\n",
        "\n",
        "    # Creating CNN\n",
        "    modelcnn = Sequential()\n",
        "    modelcnn.add(Conv2D(32, kernel_size=(3, 3),\n",
        "                     activation='relu',\n",
        "                     input_shape=input_shape,strides=stride))\n",
        "    modelcnn.add(Conv2D(64, (3, 3), activation='relu'))\n",
        "    # modelcnn.add(Conv2D(64, (3, 3), activation='relu'))\n",
        "    modelcnn.add(MaxPooling2D(pool_size=(2, 2)))\n",
        "    modelcnn.add(Dropout(0.25))\n",
        "    modelcnn.add(Flatten())\n",
        "    cnn_output = modelcnn(input_tensor)\n",
        "\n",
        "    # Creating RNN\n",
        "    modelrnn = Lambda(rgb_to_grayscale, rgb_to_grayscale_output_shape)(input_tensor)\n",
        "    #modelrnn = Bidirectional(LSTM(64, return_sequences=True, dropout=0.25, recurrent_dropout=0.25))(modelrnn)\n",
        "    #rnn_output = Bidirectional(LSTM(64, dropout=0.25, recurrent_dropout=0.25))(modelrnn)\n",
        "    modelrnn = Bidirectional(CuDNNLSTM(64, return_sequences=True))(modelrnn)\n",
        "    #modelrnn = Dropout(0.25)(modelrnn)\n",
        "    rnn_output = Bidirectional(CuDNNLSTM(64))(modelrnn)\n",
        "    rnn_output = Dropout(0.25)(rnn_output)\n",
        "\n",
        "    # Merging both cnn bottleneck and rnn's output wise element wise multiplication\n",
        "    merge_layer = concatenate([cnn_output, rnn_output])\n",
        "    last_process = Dense(128, activation='relu')(merge_layer)\n",
        "    last_process = Dropout(0.5)(last_process)\n",
        "    output_tensor = Dense(num_classes, activation='softmax')(last_process)\n",
        "    model = Model(inputs=input_tensor, outputs=output_tensor)\n",
        "    model.compile(loss=keras.losses.categorical_crossentropy,\n",
        "                  optimizer=keras.optimizers.Adam(),\n",
        "                  metrics=['accuracy'])\n",
        "\n",
        "    print(model.summary())\n",
        "\n",
        "\n",
        "    # datagen = ImageDataGenerator(\n",
        "    #     featurewise_center=False,  # set input mean to 0 over the dataset\n",
        "    #     samplewise_center=False,  # set each sample mean to 0\n",
        "    #     featurewise_std_normalization=False,  # divide inputs by std of the dataset\n",
        "    #     samplewise_std_normalization=False,  # divide each input by its std\n",
        "    #     zca_whitening=False,  # apply ZCA whitening\n",
        "    #     rotation_range=10,  # randomly rotate images in the range (degrees, 0 to 180)\n",
        "    #     width_shift_range=0.1,  # randomly shift images horizontally (fraction of total width)\n",
        "    #     height_shift_range=0.1,  # randomly shift images vertically (fraction of total height)\n",
        "    #     horizontal_flip=True,  # randomly flip images\n",
        "    #     vertical_flip=False)  # randomly flip images\n",
        "    # history = model.fit_generator(datagen.flow(a,b, batch_size=32),\n",
        "    #                     steps_per_epoch=len(a) / 32, epochs=epochs, validation_data = [c, d],callbacks = [MetricsCheckpoint('logs')])\n",
        "\n",
        "    # history = model.fit(x_train, y_train, batch_size=batch_size, epochs=epochs, verbose=1, validation_data=(x_val, y_val))\n",
        "    history = []\n",
        "\n",
        "    return model, history"
      ],
      "metadata": {
        "id": "ck6BPuqgd1vi"
      },
      "execution_count": null,
      "outputs": []
    },
    {
      "cell_type": "code",
      "source": [
        "bsize = 128\n",
        "epochs = 80\n",
        "stride = 1\n",
        "runCNNRNNAugment(xtrain, ytrain, xval, yval, stride, epochs, bsize)"
      ],
      "metadata": {
        "colab": {
          "base_uri": "https://localhost:8080/"
        },
        "id": "l6laea_t_QQG",
        "outputId": "b9ac87f8-0a82-4c29-933c-fef7f117045e"
      },
      "execution_count": null,
      "outputs": [
        {
          "output_type": "stream",
          "name": "stdout",
          "text": [
            "Model: \"model\"\n",
            "__________________________________________________________________________________________________\n",
            " Layer (type)                   Output Shape         Param #     Connected to                     \n",
            "==================================================================================================\n",
            " input_1 (InputLayer)           [(None, 60, 80, 3)]  0           []                               \n",
            "                                                                                                  \n",
            " lambda (Lambda)                (None, 60, 80)       0           ['input_1[0][0]']                \n",
            "                                                                                                  \n",
            " bidirectional (Bidirectional)  (None, 60, 128)      74752       ['lambda[0][0]']                 \n",
            "                                                                                                  \n",
            " bidirectional_1 (Bidirectional  (None, 128)         99328       ['bidirectional[0][0]']          \n",
            " )                                                                                                \n",
            "                                                                                                  \n",
            " sequential (Sequential)        (None, 68096)        19392       ['input_1[0][0]']                \n",
            "                                                                                                  \n",
            " dropout_1 (Dropout)            (None, 128)          0           ['bidirectional_1[0][0]']        \n",
            "                                                                                                  \n",
            " concatenate (Concatenate)      (None, 68224)        0           ['sequential[0][0]',             \n",
            "                                                                  'dropout_1[0][0]']              \n",
            "                                                                                                  \n",
            " dense (Dense)                  (None, 128)          8732800     ['concatenate[0][0]']            \n",
            "                                                                                                  \n",
            " dropout_2 (Dropout)            (None, 128)          0           ['dense[0][0]']                  \n",
            "                                                                                                  \n",
            " dense_1 (Dense)                (None, 4)            516         ['dropout_2[0][0]']              \n",
            "                                                                                                  \n",
            "==================================================================================================\n",
            "Total params: 8,926,788\n",
            "Trainable params: 8,926,788\n",
            "Non-trainable params: 0\n",
            "__________________________________________________________________________________________________\n",
            "None\n"
          ]
        },
        {
          "output_type": "execute_result",
          "data": {
            "text/plain": [
              "(<keras.engine.functional.Functional at 0x7fbf9412b070>, [])"
            ]
          },
          "metadata": {},
          "execution_count": 11
        }
      ]
    },
    {
      "cell_type": "code",
      "source": [
        "bsize = 128\n",
        "epochs = 80\n",
        "stride = 1\n",
        "trained_model, hist = runCNNRNNAugment(xtrain, ytrain, xval, yval, stride, epochs, bsize)"
      ],
      "metadata": {
        "colab": {
          "base_uri": "https://localhost:8080/"
        },
        "id": "tyeRwgn-d-Lj",
        "outputId": "6205f5f0-f6fa-48a2-877b-e5eb29c82fc5"
      },
      "execution_count": null,
      "outputs": [
        {
          "output_type": "stream",
          "name": "stdout",
          "text": [
            "Epoch 1/80\n",
            "3/3 [==============================] - 14s 478ms/step - loss: 648.1407 - accuracy: 0.3008 - val_loss: 435.7474 - val_accuracy: 0.6383\n",
            "Epoch 2/80\n",
            "3/3 [==============================] - 0s 49ms/step - loss: 540.9067 - accuracy: 0.4549 - val_loss: 71.9378 - val_accuracy: 0.2766\n",
            "Epoch 3/80\n",
            "3/3 [==============================] - 0s 51ms/step - loss: 72.2794 - accuracy: 0.2669 - val_loss: 1.5538 - val_accuracy: 0.6383\n",
            "Epoch 4/80\n",
            "3/3 [==============================] - 0s 49ms/step - loss: 2.2712 - accuracy: 0.5226 - val_loss: 1.2699 - val_accuracy: 0.3191\n",
            "Epoch 5/80\n",
            "3/3 [==============================] - 0s 50ms/step - loss: 1.2640 - accuracy: 0.4624 - val_loss: 1.1064 - val_accuracy: 0.6170\n",
            "Epoch 6/80\n",
            "3/3 [==============================] - 0s 51ms/step - loss: 1.1471 - accuracy: 0.6090 - val_loss: 0.9833 - val_accuracy: 0.7447\n",
            "Epoch 7/80\n",
            "3/3 [==============================] - 0s 49ms/step - loss: 1.0846 - accuracy: 0.5602 - val_loss: 1.2034 - val_accuracy: 0.6383\n",
            "Epoch 8/80\n",
            "3/3 [==============================] - 0s 49ms/step - loss: 1.1387 - accuracy: 0.6466 - val_loss: 1.0277 - val_accuracy: 0.6383\n",
            "Epoch 9/80\n",
            "3/3 [==============================] - 0s 51ms/step - loss: 0.9935 - accuracy: 0.6090 - val_loss: 0.9788 - val_accuracy: 0.6383\n",
            "Epoch 10/80\n",
            "3/3 [==============================] - 0s 51ms/step - loss: 1.0500 - accuracy: 0.6203 - val_loss: 0.9555 - val_accuracy: 0.6383\n",
            "Epoch 11/80\n",
            "3/3 [==============================] - 0s 51ms/step - loss: 0.8932 - accuracy: 0.6391 - val_loss: 0.9813 - val_accuracy: 0.6383\n",
            "Epoch 12/80\n",
            "3/3 [==============================] - 0s 52ms/step - loss: 0.8256 - accuracy: 0.6617 - val_loss: 0.9498 - val_accuracy: 0.6170\n",
            "Epoch 13/80\n",
            "3/3 [==============================] - 0s 55ms/step - loss: 0.7208 - accuracy: 0.7632 - val_loss: 1.1152 - val_accuracy: 0.5957\n",
            "Epoch 14/80\n",
            "3/3 [==============================] - 0s 49ms/step - loss: 0.7682 - accuracy: 0.6880 - val_loss: 1.0037 - val_accuracy: 0.5957\n",
            "Epoch 15/80\n",
            "3/3 [==============================] - 0s 49ms/step - loss: 0.7726 - accuracy: 0.7444 - val_loss: 1.0014 - val_accuracy: 0.5319\n",
            "Epoch 16/80\n",
            "3/3 [==============================] - 0s 51ms/step - loss: 0.6694 - accuracy: 0.7180 - val_loss: 1.1388 - val_accuracy: 0.5106\n",
            "Epoch 17/80\n",
            "3/3 [==============================] - 0s 48ms/step - loss: 0.5259 - accuracy: 0.8008 - val_loss: 1.4697 - val_accuracy: 0.5745\n",
            "Epoch 18/80\n",
            "3/3 [==============================] - 0s 49ms/step - loss: 0.6043 - accuracy: 0.7895 - val_loss: 1.0914 - val_accuracy: 0.5532\n",
            "Epoch 19/80\n",
            "3/3 [==============================] - 0s 49ms/step - loss: 0.5683 - accuracy: 0.8045 - val_loss: 0.9567 - val_accuracy: 0.5957\n",
            "Epoch 20/80\n",
            "3/3 [==============================] - 0s 52ms/step - loss: 0.5068 - accuracy: 0.8571 - val_loss: 1.0233 - val_accuracy: 0.5319\n",
            "Epoch 21/80\n",
            "3/3 [==============================] - 0s 48ms/step - loss: 0.5083 - accuracy: 0.8045 - val_loss: 1.2424 - val_accuracy: 0.5745\n",
            "Epoch 22/80\n",
            "3/3 [==============================] - 0s 48ms/step - loss: 0.3302 - accuracy: 0.8985 - val_loss: 1.2928 - val_accuracy: 0.5957\n",
            "Epoch 23/80\n",
            "3/3 [==============================] - 0s 49ms/step - loss: 0.3035 - accuracy: 0.8835 - val_loss: 1.3511 - val_accuracy: 0.6170\n",
            "Epoch 24/80\n",
            "3/3 [==============================] - 0s 51ms/step - loss: 0.2858 - accuracy: 0.8947 - val_loss: 1.0359 - val_accuracy: 0.6170\n",
            "Epoch 25/80\n",
            "3/3 [==============================] - 0s 49ms/step - loss: 0.2715 - accuracy: 0.9398 - val_loss: 1.1163 - val_accuracy: 0.5532\n",
            "Epoch 26/80\n",
            "3/3 [==============================] - 0s 51ms/step - loss: 0.1853 - accuracy: 0.9586 - val_loss: 1.8355 - val_accuracy: 0.6383\n",
            "Epoch 27/80\n",
            "3/3 [==============================] - 0s 50ms/step - loss: 0.2940 - accuracy: 0.9211 - val_loss: 1.4445 - val_accuracy: 0.5532\n",
            "Epoch 28/80\n",
            "3/3 [==============================] - 0s 64ms/step - loss: 0.2427 - accuracy: 0.9211 - val_loss: 1.5232 - val_accuracy: 0.5532\n",
            "Epoch 29/80\n",
            "3/3 [==============================] - 0s 59ms/step - loss: 0.1279 - accuracy: 0.9549 - val_loss: 1.6178 - val_accuracy: 0.6170\n",
            "Epoch 30/80\n",
            "3/3 [==============================] - 0s 61ms/step - loss: 0.1778 - accuracy: 0.9474 - val_loss: 1.0181 - val_accuracy: 0.5745\n",
            "Epoch 31/80\n",
            "3/3 [==============================] - 0s 58ms/step - loss: 0.2023 - accuracy: 0.9699 - val_loss: 1.1825 - val_accuracy: 0.5957\n",
            "Epoch 32/80\n",
            "3/3 [==============================] - 0s 60ms/step - loss: 0.1834 - accuracy: 0.9549 - val_loss: 2.0788 - val_accuracy: 0.6170\n",
            "Epoch 33/80\n",
            "3/3 [==============================] - 0s 56ms/step - loss: 0.1394 - accuracy: 0.9511 - val_loss: 1.4755 - val_accuracy: 0.5532\n",
            "Epoch 34/80\n",
            "3/3 [==============================] - 0s 63ms/step - loss: 0.1114 - accuracy: 0.9662 - val_loss: 1.3117 - val_accuracy: 0.5319\n",
            "Epoch 35/80\n",
            "3/3 [==============================] - 0s 57ms/step - loss: 0.1550 - accuracy: 0.9624 - val_loss: 1.7430 - val_accuracy: 0.5532\n",
            "Epoch 36/80\n",
            "3/3 [==============================] - 0s 60ms/step - loss: 0.1310 - accuracy: 0.9549 - val_loss: 3.0854 - val_accuracy: 0.6170\n",
            "Epoch 37/80\n",
            "3/3 [==============================] - 0s 60ms/step - loss: 0.2976 - accuracy: 0.9098 - val_loss: 1.0135 - val_accuracy: 0.5957\n",
            "Epoch 38/80\n",
            "3/3 [==============================] - 0s 64ms/step - loss: 0.4174 - accuracy: 0.8797 - val_loss: 0.9929 - val_accuracy: 0.6170\n",
            "Epoch 39/80\n",
            "3/3 [==============================] - 0s 58ms/step - loss: 0.4904 - accuracy: 0.7970 - val_loss: 0.9907 - val_accuracy: 0.6170\n",
            "Epoch 40/80\n",
            "3/3 [==============================] - 0s 58ms/step - loss: 0.4992 - accuracy: 0.8346 - val_loss: 1.0076 - val_accuracy: 0.6170\n",
            "Epoch 41/80\n",
            "3/3 [==============================] - 0s 59ms/step - loss: 0.4695 - accuracy: 0.8271 - val_loss: 1.0404 - val_accuracy: 0.5957\n",
            "Epoch 42/80\n",
            "3/3 [==============================] - 0s 59ms/step - loss: 0.4548 - accuracy: 0.8271 - val_loss: 1.0075 - val_accuracy: 0.6170\n",
            "Epoch 43/80\n",
            "3/3 [==============================] - 0s 63ms/step - loss: 0.3915 - accuracy: 0.8571 - val_loss: 0.9604 - val_accuracy: 0.6596\n",
            "Epoch 44/80\n",
            "3/3 [==============================] - 0s 63ms/step - loss: 0.4328 - accuracy: 0.8308 - val_loss: 1.0821 - val_accuracy: 0.6596\n",
            "Epoch 45/80\n",
            "3/3 [==============================] - 0s 61ms/step - loss: 0.2957 - accuracy: 0.9098 - val_loss: 1.2364 - val_accuracy: 0.6596\n",
            "Epoch 46/80\n",
            "3/3 [==============================] - 0s 60ms/step - loss: 0.4262 - accuracy: 0.8571 - val_loss: 1.0139 - val_accuracy: 0.6809\n",
            "Epoch 47/80\n",
            "3/3 [==============================] - 0s 58ms/step - loss: 0.3760 - accuracy: 0.8571 - val_loss: 1.0102 - val_accuracy: 0.6596\n",
            "Epoch 48/80\n",
            "3/3 [==============================] - 0s 49ms/step - loss: 0.3415 - accuracy: 0.8684 - val_loss: 1.1630 - val_accuracy: 0.6383\n",
            "Epoch 49/80\n",
            "3/3 [==============================] - 0s 49ms/step - loss: 0.2068 - accuracy: 0.9361 - val_loss: 1.5301 - val_accuracy: 0.5745\n",
            "Epoch 50/80\n",
            "3/3 [==============================] - 0s 51ms/step - loss: 0.2565 - accuracy: 0.9248 - val_loss: 1.5107 - val_accuracy: 0.5957\n",
            "Epoch 51/80\n",
            "3/3 [==============================] - 0s 53ms/step - loss: 0.1440 - accuracy: 0.9511 - val_loss: 1.5529 - val_accuracy: 0.5957\n",
            "Epoch 52/80\n",
            "3/3 [==============================] - 0s 49ms/step - loss: 0.1866 - accuracy: 0.9586 - val_loss: 1.3509 - val_accuracy: 0.6383\n",
            "Epoch 53/80\n",
            "3/3 [==============================] - 0s 53ms/step - loss: 0.1134 - accuracy: 0.9662 - val_loss: 1.2533 - val_accuracy: 0.6596\n",
            "Epoch 54/80\n",
            "3/3 [==============================] - 0s 49ms/step - loss: 0.0718 - accuracy: 0.9812 - val_loss: 1.4396 - val_accuracy: 0.6809\n",
            "Epoch 55/80\n",
            "3/3 [==============================] - 0s 49ms/step - loss: 0.1260 - accuracy: 0.9699 - val_loss: 1.6444 - val_accuracy: 0.6383\n",
            "Epoch 56/80\n",
            "3/3 [==============================] - 0s 48ms/step - loss: 0.0567 - accuracy: 0.9850 - val_loss: 1.7417 - val_accuracy: 0.6596\n",
            "Epoch 57/80\n",
            "3/3 [==============================] - 0s 49ms/step - loss: 0.1120 - accuracy: 0.9586 - val_loss: 1.6544 - val_accuracy: 0.6809\n",
            "Epoch 58/80\n",
            "3/3 [==============================] - 0s 49ms/step - loss: 0.1374 - accuracy: 0.9361 - val_loss: 1.5610 - val_accuracy: 0.6596\n",
            "Epoch 59/80\n",
            "3/3 [==============================] - 0s 50ms/step - loss: 0.0993 - accuracy: 0.9662 - val_loss: 1.3621 - val_accuracy: 0.6170\n",
            "Epoch 60/80\n",
            "3/3 [==============================] - 0s 50ms/step - loss: 0.1560 - accuracy: 0.9586 - val_loss: 1.5831 - val_accuracy: 0.5745\n",
            "Epoch 61/80\n",
            "3/3 [==============================] - 0s 49ms/step - loss: 0.1639 - accuracy: 0.9511 - val_loss: 1.8820 - val_accuracy: 0.5957\n",
            "Epoch 62/80\n",
            "3/3 [==============================] - 0s 50ms/step - loss: 0.1161 - accuracy: 0.9737 - val_loss: 2.0760 - val_accuracy: 0.5957\n",
            "Epoch 63/80\n",
            "3/3 [==============================] - 0s 54ms/step - loss: 0.1603 - accuracy: 0.9624 - val_loss: 1.8884 - val_accuracy: 0.5745\n",
            "Epoch 64/80\n",
            "3/3 [==============================] - 0s 49ms/step - loss: 0.1635 - accuracy: 0.9624 - val_loss: 1.5007 - val_accuracy: 0.5957\n",
            "Epoch 65/80\n",
            "3/3 [==============================] - 0s 48ms/step - loss: 0.0780 - accuracy: 0.9812 - val_loss: 1.3188 - val_accuracy: 0.5957\n",
            "Epoch 66/80\n",
            "3/3 [==============================] - 0s 49ms/step - loss: 0.0714 - accuracy: 0.9812 - val_loss: 1.4205 - val_accuracy: 0.5957\n",
            "Epoch 67/80\n",
            "3/3 [==============================] - 0s 50ms/step - loss: 0.0830 - accuracy: 0.9774 - val_loss: 1.7904 - val_accuracy: 0.6170\n",
            "Epoch 68/80\n",
            "3/3 [==============================] - 0s 51ms/step - loss: 0.1045 - accuracy: 0.9624 - val_loss: 1.6932 - val_accuracy: 0.5957\n",
            "Epoch 69/80\n",
            "3/3 [==============================] - 0s 50ms/step - loss: 0.0588 - accuracy: 0.9850 - val_loss: 1.6196 - val_accuracy: 0.5532\n",
            "Epoch 70/80\n",
            "3/3 [==============================] - 0s 49ms/step - loss: 0.0429 - accuracy: 0.9887 - val_loss: 1.6702 - val_accuracy: 0.5745\n",
            "Epoch 71/80\n",
            "3/3 [==============================] - 0s 49ms/step - loss: 0.0764 - accuracy: 0.9737 - val_loss: 1.7513 - val_accuracy: 0.5745\n",
            "Epoch 72/80\n",
            "3/3 [==============================] - 0s 49ms/step - loss: 0.1057 - accuracy: 0.9699 - val_loss: 1.7386 - val_accuracy: 0.5957\n",
            "Epoch 73/80\n",
            "3/3 [==============================] - 0s 51ms/step - loss: 0.0747 - accuracy: 0.9850 - val_loss: 1.6133 - val_accuracy: 0.5957\n",
            "Epoch 74/80\n",
            "3/3 [==============================] - 0s 49ms/step - loss: 0.0677 - accuracy: 0.9812 - val_loss: 1.5194 - val_accuracy: 0.6170\n",
            "Epoch 75/80\n",
            "3/3 [==============================] - 0s 50ms/step - loss: 0.0606 - accuracy: 0.9812 - val_loss: 1.5750 - val_accuracy: 0.5957\n",
            "Epoch 76/80\n",
            "3/3 [==============================] - 0s 49ms/step - loss: 0.0967 - accuracy: 0.9774 - val_loss: 1.6175 - val_accuracy: 0.5957\n",
            "Epoch 77/80\n",
            "3/3 [==============================] - 0s 50ms/step - loss: 0.1059 - accuracy: 0.9774 - val_loss: 1.7174 - val_accuracy: 0.5957\n",
            "Epoch 78/80\n",
            "3/3 [==============================] - 0s 49ms/step - loss: 0.0939 - accuracy: 0.9737 - val_loss: 1.7333 - val_accuracy: 0.6170\n",
            "Epoch 79/80\n",
            "3/3 [==============================] - 0s 49ms/step - loss: 0.0943 - accuracy: 0.9737 - val_loss: 1.6437 - val_accuracy: 0.6383\n",
            "Epoch 80/80\n",
            "3/3 [==============================] - 0s 49ms/step - loss: 0.0963 - accuracy: 0.9699 - val_loss: 1.2492 - val_accuracy: 0.6383\n"
          ]
        }
      ]
    },
    {
      "cell_type": "code",
      "source": [
        "score = trained_model.evaluate(xtrain, ytrain, verbose=0)\n",
        "print('\\nKeras CNN #1C - accuracy:', score[1],'\\n')\n",
        "print('Train loss:', score[0])\n",
        "print('Train accuracy:', score[1])\n",
        "\n",
        "y_pred = trained_model.predict(xtrain)\n",
        "map_characters = label_dict\n",
        "print('\\n', sklearn.metrics.classification_report(np.where(ytrain > 0)[1], np.argmax(y_pred, axis=1), target_names=list(map_characters.keys())), sep='')\n",
        "Y_pred_classes = np.argmax(y_pred,axis=1)\n",
        "Y_true = np.argmax(ytrain,axis=1)\n",
        "# plotKerasLearningCurve()\n",
        "# plt.show()\n",
        "plot_learning_curve(hist)\n",
        "# plt.show()\n",
        "confusion_mtx = confusion_matrix(Y_true, Y_pred_classes)\n",
        "plot_confusion_matrix(confusion_mtx, classes = list(label_dict.values()))\n",
        "plt.show()"
      ],
      "metadata": {
        "colab": {
          "base_uri": "https://localhost:8080/",
          "height": 1000
        },
        "id": "r9rF2qN5AT4U",
        "outputId": "845d5022-8e05-47ba-853a-142a15ea5dae"
      },
      "execution_count": null,
      "outputs": [
        {
          "output_type": "stream",
          "name": "stdout",
          "text": [
            "\n",
            "Keras CNN #1C - accuracy: 0.981203019618988 \n",
            "\n",
            "Train loss: 0.05098686367273331\n",
            "Train accuracy: 0.981203019618988\n",
            "9/9 [==============================] - 1s 9ms/step\n",
            "\n",
            "              precision    recall  f1-score   support\n",
            "\n",
            "  EOSINOPHIL       0.99      0.97      0.98        72\n",
            "  LYMPHOCYTE       0.94      1.00      0.97        29\n",
            "    MONOCYTE       1.00      0.88      0.94        17\n",
            "  NEUTROPHIL       0.99      0.99      0.99       148\n",
            "\n",
            "    accuracy                           0.98       266\n",
            "   macro avg       0.98      0.96      0.97       266\n",
            "weighted avg       0.98      0.98      0.98       266\n",
            "\n"
          ]
        },
        {
          "output_type": "display_data",
          "data": {
            "text/plain": [
              "<Figure size 576x576 with 2 Axes>"
            ],
            "image/png": "[encoded data removed]"
          },
          "metadata": {
            "needs_background": "light"
          }
        },
        {
          "output_type": "display_data",
          "data": {
            "text/plain": [
              "<Figure size 360x360 with 2 Axes>"
            ],
            "image/png": "[encoded data removed]"
          },
          "metadata": {
            "needs_background": "light"
          }
        }
      ]
    },
    {
      "cell_type": "code",
      "source": [
        "# Test set results\n",
        "score = trained_model.evaluate(xtest, ytest, verbose=0)\n",
        "print('\\nKeras CNN #1C - accuracy:', score[1],'\\n')\n",
        "print('Test loss:', score[0])\n",
        "print('Test accuracy:', score[1])\n",
        "\n",
        "y_pred = trained_model.predict(xtest)\n",
        "map_characters = label_dict\n",
        "print('\\n', sklearn.metrics.classification_report(np.where(ytest > 0)[1], np.argmax(y_pred, axis=1), target_names=list(map_characters.keys())), sep='')\n",
        "Y_pred_classes = np.argmax(y_pred,axis=1)\n",
        "Y_true = np.argmax(ytest,axis=1)\n",
        "# plotKerasLearningCurve()\n",
        "# plt.show()\n",
        "# plot_learning_curve(hist)\n",
        "# plt.show()\n",
        "confusion_mtx = confusion_matrix(Y_true, Y_pred_classes)\n",
        "plot_confusion_matrix(confusion_mtx, classes = list(label_dict.values()))\n",
        "plt.show()"
      ],
      "metadata": {
        "id": "-cA5diabnDTu",
        "colab": {
          "base_uri": "https://localhost:8080/",
          "height": 823
        },
        "outputId": "48648fe2-6fd9-4a46-e2ad-07fc5e3ed1f6"
      },
      "execution_count": null,
      "outputs": [
        {
          "output_type": "stream",
          "name": "stdout",
          "text": [
            "\n",
            "Keras CNN #1C - accuracy: 0.5892857313156128 \n",
            "\n",
            "Test loss: 2.3968091011047363\n",
            "Test accuracy: 0.5892857313156128\n",
            "2/2 [==============================] - 0s 12ms/step\n",
            "\n",
            "              precision    recall  f1-score   support\n",
            "\n",
            "  EOSINOPHIL       0.14      0.11      0.12         9\n",
            "  LYMPHOCYTE       0.00      0.00      0.00         6\n",
            "    MONOCYTE       0.00      0.00      0.00         4\n",
            "  NEUTROPHIL       0.67      0.86      0.75        37\n",
            "\n",
            "    accuracy                           0.59        56\n",
            "   macro avg       0.20      0.24      0.22        56\n",
            "weighted avg       0.46      0.59      0.52        56\n",
            "\n"
          ]
        },
        {
          "output_type": "stream",
          "name": "stderr",
          "text": [
            "/usr/local/lib/python3.9/dist-packages/sklearn/metrics/_classification.py:1344: UndefinedMetricWarning: Precision and F-score are ill-defined and being set to 0.0 in labels with no predicted samples. Use `zero_division` parameter to control this behavior.\n",
            "  _warn_prf(average, modifier, msg_start, len(result))\n",
            "/usr/local/lib/python3.9/dist-packages/sklearn/metrics/_classification.py:1344: UndefinedMetricWarning: Precision and F-score are ill-defined and being set to 0.0 in labels with no predicted samples. Use `zero_division` parameter to control this behavior.\n",
            "  _warn_prf(average, modifier, msg_start, len(result))\n",
            "/usr/local/lib/python3.9/dist-packages/sklearn/metrics/_classification.py:1344: UndefinedMetricWarning: Precision and F-score are ill-defined and being set to 0.0 in labels with no predicted samples. Use `zero_division` parameter to control this behavior.\n",
            "  _warn_prf(average, modifier, msg_start, len(result))\n"
          ]
        },
        {
          "output_type": "display_data",
          "data": {
            "text/plain": [
              "<Figure size 360x360 with 2 Axes>"
            ],
            "image/png": "[encoded data removed]"
          },
          "metadata": {
            "needs_background": "light"
          }
        }
      ]
    },
    {
      "cell_type": "code",
      "source": [
        "# save the trained model\n",
        "modelPath = basePath + '/models/'\n",
        "trained_model.save(modelPath + 'vysh_cnn-rnn-og.h5')\n",
        "\n",
        "# save the history object\n",
        "with open(modelPath + 'hist-vysh_cnn-rnn-og.pickle', 'wb') as handle:\n",
        "    pickle.dump(hist.history, handle, protocol=pickle.HIGHEST_PROTOCOL)"
      ],
      "metadata": {
        "id": "FEBzi1Bqd-GW"
      },
      "execution_count": null,
      "outputs": []
    },
    {
      "cell_type": "code",
      "source": [],
      "metadata": {
        "id": "8g6JXCIkrTkz"
      },
      "execution_count": null,
      "outputs": []
    }
  ]
}