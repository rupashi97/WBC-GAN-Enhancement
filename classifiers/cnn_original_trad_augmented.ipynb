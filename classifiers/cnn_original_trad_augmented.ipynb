{
  "nbformat": 4,
  "nbformat_minor": 0,
  "metadata": {
    "colab": {
      "provenance": []
    },
    "kernelspec": {
      "name": "python3",
      "display_name": "Python 3"
    },
    "language_info": {
      "name": "python"
    },
    "accelerator": "GPU",
    "gpuClass": "standard"
  },
  "cells": [
    {
      "cell_type": "code",
      "execution_count": null,
      "metadata": {
        "colab": {
          "base_uri": "https://localhost:8080/"
        },
        "id": "yvAyBlc9YZ-z",
        "outputId": "21657f56-c842-4527-9495-6d34983c4dac"
      },
      "outputs": [
        {
          "output_type": "stream",
          "name": "stdout",
          "text": [
            "Mounted at /content/drive\n"
          ]
        }
      ],
      "source": [
        "import numpy as np\n",
        "import pandas as pd\n",
        "import keras\n",
        "from keras.models import Sequential\n",
        "from keras.layers import Dense, Dropout, Activation, Flatten, Conv2D, MaxPooling2D, Lambda, MaxPool2D, BatchNormalization\n",
        "from keras.utils import np_utils\n",
        "from keras.preprocessing.image import ImageDataGenerator\n",
        "from keras.optimizers import RMSprop\n",
        "from keras.callbacks import Callback, EarlyStopping, ReduceLROnPlateau, ModelCheckpoint\n",
        "from keras.utils.np_utils import to_categorical\n",
        "from sklearn.preprocessing import LabelEncoder\n",
        "from sklearn.model_selection import train_test_split\n",
        "from sklearn.metrics import confusion_matrix\n",
        "from sklearn.metrics import accuracy_score\n",
        "import xml.etree.ElementTree as ET\n",
        "import sklearn\n",
        "import itertools\n",
        "import cv2\n",
        "import scipy\n",
        "import os\n",
        "import csv\n",
        "import matplotlib.pyplot as plt\n",
        "%matplotlib inline\n",
        "from tqdm import tqdm\n",
        "import seaborn as sns\n",
        "from google.colab import drive\n",
        "import pickle\n",
        "\n",
        "drive.mount('/content/drive')"
      ]
    },
    {
      "cell_type": "code",
      "source": [
        "%cd drive/MyDrive/ECE-176"
      ],
      "metadata": {
        "colab": {
          "base_uri": "https://localhost:8080/"
        },
        "id": "gDETzZNkc_9s",
        "outputId": "cc3b45f5-9405-40f9-8cac-a472df1f92a5"
      },
      "execution_count": null,
      "outputs": [
        {
          "output_type": "stream",
          "name": "stdout",
          "text": [
            "/content/drive/.shortcut-targets-by-id/1nocF8OwSC30SO-c6lZ_zjX725MCTIjid/ECE-176\n"
          ]
        }
      ]
    },
    {
      "cell_type": "code",
      "source": [
        "basePath = os.getcwd()\n",
        "num_classes = 4"
      ],
      "metadata": {
        "id": "O6MKDCgbdAAd"
      },
      "execution_count": null,
      "outputs": []
    },
    {
      "cell_type": "code",
      "source": [
        "# Helper Functions\n",
        "\n",
        "def fetch_data(path_to_folder1, path_to_folder2, path_to_folder3, path_to_folder4, label_dict):\n",
        "  # define lists to hold image data and corresponding labels\n",
        "  data = []\n",
        "  labels = []\n",
        "\n",
        "  # loop through each folder and read images\n",
        "  for folder in [path_to_folder1, path_to_folder2, path_to_folder3, path_to_folder4]:\n",
        "      for filename in os.listdir(folder):\n",
        "          img = cv2.imread(os.path.join(folder, filename))\n",
        "          if img is not None:\n",
        "              # resize image if needed\n",
        "              # img = cv2.resize(img, (256, 256))\n",
        "              # img = cv2.resize(img, (80, 60))\n",
        "              img = cv2.resize(img, dsize=(80,60), interpolation=cv2.INTER_CUBIC)\n",
        "              # convert image to numpy array and append to data list\n",
        "              data.append(np.array(img))\n",
        "              # get label from folder name and append to labels list\n",
        "              label = label_dict[os.path.basename(folder)]\n",
        "              labels.append(label)\n",
        "\n",
        "  data, labels = np.array(data), np.array(labels)\n",
        "  # data = np.transpose(data, (0, 3, 1, 2)) # rearranges shape from (369, 256, 256, 3) to (369, 3, 256, 256)\n",
        "\n",
        "  return data, labels"
      ],
      "metadata": {
        "id": "6k8LeRtmdAC1"
      },
      "execution_count": null,
      "outputs": []
    },
    {
      "cell_type": "code",
      "source": [
        "# Helper Functions  Learning Curves and Confusion Matrix\n",
        "class MetricsCheckpoint(Callback):\n",
        "    \"\"\"Callback that saves metrics after each epoch\"\"\"\n",
        "    def __init__(self, savepath):\n",
        "        super(MetricsCheckpoint, self).__init__()\n",
        "        self.savepath = savepath\n",
        "        self.history = {}\n",
        "    def on_epoch_end(self, epoch, logs=None):\n",
        "        for k, v in logs.items():\n",
        "            self.history.setdefault(k, []).append(v)\n",
        "        np.save(self.savepath, self.history)\n",
        "\n",
        "def plotKerasLearningCurve():\n",
        "    plt.figure(figsize=(10,5))\n",
        "    metrics = np.load('logs.npy')[()]\n",
        "    filt = ['acc'] # try to add 'loss' to see the loss learning curve\n",
        "    for k in filter(lambda x : np.any([kk in x for kk in filt]), metrics.keys()):\n",
        "        l = np.array(metrics[k])\n",
        "        plt.plot(l, c= 'r' if 'val' not in k else 'b', label='val' if 'val' in k else 'train')\n",
        "        x = np.argmin(l) if 'loss' in k else np.argmax(l)\n",
        "        y = l[x]\n",
        "        plt.scatter(x,y, lw=0, alpha=0.25, s=100, c='r' if 'val' not in k else 'b')\n",
        "        plt.text(x, y, '{} = {:.4f}'.format(x,y), size='15', color= 'r' if 'val' not in k else 'b')\n",
        "    plt.legend(loc=4)\n",
        "    plt.axis([0, None, None, None]);\n",
        "    plt.grid()\n",
        "    plt.xlabel('Number of epochs')\n",
        "    plt.ylabel('Accuracy')\n",
        "\n",
        "def plot_confusion_matrix(cm, classes,\n",
        "                          normalize=False,\n",
        "                          title='Confusion matrix',\n",
        "                          cmap=plt.cm.Blues):\n",
        "#This function prints and plots the confusion matrix.\n",
        "#Normalization can be applied by setting `normalize=True`.\n",
        "\n",
        "    plt.figure(figsize = (5,5))\n",
        "    plt.imshow(cm, interpolation='nearest', cmap=cmap)\n",
        "    plt.title(title)\n",
        "    plt.colorbar()\n",
        "    tick_marks = np.arange(len(classes))\n",
        "    plt.xticks(tick_marks, classes, rotation=90)\n",
        "    plt.yticks(tick_marks, classes)\n",
        "    if normalize:\n",
        "        cm = cm.astype('float') / cm.sum(axis=1)[:, np.newaxis]\n",
        "\n",
        "    thresh = cm.max() / 2.\n",
        "    for i, j in itertools.product(range(cm.shape[0]), range(cm.shape[1])):\n",
        "        plt.text(j, i, cm[i, j],\n",
        "                 horizontalalignment=\"center\",\n",
        "                 color=\"white\" if cm[i, j] > thresh else \"black\")\n",
        "    plt.tight_layout()\n",
        "    plt.ylabel('True label')\n",
        "    plt.xlabel('Predicted label')\n",
        "\n",
        "def plot_learning_curve(history):\n",
        "    plt.figure(figsize=(8,8))\n",
        "    plt.subplot(1,2,1)\n",
        "    plt.plot(history.history['accuracy'])\n",
        "    plt.plot(history.history['val_accuracy'])\n",
        "    plt.title('model accuracy')\n",
        "    plt.ylabel('accuracy')\n",
        "    plt.xlabel('epoch')\n",
        "    plt.legend(['train', 'test'], loc='upper left')\n",
        "    # plt.savefig('./accuracy_curve.png')\n",
        "    #plt.clf()\n",
        "    # summarize history for loss\n",
        "    plt.subplot(1,2,2)\n",
        "    plt.plot(history.history['loss'])\n",
        "    plt.plot(history.history['val_loss'])\n",
        "    plt.title('model loss')\n",
        "    plt.ylabel('loss')\n",
        "    plt.xlabel('epoch')\n",
        "    plt.legend(['train', 'test'], loc='upper left')\n",
        "    # plt.savefig('./loss_curve.png')\n",
        "\n",
        "def shuffle_data(data, labels):\n",
        "  '''shuffle data and labels together'''\n",
        "\n",
        "  indices = np.arange(len(data))\n",
        "  np.random.shuffle(indices)\n",
        "  data = data[indices]\n",
        "  labels = labels[indices]\n",
        "\n",
        "  return data, labels"
      ],
      "metadata": {
        "id": "bcczFHmwdAFc"
      },
      "execution_count": null,
      "outputs": []
    },
    {
      "cell_type": "code",
      "source": [
        "# Load original Data\n",
        "p1 = basePath + '/dataset-master/JPEGImages/classes/EOSINOPHIL'\n",
        "p2 = basePath + '/dataset-master/JPEGImages/classes/LYMPHOCYTE'\n",
        "p3 =  basePath + '/dataset-master/JPEGImages/classes/MONOCYTE'\n",
        "p4 =  basePath + '/dataset-master/JPEGImages/classes/NEUTROPHIL'\n",
        "\n",
        "# define dictionary to map folder name to label\n",
        "label_dict = {'EOSINOPHIL': 0, 'LYMPHOCYTE': 1, 'MONOCYTE': 2, 'NEUTROPHIL': 3}\n",
        "\n",
        "data_loaded, labels_loaded = fetch_data(p1, p2, p3, p4, label_dict)"
      ],
      "metadata": {
        "id": "Nu2SSanidsX5"
      },
      "execution_count": null,
      "outputs": []
    },
    {
      "cell_type": "code",
      "source": [
        "# Load augmented data\n",
        "p1 = basePath + '/dataset-master/GAN AUGMENTED DATA/eos'\n",
        "p2 = basePath + '/dataset-master/GAN AUGMENTED DATA/lymph'\n",
        "p3 =  basePath + '/dataset-master/GAN AUGMENTED DATA/mono'\n",
        "p4 =  basePath + '/dataset-master/GAN AUGMENTED DATA/neutro'\n",
        "\n",
        "# define dictionary to map folder name to label\n",
        "label_dict = {'eos': 0, 'lymph': 1, 'mono': 2, 'neutro': 3}\n",
        "\n",
        "data_augment, labels_augment = fetch_data(p1, p2, p3, p4, label_dict)"
      ],
      "metadata": {
        "id": "qTM26qiwdyth"
      },
      "execution_count": null,
      "outputs": []
    },
    {
      "cell_type": "code",
      "source": [
        "# data_total = np.concatenate((data_loaded, data_augment), axis=0)\n",
        "# labels_total = np.concatenate((labels_loaded, labels_augment), axis=0)\n",
        "\n",
        "# data_total.shape, labels_total.shape"
      ],
      "metadata": {
        "id": "AAxjxdH0eg-o"
      },
      "execution_count": null,
      "outputs": []
    },
    {
      "cell_type": "code",
      "source": [
        "# # Remove label 3\n",
        "\n",
        "# indexes = np.where(labels_total == 3)[0]\n",
        "# data_total_new = np.delete(data_total, indexes, axis=0)\n",
        "# label_total_new = np.delete(labels_total, indexes)\n",
        "\n",
        "# data_total_new.shape, label_total_new.shape"
      ],
      "metadata": {
        "id": "QxtkQbIYGm6e"
      },
      "execution_count": null,
      "outputs": []
    },
    {
      "cell_type": "code",
      "source": [
        "# Shuffle data and convert labels to one hot encodings\n",
        "\n",
        "# data, labels = shuffle_data(data_total_new, label_total_new)\n",
        "# data, labels = shuffle_data(data_total, labels_total)\n",
        "\n",
        "# data, labels = shuffle_data(data_augment, labels_augment)\n",
        "data, labels = shuffle_data(data_loaded, labels_loaded)\n",
        "\n",
        "\n",
        "labels = to_categorical(labels, num_classes = num_classes)\n",
        "print('data shape: ', data.shape)\n",
        "print('labels shape: ', labels.shape)"
      ],
      "metadata": {
        "colab": {
          "base_uri": "https://localhost:8080/"
        },
        "id": "0k-HdzvUesgo",
        "outputId": "f5f4c90e-4d2a-44d1-83ba-7b068fdd58ed"
      },
      "execution_count": null,
      "outputs": [
        {
          "output_type": "stream",
          "name": "stdout",
          "text": [
            "data shape:  (369, 60, 80, 3)\n",
            "labels shape:  (369, 4)\n"
          ]
        }
      ]
    },
    {
      "cell_type": "code",
      "source": [
        "# split data and labels into training, validation, and testing sets\n",
        "xtrain, xtest, ytrain, ytest = train_test_split(data, labels, test_size=0.15, random_state=42)\n",
        "xtrain, xval, ytrain, yval = train_test_split(xtrain, ytrain, test_size=0.15, random_state=42)\n",
        "\n",
        "# print the shapes of the training and testing sets ~ all y's are one hot encoded\n",
        "print('xtrain shape:', xtrain.shape)\n",
        "print('ytrain shape:', ytrain.shape)\n",
        "print('xval shape:', xval.shape)\n",
        "print('yval shape:', yval.shape)\n",
        "print('xtest shape:', xtest.shape)\n",
        "print('ytest shape:', ytest.shape)"
      ],
      "metadata": {
        "colab": {
          "base_uri": "https://localhost:8080/"
        },
        "id": "-x3CIF_QenSz",
        "outputId": "f706b03d-ea27-498f-abcf-89550c3cf341"
      },
      "execution_count": null,
      "outputs": [
        {
          "output_type": "stream",
          "name": "stdout",
          "text": [
            "xtrain shape: (266, 60, 80, 3)\n",
            "ytrain shape: (266, 4)\n",
            "xval shape: (47, 60, 80, 3)\n",
            "yval shape: (47, 4)\n",
            "xtest shape: (56, 60, 80, 3)\n",
            "ytest shape: (56, 4)\n"
          ]
        }
      ]
    },
    {
      "cell_type": "code",
      "source": [
        "def runKerasCNNAugment(x_train,y_train,x_val,y_val, stride, epochs):\n",
        "    batch_size = 128\n",
        "    img_rows,img_cols=60,80\n",
        "    input_shape = (img_rows, img_cols, 3)\n",
        "\n",
        "    model = Sequential()\n",
        "    model.add(Conv2D(32, kernel_size=(3, 3),\n",
        "                     activation='relu',\n",
        "                     input_shape=input_shape,strides=stride))\n",
        "    model.add(Conv2D(64, (3, 3), activation='relu'))\n",
        "    # model.add(Conv2D(64, (3, 3), activation='relu'))\n",
        "    # model.add(Conv2D(64, (3, 3), activation='relu'))\n",
        "    # model.add(Conv2D(64, (3, 3), activation='relu'))\n",
        "    model.add(MaxPooling2D(pool_size=(2, 2)))\n",
        "    model.add(Dropout(0.25))\n",
        "    model.add(Flatten())\n",
        "    model.add(Dense(128, activation='relu')),\n",
        "    # model.add(Dense(128, activation='relu',  kernel_regularizer=keras.regularizers.l2(0.001)))\n",
        "    model.add(Dropout(0.5))\n",
        "    model.add(Dense(num_classes, activation='softmax'))\n",
        "    model.compile(loss=keras.losses.categorical_crossentropy,\n",
        "                  # optimizer=keras.optimizers.Adadelta(),\n",
        "                  optimizer=keras.optimizers.Adam(),\n",
        "                  metrics=['accuracy'])\n",
        "\n",
        "    # datagen = ImageDataGenerator(\n",
        "    #     featurewise_center=False,  # set input mean to 0 over the dataset\n",
        "    #     samplewise_center=False,  # set each sample mean to 0\n",
        "    #     featurewise_std_normalization=False,  # divide inputs by std of the dataset\n",
        "    #     samplewise_std_normalization=False,  # divide each input by its std\n",
        "    #     zca_whitening=False,  # apply ZCA whitening\n",
        "    #     rotation_range=10,  # randomly rotate images in the range (degrees, 0 to 180)\n",
        "    #     width_shift_range=0.1,  # randomly shift images horizontally (fraction of total width)\n",
        "    #     height_shift_range=0.1,  # randomly shift images vertically (fraction of total height)\n",
        "    #     horizontal_flip=True,  # randomly flip images\n",
        "    #     vertical_flip=True)  # randomly flip images\n",
        "\n",
        "    datagen = ImageDataGenerator(\n",
        "     #rescale=1./255,\n",
        "    #rotation_range=10,\n",
        "    #width_shift_range=0.2,\n",
        "    #height_shift_range=0.2,\n",
        "    #shear_range=0.2,\n",
        "    #zoom_range=0.2,\n",
        "    horizontal_flip=True,\n",
        "    #vertical_flip=True,\n",
        "    # fill_mode='nearest',\n",
        "    # random_crop=True # enable random cropping\n",
        "    # width_crop=224, # specify width of the crop\n",
        "    # height_crop=224 # specify height of the crop\n",
        ")\n",
        "\n",
        "\n",
        "    history = model.fit_generator(datagen.flow(x_train,y_train, batch_size=32),\n",
        "                        steps_per_epoch=len(x_train) / 32, epochs=epochs, validation_data = [x_val, y_val],callbacks = [MetricsCheckpoint('logs')])\n",
        "\n",
        "    # history = model.fit(x_train, y_train, batch_size=batch_size, epochs=epochs, verbose=1, validation_data=(x_val, y_val))\n",
        "\n",
        "    return model, history"
      ],
      "metadata": {
        "id": "ck6BPuqgd1vi"
      },
      "execution_count": null,
      "outputs": []
    },
    {
      "cell_type": "code",
      "source": [
        "epochs = 60\n",
        "trained_model, hist = runKerasCNNAugment(xtrain, ytrain, xval, yval, 1, epochs)"
      ],
      "metadata": {
        "colab": {
          "base_uri": "https://localhost:8080/"
        },
        "id": "tyeRwgn-d-Lj",
        "outputId": "a0e3c26e-18ed-4112-ebd5-3d5b470a8c52"
      },
      "execution_count": null,
      "outputs": [
        {
          "output_type": "stream",
          "name": "stdout",
          "text": [
            "Epoch 1/60\n"
          ]
        },
        {
          "output_type": "stream",
          "name": "stderr",
          "text": [
            "<ipython-input-13-2cd2033a6a9f>:54: UserWarning: `Model.fit_generator` is deprecated and will be removed in a future version. Please use `Model.fit`, which supports generators.\n",
            "  history = model.fit_generator(datagen.flow(x_train,y_train, batch_size=32),\n"
          ]
        },
        {
          "output_type": "stream",
          "name": "stdout",
          "text": [
            "4/8 [=============>................] - ETA: 0s - loss: 709.6510 - accuracy: 0.3302"
          ]
        },
        {
          "output_type": "stream",
          "name": "stderr",
          "text": [
            "WARNING:tensorflow:Callback method `on_train_batch_end` is slow compared to the batch time (batch time: 0.0077s vs `on_train_batch_end` time: 0.0095s). Check your callbacks.\n"
          ]
        },
        {
          "output_type": "stream",
          "name": "stdout",
          "text": [
            "8/8 [==============================] - 1s 48ms/step - loss: 369.2173 - accuracy: 0.3722 - val_loss: 12.9249 - val_accuracy: 0.6383\n",
            "Epoch 2/60\n",
            "8/8 [==============================] - 0s 24ms/step - loss: 7.8302 - accuracy: 0.4098 - val_loss: 1.2643 - val_accuracy: 0.6170\n",
            "Epoch 3/60\n",
            "8/8 [==============================] - 0s 24ms/step - loss: 1.2051 - accuracy: 0.5113 - val_loss: 1.1199 - val_accuracy: 0.5745\n",
            "Epoch 4/60\n",
            "8/8 [==============================] - 0s 21ms/step - loss: 1.1272 - accuracy: 0.5677 - val_loss: 1.1460 - val_accuracy: 0.6383\n",
            "Epoch 5/60\n",
            "8/8 [==============================] - 0s 21ms/step - loss: 1.1455 - accuracy: 0.5865 - val_loss: 1.1153 - val_accuracy: 0.6383\n",
            "Epoch 6/60\n",
            "8/8 [==============================] - 0s 21ms/step - loss: 1.0443 - accuracy: 0.6391 - val_loss: 1.1144 - val_accuracy: 0.6170\n",
            "Epoch 7/60\n",
            "8/8 [==============================] - 0s 23ms/step - loss: 0.9703 - accuracy: 0.6316 - val_loss: 1.1487 - val_accuracy: 0.6596\n",
            "Epoch 8/60\n",
            "8/8 [==============================] - 0s 22ms/step - loss: 0.9709 - accuracy: 0.6429 - val_loss: 1.1117 - val_accuracy: 0.6596\n",
            "Epoch 9/60\n",
            "8/8 [==============================] - 0s 23ms/step - loss: 0.9053 - accuracy: 0.6429 - val_loss: 1.2408 - val_accuracy: 0.6596\n",
            "Epoch 10/60\n",
            "8/8 [==============================] - 0s 22ms/step - loss: 0.9126 - accuracy: 0.6842 - val_loss: 1.1544 - val_accuracy: 0.5745\n",
            "Epoch 11/60\n",
            "8/8 [==============================] - 0s 23ms/step - loss: 0.8487 - accuracy: 0.6729 - val_loss: 1.2131 - val_accuracy: 0.6596\n",
            "Epoch 12/60\n",
            "8/8 [==============================] - 0s 24ms/step - loss: 0.8265 - accuracy: 0.6955 - val_loss: 1.1342 - val_accuracy: 0.6596\n",
            "Epoch 13/60\n",
            "8/8 [==============================] - 0s 23ms/step - loss: 0.7789 - accuracy: 0.6917 - val_loss: 1.1275 - val_accuracy: 0.5957\n",
            "Epoch 14/60\n",
            "8/8 [==============================] - 0s 22ms/step - loss: 0.7994 - accuracy: 0.6992 - val_loss: 1.3171 - val_accuracy: 0.5745\n",
            "Epoch 15/60\n",
            "8/8 [==============================] - 0s 21ms/step - loss: 0.7694 - accuracy: 0.7556 - val_loss: 1.1160 - val_accuracy: 0.6383\n",
            "Epoch 16/60\n",
            "8/8 [==============================] - 0s 23ms/step - loss: 0.7417 - accuracy: 0.7594 - val_loss: 1.4305 - val_accuracy: 0.6170\n",
            "Epoch 17/60\n",
            "8/8 [==============================] - 0s 22ms/step - loss: 0.6461 - accuracy: 0.7481 - val_loss: 1.1828 - val_accuracy: 0.6170\n",
            "Epoch 18/60\n",
            "8/8 [==============================] - 0s 24ms/step - loss: 0.5629 - accuracy: 0.7744 - val_loss: 1.4281 - val_accuracy: 0.6809\n",
            "Epoch 19/60\n",
            "8/8 [==============================] - 0s 23ms/step - loss: 0.5932 - accuracy: 0.7895 - val_loss: 1.1235 - val_accuracy: 0.6809\n",
            "Epoch 20/60\n",
            "8/8 [==============================] - 0s 22ms/step - loss: 0.6099 - accuracy: 0.7895 - val_loss: 1.1173 - val_accuracy: 0.6596\n",
            "Epoch 21/60\n",
            "8/8 [==============================] - 0s 27ms/step - loss: 0.5750 - accuracy: 0.7970 - val_loss: 1.1422 - val_accuracy: 0.6596\n",
            "Epoch 22/60\n",
            "8/8 [==============================] - 0s 22ms/step - loss: 0.6298 - accuracy: 0.7857 - val_loss: 1.1296 - val_accuracy: 0.6383\n",
            "Epoch 23/60\n",
            "8/8 [==============================] - 0s 21ms/step - loss: 0.5335 - accuracy: 0.8045 - val_loss: 1.4829 - val_accuracy: 0.6383\n",
            "Epoch 24/60\n",
            "8/8 [==============================] - 0s 22ms/step - loss: 0.5089 - accuracy: 0.8158 - val_loss: 1.1973 - val_accuracy: 0.5745\n",
            "Epoch 25/60\n",
            "8/8 [==============================] - 0s 23ms/step - loss: 0.4783 - accuracy: 0.8496 - val_loss: 1.4987 - val_accuracy: 0.6596\n",
            "Epoch 26/60\n",
            "8/8 [==============================] - 0s 24ms/step - loss: 0.4554 - accuracy: 0.8346 - val_loss: 1.1689 - val_accuracy: 0.5957\n",
            "Epoch 27/60\n",
            "8/8 [==============================] - 0s 21ms/step - loss: 0.4602 - accuracy: 0.8271 - val_loss: 1.5774 - val_accuracy: 0.6383\n",
            "Epoch 28/60\n",
            "8/8 [==============================] - 0s 22ms/step - loss: 0.4484 - accuracy: 0.8195 - val_loss: 1.2659 - val_accuracy: 0.6596\n",
            "Epoch 29/60\n",
            "8/8 [==============================] - 0s 22ms/step - loss: 0.4241 - accuracy: 0.8609 - val_loss: 1.3516 - val_accuracy: 0.5957\n",
            "Epoch 30/60\n",
            "8/8 [==============================] - 0s 21ms/step - loss: 0.3937 - accuracy: 0.8383 - val_loss: 1.3745 - val_accuracy: 0.6383\n",
            "Epoch 31/60\n",
            "8/8 [==============================] - 0s 22ms/step - loss: 0.3314 - accuracy: 0.8985 - val_loss: 1.4168 - val_accuracy: 0.6383\n",
            "Epoch 32/60\n",
            "8/8 [==============================] - 0s 22ms/step - loss: 0.3184 - accuracy: 0.8872 - val_loss: 1.5771 - val_accuracy: 0.6383\n",
            "Epoch 33/60\n",
            "8/8 [==============================] - 0s 23ms/step - loss: 0.3262 - accuracy: 0.8722 - val_loss: 1.3844 - val_accuracy: 0.6170\n",
            "Epoch 34/60\n",
            "8/8 [==============================] - 0s 24ms/step - loss: 0.3557 - accuracy: 0.9023 - val_loss: 1.5071 - val_accuracy: 0.6383\n",
            "Epoch 35/60\n",
            "8/8 [==============================] - 0s 22ms/step - loss: 0.3187 - accuracy: 0.9060 - val_loss: 1.4447 - val_accuracy: 0.6596\n",
            "Epoch 36/60\n",
            "8/8 [==============================] - 0s 21ms/step - loss: 0.3415 - accuracy: 0.9135 - val_loss: 1.4479 - val_accuracy: 0.6809\n",
            "Epoch 37/60\n",
            "8/8 [==============================] - 0s 21ms/step - loss: 0.3228 - accuracy: 0.8835 - val_loss: 1.4050 - val_accuracy: 0.6383\n",
            "Epoch 38/60\n",
            "8/8 [==============================] - 0s 27ms/step - loss: 0.3104 - accuracy: 0.9060 - val_loss: 1.4938 - val_accuracy: 0.7021\n",
            "Epoch 39/60\n",
            "8/8 [==============================] - 0s 30ms/step - loss: 0.2609 - accuracy: 0.9023 - val_loss: 1.4169 - val_accuracy: 0.5957\n",
            "Epoch 40/60\n",
            "8/8 [==============================] - 0s 31ms/step - loss: 0.2531 - accuracy: 0.9323 - val_loss: 1.8419 - val_accuracy: 0.6596\n",
            "Epoch 41/60\n",
            "8/8 [==============================] - 0s 30ms/step - loss: 0.2061 - accuracy: 0.9398 - val_loss: 1.5085 - val_accuracy: 0.6596\n",
            "Epoch 42/60\n",
            "8/8 [==============================] - 0s 28ms/step - loss: 0.2647 - accuracy: 0.9248 - val_loss: 1.2722 - val_accuracy: 0.6383\n",
            "Epoch 43/60\n",
            "8/8 [==============================] - 0s 29ms/step - loss: 0.2826 - accuracy: 0.9211 - val_loss: 1.5282 - val_accuracy: 0.6383\n",
            "Epoch 44/60\n",
            "8/8 [==============================] - 0s 27ms/step - loss: 0.2155 - accuracy: 0.9173 - val_loss: 1.2002 - val_accuracy: 0.6170\n",
            "Epoch 45/60\n",
            "8/8 [==============================] - 0s 27ms/step - loss: 0.2581 - accuracy: 0.9173 - val_loss: 1.2598 - val_accuracy: 0.6383\n",
            "Epoch 46/60\n",
            "8/8 [==============================] - 0s 32ms/step - loss: 0.2724 - accuracy: 0.9211 - val_loss: 1.6424 - val_accuracy: 0.7021\n",
            "Epoch 47/60\n",
            "8/8 [==============================] - 0s 34ms/step - loss: 0.2151 - accuracy: 0.9323 - val_loss: 1.6622 - val_accuracy: 0.6596\n",
            "Epoch 48/60\n",
            "8/8 [==============================] - 0s 27ms/step - loss: 0.2884 - accuracy: 0.9286 - val_loss: 1.2764 - val_accuracy: 0.6170\n",
            "Epoch 49/60\n",
            "8/8 [==============================] - 0s 27ms/step - loss: 0.2382 - accuracy: 0.9511 - val_loss: 1.7544 - val_accuracy: 0.6809\n",
            "Epoch 50/60\n",
            "8/8 [==============================] - 0s 26ms/step - loss: 0.2342 - accuracy: 0.9248 - val_loss: 1.5217 - val_accuracy: 0.6596\n",
            "Epoch 51/60\n",
            "8/8 [==============================] - 0s 24ms/step - loss: 0.1989 - accuracy: 0.9286 - val_loss: 1.6416 - val_accuracy: 0.6596\n",
            "Epoch 52/60\n",
            "8/8 [==============================] - 0s 24ms/step - loss: 0.1584 - accuracy: 0.9662 - val_loss: 1.7536 - val_accuracy: 0.6383\n",
            "Epoch 53/60\n",
            "8/8 [==============================] - 0s 21ms/step - loss: 0.1571 - accuracy: 0.9586 - val_loss: 1.5562 - val_accuracy: 0.6383\n",
            "Epoch 54/60\n",
            "8/8 [==============================] - 0s 21ms/step - loss: 0.2099 - accuracy: 0.9398 - val_loss: 1.7540 - val_accuracy: 0.6596\n",
            "Epoch 55/60\n",
            "8/8 [==============================] - 0s 23ms/step - loss: 0.2478 - accuracy: 0.9323 - val_loss: 1.4928 - val_accuracy: 0.6170\n",
            "Epoch 56/60\n",
            "8/8 [==============================] - 0s 24ms/step - loss: 0.2087 - accuracy: 0.9286 - val_loss: 1.3940 - val_accuracy: 0.6383\n",
            "Epoch 57/60\n",
            "8/8 [==============================] - 0s 24ms/step - loss: 0.1835 - accuracy: 0.9549 - val_loss: 1.5230 - val_accuracy: 0.5745\n",
            "Epoch 58/60\n",
            "8/8 [==============================] - 0s 21ms/step - loss: 0.1935 - accuracy: 0.9474 - val_loss: 1.7752 - val_accuracy: 0.6596\n",
            "Epoch 59/60\n",
            "8/8 [==============================] - 0s 23ms/step - loss: 0.1901 - accuracy: 0.9398 - val_loss: 1.4015 - val_accuracy: 0.5957\n",
            "Epoch 60/60\n",
            "8/8 [==============================] - 0s 22ms/step - loss: 0.1479 - accuracy: 0.9511 - val_loss: 1.4877 - val_accuracy: 0.6170\n"
          ]
        }
      ]
    },
    {
      "cell_type": "code",
      "source": [
        "# Results on Train Set\n",
        "\n",
        "score = trained_model.evaluate(xtrain, ytrain, verbose=0)\n",
        "print('\\nKeras CNN #1C - accuracy:', score[1],'\\n')\n",
        "print('Train loss:', score[0])\n",
        "print('Train accuracy:', score[1])\n",
        "\n",
        "y_pred = trained_model.predict(xtrain)\n",
        "map_characters = label_dict\n",
        "print('\\n', sklearn.metrics.classification_report(np.where(ytrain > 0)[1], np.argmax(y_pred, axis=1), target_names=list(map_characters.keys())), sep='')\n",
        "Y_pred_classes = np.argmax(y_pred,axis=1)\n",
        "Y_true = np.argmax(ytrain,axis=1)\n",
        "# plotKerasLearningCurve()\n",
        "# plt.show()\n",
        "plot_learning_curve(hist)\n",
        "# plt.show()\n",
        "confusion_mtx = confusion_matrix(Y_true, Y_pred_classes)\n",
        "plot_confusion_matrix(confusion_mtx, classes = [0, 1, 2, 3])\n",
        "# plot_confusion_matrix(confusion_mtx, classes = list(label_dict.values()))\n",
        "\n",
        "plt.show()"
      ],
      "metadata": {
        "colab": {
          "base_uri": "https://localhost:8080/",
          "height": 1000
        },
        "id": "0US9QFGdBE3v",
        "outputId": "84eac5ad-acbe-49fd-866b-e793d93c39fb"
      },
      "execution_count": null,
      "outputs": [
        {
          "output_type": "stream",
          "name": "stdout",
          "text": [
            "\n",
            "Keras CNN #1C - accuracy: 0.9887217879295349 \n",
            "\n",
            "Train loss: 0.05837692320346832\n",
            "Train accuracy: 0.9887217879295349\n",
            "9/9 [==============================] - 0s 6ms/step\n",
            "\n",
            "              precision    recall  f1-score   support\n",
            "\n",
            "         eos       0.99      0.99      0.99        69\n",
            "       lymph       1.00      1.00      1.00        27\n",
            "        mono       0.94      1.00      0.97        17\n",
            "      neutro       0.99      0.99      0.99       153\n",
            "\n",
            "    accuracy                           0.99       266\n",
            "   macro avg       0.98      0.99      0.99       266\n",
            "weighted avg       0.99      0.99      0.99       266\n",
            "\n"
          ]
        },
        {
          "output_type": "display_data",
          "data": {
            "text/plain": [
              "<Figure size 576x576 with 2 Axes>"
            ],
            "image/png": "[encoded data removed]"
          },
          "metadata": {
            "needs_background": "light"
          }
        },
        {
          "output_type": "display_data",
          "data": {
            "text/plain": [
              "<Figure size 360x360 with 2 Axes>"
            ],
            "image/png": "[encoded data removed]"
          },
          "metadata": {
            "needs_background": "light"
          }
        }
      ]
    },
    {
      "cell_type": "code",
      "source": [
        "# Results on Test Set\n",
        "\n",
        "score = trained_model.evaluate(xtest, ytest, verbose=0)\n",
        "print('\\nKeras CNN #1C - accuracy:', score[1],'\\n')\n",
        "print('Test loss:', score[0])\n",
        "print('Test accuracy:', score[1])\n",
        "\n",
        "y_pred = trained_model.predict(xtest)\n",
        "map_characters = label_dict\n",
        "print('\\n', sklearn.metrics.classification_report(np.where(ytest > 0)[1], np.argmax(y_pred, axis=1), target_names=list(map_characters.keys())), sep='')\n",
        "Y_pred_classes = np.argmax(y_pred,axis=1)\n",
        "Y_true = np.argmax(ytest,axis=1)\n",
        "# plotKerasLearningCurve()\n",
        "# plt.show()\n",
        "# plot_learning_curve(hist)\n",
        "plt.show()\n",
        "confusion_mtx = confusion_matrix(Y_true, Y_pred_classes)\n",
        "plot_confusion_matrix(confusion_mtx, classes = [0, 1, 2, 3])\n",
        "# plot_confusion_matrix(confusion_mtx, classes = list(label_dict.values()))\n",
        "plt.show()"
      ],
      "metadata": {
        "colab": {
          "base_uri": "https://localhost:8080/",
          "height": 695
        },
        "id": "-cA5diabnDTu",
        "outputId": "c271e751-8d1d-4fc9-8bb5-cfa401804b46"
      },
      "execution_count": null,
      "outputs": [
        {
          "output_type": "stream",
          "name": "stdout",
          "text": [
            "\n",
            "Keras CNN #1C - accuracy: 0.625 \n",
            "\n",
            "Test loss: 1.6664867401123047\n",
            "Test accuracy: 0.625\n",
            "2/2 [==============================] - 0s 6ms/step\n",
            "\n",
            "              precision    recall  f1-score   support\n",
            "\n",
            "         eos       0.64      0.44      0.52        16\n",
            "       lymph       0.33      0.33      0.33         6\n",
            "        mono       0.00      0.00      0.00         2\n",
            "      neutro       0.68      0.81      0.74        32\n",
            "\n",
            "    accuracy                           0.62        56\n",
            "   macro avg       0.41      0.40      0.40        56\n",
            "weighted avg       0.61      0.62      0.61        56\n",
            "\n"
          ]
        },
        {
          "output_type": "display_data",
          "data": {
            "text/plain": [
              "<Figure size 360x360 with 2 Axes>"
            ],
            "image/png": "[encoded data removed]"
          },
          "metadata": {
            "needs_background": "light"
          }
        }
      ]
    },
    {
      "cell_type": "code",
      "source": [
        "# save the trained model\n",
        "modelPath = basePath + '/models/'\n",
        "trained_model.save(modelPath + 'cnn-og-trad.h5')\n",
        "\n",
        "# save the history object\n",
        "with open(modelPath + 'hist-cnn-og-trad.pickle', 'wb') as handle:\n",
        "    pickle.dump(hist.history, handle, protocol=pickle.HIGHEST_PROTOCOL)"
      ],
      "metadata": {
        "id": "FEBzi1Bqd-GW"
      },
      "execution_count": null,
      "outputs": []
    },
    {
      "cell_type": "code",
      "source": [],
      "metadata": {
        "id": "dzOXt7JJyxMI"
      },
      "execution_count": null,
      "outputs": []
    }
  ]
}